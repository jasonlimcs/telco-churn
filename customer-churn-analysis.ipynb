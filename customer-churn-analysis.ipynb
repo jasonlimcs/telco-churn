{
 "cells": [
  {
   "cell_type": "code",
   "execution_count": 31,
   "id": "1d65957b",
   "metadata": {},
   "outputs": [],
   "source": [
    "import pandas as pd \n",
    "import numpy as np\n",
    "import matplotlib.pyplot as plt\n",
    "import seaborn as sns \n",
    "import plotly.express as px"
   ]
  },
  {
   "cell_type": "code",
   "execution_count": 2,
   "id": "74291566",
   "metadata": {},
   "outputs": [
    {
     "data": {
      "text/html": [
       "<div>\n",
       "<style scoped>\n",
       "    .dataframe tbody tr th:only-of-type {\n",
       "        vertical-align: middle;\n",
       "    }\n",
       "\n",
       "    .dataframe tbody tr th {\n",
       "        vertical-align: top;\n",
       "    }\n",
       "\n",
       "    .dataframe thead th {\n",
       "        text-align: right;\n",
       "    }\n",
       "</style>\n",
       "<table border=\"1\" class=\"dataframe\">\n",
       "  <thead>\n",
       "    <tr style=\"text-align: right;\">\n",
       "      <th></th>\n",
       "      <th>CustomerID</th>\n",
       "      <th>Count</th>\n",
       "      <th>Country</th>\n",
       "      <th>State</th>\n",
       "      <th>City</th>\n",
       "      <th>Zip Code</th>\n",
       "      <th>Lat Long</th>\n",
       "      <th>Latitude</th>\n",
       "      <th>Longitude</th>\n",
       "      <th>Gender</th>\n",
       "      <th>...</th>\n",
       "      <th>Contract</th>\n",
       "      <th>Paperless Billing</th>\n",
       "      <th>Payment Method</th>\n",
       "      <th>Monthly Charges</th>\n",
       "      <th>Total Charges</th>\n",
       "      <th>Churn Label</th>\n",
       "      <th>Churn Value</th>\n",
       "      <th>Churn Score</th>\n",
       "      <th>CLTV</th>\n",
       "      <th>Churn Reason</th>\n",
       "    </tr>\n",
       "  </thead>\n",
       "  <tbody>\n",
       "    <tr>\n",
       "      <th>0</th>\n",
       "      <td>3668-QPYBK</td>\n",
       "      <td>1</td>\n",
       "      <td>United States</td>\n",
       "      <td>California</td>\n",
       "      <td>Los Angeles</td>\n",
       "      <td>90003</td>\n",
       "      <td>33.964131, -118.272783</td>\n",
       "      <td>33.964131</td>\n",
       "      <td>-118.272783</td>\n",
       "      <td>Male</td>\n",
       "      <td>...</td>\n",
       "      <td>Month-to-month</td>\n",
       "      <td>Yes</td>\n",
       "      <td>Mailed check</td>\n",
       "      <td>53.85</td>\n",
       "      <td>108.15</td>\n",
       "      <td>Yes</td>\n",
       "      <td>1</td>\n",
       "      <td>86</td>\n",
       "      <td>3239</td>\n",
       "      <td>Competitor made better offer</td>\n",
       "    </tr>\n",
       "    <tr>\n",
       "      <th>1</th>\n",
       "      <td>9237-HQITU</td>\n",
       "      <td>1</td>\n",
       "      <td>United States</td>\n",
       "      <td>California</td>\n",
       "      <td>Los Angeles</td>\n",
       "      <td>90005</td>\n",
       "      <td>34.059281, -118.30742</td>\n",
       "      <td>34.059281</td>\n",
       "      <td>-118.307420</td>\n",
       "      <td>Female</td>\n",
       "      <td>...</td>\n",
       "      <td>Month-to-month</td>\n",
       "      <td>Yes</td>\n",
       "      <td>Electronic check</td>\n",
       "      <td>70.70</td>\n",
       "      <td>151.65</td>\n",
       "      <td>Yes</td>\n",
       "      <td>1</td>\n",
       "      <td>67</td>\n",
       "      <td>2701</td>\n",
       "      <td>Moved</td>\n",
       "    </tr>\n",
       "    <tr>\n",
       "      <th>2</th>\n",
       "      <td>9305-CDSKC</td>\n",
       "      <td>1</td>\n",
       "      <td>United States</td>\n",
       "      <td>California</td>\n",
       "      <td>Los Angeles</td>\n",
       "      <td>90006</td>\n",
       "      <td>34.048013, -118.293953</td>\n",
       "      <td>34.048013</td>\n",
       "      <td>-118.293953</td>\n",
       "      <td>Female</td>\n",
       "      <td>...</td>\n",
       "      <td>Month-to-month</td>\n",
       "      <td>Yes</td>\n",
       "      <td>Electronic check</td>\n",
       "      <td>99.65</td>\n",
       "      <td>820.5</td>\n",
       "      <td>Yes</td>\n",
       "      <td>1</td>\n",
       "      <td>86</td>\n",
       "      <td>5372</td>\n",
       "      <td>Moved</td>\n",
       "    </tr>\n",
       "    <tr>\n",
       "      <th>3</th>\n",
       "      <td>7892-POOKP</td>\n",
       "      <td>1</td>\n",
       "      <td>United States</td>\n",
       "      <td>California</td>\n",
       "      <td>Los Angeles</td>\n",
       "      <td>90010</td>\n",
       "      <td>34.062125, -118.315709</td>\n",
       "      <td>34.062125</td>\n",
       "      <td>-118.315709</td>\n",
       "      <td>Female</td>\n",
       "      <td>...</td>\n",
       "      <td>Month-to-month</td>\n",
       "      <td>Yes</td>\n",
       "      <td>Electronic check</td>\n",
       "      <td>104.80</td>\n",
       "      <td>3046.05</td>\n",
       "      <td>Yes</td>\n",
       "      <td>1</td>\n",
       "      <td>84</td>\n",
       "      <td>5003</td>\n",
       "      <td>Moved</td>\n",
       "    </tr>\n",
       "    <tr>\n",
       "      <th>4</th>\n",
       "      <td>0280-XJGEX</td>\n",
       "      <td>1</td>\n",
       "      <td>United States</td>\n",
       "      <td>California</td>\n",
       "      <td>Los Angeles</td>\n",
       "      <td>90015</td>\n",
       "      <td>34.039224, -118.266293</td>\n",
       "      <td>34.039224</td>\n",
       "      <td>-118.266293</td>\n",
       "      <td>Male</td>\n",
       "      <td>...</td>\n",
       "      <td>Month-to-month</td>\n",
       "      <td>Yes</td>\n",
       "      <td>Bank transfer (automatic)</td>\n",
       "      <td>103.70</td>\n",
       "      <td>5036.3</td>\n",
       "      <td>Yes</td>\n",
       "      <td>1</td>\n",
       "      <td>89</td>\n",
       "      <td>5340</td>\n",
       "      <td>Competitor had better devices</td>\n",
       "    </tr>\n",
       "  </tbody>\n",
       "</table>\n",
       "<p>5 rows × 33 columns</p>\n",
       "</div>"
      ],
      "text/plain": [
       "   CustomerID  Count        Country       State         City  Zip Code  \\\n",
       "0  3668-QPYBK      1  United States  California  Los Angeles     90003   \n",
       "1  9237-HQITU      1  United States  California  Los Angeles     90005   \n",
       "2  9305-CDSKC      1  United States  California  Los Angeles     90006   \n",
       "3  7892-POOKP      1  United States  California  Los Angeles     90010   \n",
       "4  0280-XJGEX      1  United States  California  Los Angeles     90015   \n",
       "\n",
       "                 Lat Long   Latitude   Longitude  Gender  ...        Contract  \\\n",
       "0  33.964131, -118.272783  33.964131 -118.272783    Male  ...  Month-to-month   \n",
       "1   34.059281, -118.30742  34.059281 -118.307420  Female  ...  Month-to-month   \n",
       "2  34.048013, -118.293953  34.048013 -118.293953  Female  ...  Month-to-month   \n",
       "3  34.062125, -118.315709  34.062125 -118.315709  Female  ...  Month-to-month   \n",
       "4  34.039224, -118.266293  34.039224 -118.266293    Male  ...  Month-to-month   \n",
       "\n",
       "  Paperless Billing             Payment Method  Monthly Charges Total Charges  \\\n",
       "0               Yes               Mailed check            53.85        108.15   \n",
       "1               Yes           Electronic check            70.70        151.65   \n",
       "2               Yes           Electronic check            99.65         820.5   \n",
       "3               Yes           Electronic check           104.80       3046.05   \n",
       "4               Yes  Bank transfer (automatic)           103.70        5036.3   \n",
       "\n",
       "  Churn Label Churn Value Churn Score  CLTV                   Churn Reason  \n",
       "0         Yes           1          86  3239   Competitor made better offer  \n",
       "1         Yes           1          67  2701                          Moved  \n",
       "2         Yes           1          86  5372                          Moved  \n",
       "3         Yes           1          84  5003                          Moved  \n",
       "4         Yes           1          89  5340  Competitor had better devices  \n",
       "\n",
       "[5 rows x 33 columns]"
      ]
     },
     "execution_count": 2,
     "metadata": {},
     "output_type": "execute_result"
    }
   ],
   "source": [
    "df = pd.read_csv('data/Telco_customer_churn.csv')\n",
    "df.head()"
   ]
  },
  {
   "cell_type": "markdown",
   "id": "b2d33baa",
   "metadata": {},
   "source": [
    "# Data Review and Cleaning"
   ]
  },
  {
   "cell_type": "code",
   "execution_count": 3,
   "id": "e40268b8",
   "metadata": {},
   "outputs": [
    {
     "name": "stdout",
     "output_type": "stream",
     "text": [
      "<class 'pandas.core.frame.DataFrame'>\n",
      "RangeIndex: 7043 entries, 0 to 7042\n",
      "Data columns (total 33 columns):\n",
      " #   Column             Non-Null Count  Dtype  \n",
      "---  ------             --------------  -----  \n",
      " 0   CustomerID         7043 non-null   object \n",
      " 1   Count              7043 non-null   int64  \n",
      " 2   Country            7043 non-null   object \n",
      " 3   State              7043 non-null   object \n",
      " 4   City               7043 non-null   object \n",
      " 5   Zip Code           7043 non-null   int64  \n",
      " 6   Lat Long           7043 non-null   object \n",
      " 7   Latitude           7043 non-null   float64\n",
      " 8   Longitude          7043 non-null   float64\n",
      " 9   Gender             7043 non-null   object \n",
      " 10  Senior Citizen     7043 non-null   object \n",
      " 11  Partner            7043 non-null   object \n",
      " 12  Dependents         7043 non-null   object \n",
      " 13  Tenure Months      7043 non-null   int64  \n",
      " 14  Phone Service      7043 non-null   object \n",
      " 15  Multiple Lines     7043 non-null   object \n",
      " 16  Internet Service   7043 non-null   object \n",
      " 17  Online Security    7043 non-null   object \n",
      " 18  Online Backup      7043 non-null   object \n",
      " 19  Device Protection  7043 non-null   object \n",
      " 20  Tech Support       7043 non-null   object \n",
      " 21  Streaming TV       7043 non-null   object \n",
      " 22  Streaming Movies   7043 non-null   object \n",
      " 23  Contract           7043 non-null   object \n",
      " 24  Paperless Billing  7043 non-null   object \n",
      " 25  Payment Method     7043 non-null   object \n",
      " 26  Monthly Charges    7043 non-null   float64\n",
      " 27  Total Charges      7043 non-null   object \n",
      " 28  Churn Label        7043 non-null   object \n",
      " 29  Churn Value        7043 non-null   int64  \n",
      " 30  Churn Score        7043 non-null   int64  \n",
      " 31  CLTV               7043 non-null   int64  \n",
      " 32  Churn Reason       1869 non-null   object \n",
      "dtypes: float64(3), int64(6), object(24)\n",
      "memory usage: 1.8+ MB\n"
     ]
    }
   ],
   "source": [
    "df.info()"
   ]
  },
  {
   "cell_type": "markdown",
   "id": "a81395f0",
   "metadata": {},
   "source": [
    "Total charges has the object datatype but it is numerical data."
   ]
  },
  {
   "cell_type": "code",
   "execution_count": 11,
   "id": "76da0989",
   "metadata": {},
   "outputs": [],
   "source": [
    "df['Total Charges'] = pd.to_numeric(df['Total Charges'], errors='coerce')"
   ]
  },
  {
   "cell_type": "code",
   "execution_count": 14,
   "id": "38a6d717",
   "metadata": {},
   "outputs": [
    {
     "data": {
      "text/html": [
       "<div>\n",
       "<style scoped>\n",
       "    .dataframe tbody tr th:only-of-type {\n",
       "        vertical-align: middle;\n",
       "    }\n",
       "\n",
       "    .dataframe tbody tr th {\n",
       "        vertical-align: top;\n",
       "    }\n",
       "\n",
       "    .dataframe thead th {\n",
       "        text-align: right;\n",
       "    }\n",
       "</style>\n",
       "<table border=\"1\" class=\"dataframe\">\n",
       "  <thead>\n",
       "    <tr style=\"text-align: right;\">\n",
       "      <th></th>\n",
       "      <th>no of nulls</th>\n",
       "      <th>mean of nulls</th>\n",
       "    </tr>\n",
       "  </thead>\n",
       "  <tbody>\n",
       "    <tr>\n",
       "      <th>CustomerID</th>\n",
       "      <td>0</td>\n",
       "      <td>0.000000</td>\n",
       "    </tr>\n",
       "    <tr>\n",
       "      <th>Count</th>\n",
       "      <td>0</td>\n",
       "      <td>0.000000</td>\n",
       "    </tr>\n",
       "    <tr>\n",
       "      <th>Country</th>\n",
       "      <td>0</td>\n",
       "      <td>0.000000</td>\n",
       "    </tr>\n",
       "    <tr>\n",
       "      <th>State</th>\n",
       "      <td>0</td>\n",
       "      <td>0.000000</td>\n",
       "    </tr>\n",
       "    <tr>\n",
       "      <th>City</th>\n",
       "      <td>0</td>\n",
       "      <td>0.000000</td>\n",
       "    </tr>\n",
       "    <tr>\n",
       "      <th>Zip Code</th>\n",
       "      <td>0</td>\n",
       "      <td>0.000000</td>\n",
       "    </tr>\n",
       "    <tr>\n",
       "      <th>Lat Long</th>\n",
       "      <td>0</td>\n",
       "      <td>0.000000</td>\n",
       "    </tr>\n",
       "    <tr>\n",
       "      <th>Latitude</th>\n",
       "      <td>0</td>\n",
       "      <td>0.000000</td>\n",
       "    </tr>\n",
       "    <tr>\n",
       "      <th>Longitude</th>\n",
       "      <td>0</td>\n",
       "      <td>0.000000</td>\n",
       "    </tr>\n",
       "    <tr>\n",
       "      <th>Gender</th>\n",
       "      <td>0</td>\n",
       "      <td>0.000000</td>\n",
       "    </tr>\n",
       "    <tr>\n",
       "      <th>Senior Citizen</th>\n",
       "      <td>0</td>\n",
       "      <td>0.000000</td>\n",
       "    </tr>\n",
       "    <tr>\n",
       "      <th>Partner</th>\n",
       "      <td>0</td>\n",
       "      <td>0.000000</td>\n",
       "    </tr>\n",
       "    <tr>\n",
       "      <th>Dependents</th>\n",
       "      <td>0</td>\n",
       "      <td>0.000000</td>\n",
       "    </tr>\n",
       "    <tr>\n",
       "      <th>Tenure Months</th>\n",
       "      <td>0</td>\n",
       "      <td>0.000000</td>\n",
       "    </tr>\n",
       "    <tr>\n",
       "      <th>Phone Service</th>\n",
       "      <td>0</td>\n",
       "      <td>0.000000</td>\n",
       "    </tr>\n",
       "    <tr>\n",
       "      <th>Multiple Lines</th>\n",
       "      <td>0</td>\n",
       "      <td>0.000000</td>\n",
       "    </tr>\n",
       "    <tr>\n",
       "      <th>Internet Service</th>\n",
       "      <td>0</td>\n",
       "      <td>0.000000</td>\n",
       "    </tr>\n",
       "    <tr>\n",
       "      <th>Online Security</th>\n",
       "      <td>0</td>\n",
       "      <td>0.000000</td>\n",
       "    </tr>\n",
       "    <tr>\n",
       "      <th>Online Backup</th>\n",
       "      <td>0</td>\n",
       "      <td>0.000000</td>\n",
       "    </tr>\n",
       "    <tr>\n",
       "      <th>Device Protection</th>\n",
       "      <td>0</td>\n",
       "      <td>0.000000</td>\n",
       "    </tr>\n",
       "    <tr>\n",
       "      <th>Tech Support</th>\n",
       "      <td>0</td>\n",
       "      <td>0.000000</td>\n",
       "    </tr>\n",
       "    <tr>\n",
       "      <th>Streaming TV</th>\n",
       "      <td>0</td>\n",
       "      <td>0.000000</td>\n",
       "    </tr>\n",
       "    <tr>\n",
       "      <th>Streaming Movies</th>\n",
       "      <td>0</td>\n",
       "      <td>0.000000</td>\n",
       "    </tr>\n",
       "    <tr>\n",
       "      <th>Contract</th>\n",
       "      <td>0</td>\n",
       "      <td>0.000000</td>\n",
       "    </tr>\n",
       "    <tr>\n",
       "      <th>Paperless Billing</th>\n",
       "      <td>0</td>\n",
       "      <td>0.000000</td>\n",
       "    </tr>\n",
       "    <tr>\n",
       "      <th>Payment Method</th>\n",
       "      <td>0</td>\n",
       "      <td>0.000000</td>\n",
       "    </tr>\n",
       "    <tr>\n",
       "      <th>Monthly Charges</th>\n",
       "      <td>0</td>\n",
       "      <td>0.000000</td>\n",
       "    </tr>\n",
       "    <tr>\n",
       "      <th>Total Charges</th>\n",
       "      <td>11</td>\n",
       "      <td>0.001562</td>\n",
       "    </tr>\n",
       "    <tr>\n",
       "      <th>Churn Label</th>\n",
       "      <td>0</td>\n",
       "      <td>0.000000</td>\n",
       "    </tr>\n",
       "    <tr>\n",
       "      <th>Churn Value</th>\n",
       "      <td>0</td>\n",
       "      <td>0.000000</td>\n",
       "    </tr>\n",
       "    <tr>\n",
       "      <th>Churn Score</th>\n",
       "      <td>0</td>\n",
       "      <td>0.000000</td>\n",
       "    </tr>\n",
       "    <tr>\n",
       "      <th>CLTV</th>\n",
       "      <td>0</td>\n",
       "      <td>0.000000</td>\n",
       "    </tr>\n",
       "    <tr>\n",
       "      <th>Churn Reason</th>\n",
       "      <td>5174</td>\n",
       "      <td>0.734630</td>\n",
       "    </tr>\n",
       "  </tbody>\n",
       "</table>\n",
       "</div>"
      ],
      "text/plain": [
       "                   no of nulls  mean of nulls\n",
       "CustomerID                   0       0.000000\n",
       "Count                        0       0.000000\n",
       "Country                      0       0.000000\n",
       "State                        0       0.000000\n",
       "City                         0       0.000000\n",
       "Zip Code                     0       0.000000\n",
       "Lat Long                     0       0.000000\n",
       "Latitude                     0       0.000000\n",
       "Longitude                    0       0.000000\n",
       "Gender                       0       0.000000\n",
       "Senior Citizen               0       0.000000\n",
       "Partner                      0       0.000000\n",
       "Dependents                   0       0.000000\n",
       "Tenure Months                0       0.000000\n",
       "Phone Service                0       0.000000\n",
       "Multiple Lines               0       0.000000\n",
       "Internet Service             0       0.000000\n",
       "Online Security              0       0.000000\n",
       "Online Backup                0       0.000000\n",
       "Device Protection            0       0.000000\n",
       "Tech Support                 0       0.000000\n",
       "Streaming TV                 0       0.000000\n",
       "Streaming Movies             0       0.000000\n",
       "Contract                     0       0.000000\n",
       "Paperless Billing            0       0.000000\n",
       "Payment Method               0       0.000000\n",
       "Monthly Charges              0       0.000000\n",
       "Total Charges               11       0.001562\n",
       "Churn Label                  0       0.000000\n",
       "Churn Value                  0       0.000000\n",
       "Churn Score                  0       0.000000\n",
       "CLTV                         0       0.000000\n",
       "Churn Reason              5174       0.734630"
      ]
     },
     "execution_count": 14,
     "metadata": {},
     "output_type": "execute_result"
    }
   ],
   "source": [
    "missing_data = pd.DataFrame({'no of nulls': df.isna().sum(), 'mean of nulls': df.isna().mean()})\n",
    "missing_data"
   ]
  },
  {
   "cell_type": "markdown",
   "id": "6696c3d8",
   "metadata": {},
   "source": [
    "About 73% (5174) of values in the `Churn Reason` column is missing data."
   ]
  },
  {
   "cell_type": "code",
   "execution_count": 16,
   "id": "5da2053f",
   "metadata": {},
   "outputs": [
    {
     "data": {
      "text/plain": [
       "Churn Label\n",
       "No     0.73463\n",
       "Yes    0.26537\n",
       "Name: proportion, dtype: float64"
      ]
     },
     "execution_count": 16,
     "metadata": {},
     "output_type": "execute_result"
    }
   ],
   "source": [
    "df['Churn Label'].value_counts(normalize=True)"
   ]
  },
  {
   "cell_type": "markdown",
   "id": "2e8c42e4",
   "metadata": {},
   "source": [
    "We see that about 73% of customers have the Churn Label 'No' so they do not need a Churn Reason."
   ]
  },
  {
   "cell_type": "code",
   "execution_count": 17,
   "id": "0717db1a",
   "metadata": {},
   "outputs": [
    {
     "data": {
      "text/plain": [
       "Churn Reason\n",
       "Attitude of support person                   192\n",
       "Competitor offered higher download speeds    189\n",
       "Competitor offered more data                 162\n",
       "Don't know                                   154\n",
       "Competitor made better offer                 140\n",
       "Attitude of service provider                 135\n",
       "Competitor had better devices                130\n",
       "Network reliability                          103\n",
       "Product dissatisfaction                      102\n",
       "Price too high                                98\n",
       "Service dissatisfaction                       89\n",
       "Lack of self-service on Website               88\n",
       "Extra data charges                            57\n",
       "Moved                                         53\n",
       "Limited range of services                     44\n",
       "Long distance charges                         44\n",
       "Lack of affordable download/upload speed      44\n",
       "Poor expertise of phone support               20\n",
       "Poor expertise of online support              19\n",
       "Deceased                                       6\n",
       "Name: count, dtype: int64"
      ]
     },
     "execution_count": 17,
     "metadata": {},
     "output_type": "execute_result"
    }
   ],
   "source": [
    "df['Churn Reason'].value_counts()"
   ]
  },
  {
   "cell_type": "markdown",
   "id": "1fb1e80f",
   "metadata": {},
   "source": [
    "A couple of values(11) in the `Total Charges` column is also missing data."
   ]
  },
  {
   "cell_type": "code",
   "execution_count": 18,
   "id": "71f9d539",
   "metadata": {},
   "outputs": [
    {
     "data": {
      "text/html": [
       "<div>\n",
       "<style scoped>\n",
       "    .dataframe tbody tr th:only-of-type {\n",
       "        vertical-align: middle;\n",
       "    }\n",
       "\n",
       "    .dataframe tbody tr th {\n",
       "        vertical-align: top;\n",
       "    }\n",
       "\n",
       "    .dataframe thead th {\n",
       "        text-align: right;\n",
       "    }\n",
       "</style>\n",
       "<table border=\"1\" class=\"dataframe\">\n",
       "  <thead>\n",
       "    <tr style=\"text-align: right;\">\n",
       "      <th></th>\n",
       "      <th>CustomerID</th>\n",
       "      <th>Count</th>\n",
       "      <th>Country</th>\n",
       "      <th>State</th>\n",
       "      <th>City</th>\n",
       "      <th>Zip Code</th>\n",
       "      <th>Lat Long</th>\n",
       "      <th>Latitude</th>\n",
       "      <th>Longitude</th>\n",
       "      <th>Gender</th>\n",
       "      <th>...</th>\n",
       "      <th>Contract</th>\n",
       "      <th>Paperless Billing</th>\n",
       "      <th>Payment Method</th>\n",
       "      <th>Monthly Charges</th>\n",
       "      <th>Total Charges</th>\n",
       "      <th>Churn Label</th>\n",
       "      <th>Churn Value</th>\n",
       "      <th>Churn Score</th>\n",
       "      <th>CLTV</th>\n",
       "      <th>Churn Reason</th>\n",
       "    </tr>\n",
       "  </thead>\n",
       "  <tbody>\n",
       "    <tr>\n",
       "      <th>2234</th>\n",
       "      <td>4472-LVYGI</td>\n",
       "      <td>1</td>\n",
       "      <td>United States</td>\n",
       "      <td>California</td>\n",
       "      <td>San Bernardino</td>\n",
       "      <td>92408</td>\n",
       "      <td>34.084909, -117.258107</td>\n",
       "      <td>34.084909</td>\n",
       "      <td>-117.258107</td>\n",
       "      <td>Female</td>\n",
       "      <td>...</td>\n",
       "      <td>Two year</td>\n",
       "      <td>Yes</td>\n",
       "      <td>Bank transfer (automatic)</td>\n",
       "      <td>52.55</td>\n",
       "      <td>NaN</td>\n",
       "      <td>No</td>\n",
       "      <td>0</td>\n",
       "      <td>36</td>\n",
       "      <td>2578</td>\n",
       "      <td>NaN</td>\n",
       "    </tr>\n",
       "    <tr>\n",
       "      <th>2438</th>\n",
       "      <td>3115-CZMZD</td>\n",
       "      <td>1</td>\n",
       "      <td>United States</td>\n",
       "      <td>California</td>\n",
       "      <td>Independence</td>\n",
       "      <td>93526</td>\n",
       "      <td>36.869584, -118.189241</td>\n",
       "      <td>36.869584</td>\n",
       "      <td>-118.189241</td>\n",
       "      <td>Male</td>\n",
       "      <td>...</td>\n",
       "      <td>Two year</td>\n",
       "      <td>No</td>\n",
       "      <td>Mailed check</td>\n",
       "      <td>20.25</td>\n",
       "      <td>NaN</td>\n",
       "      <td>No</td>\n",
       "      <td>0</td>\n",
       "      <td>68</td>\n",
       "      <td>5504</td>\n",
       "      <td>NaN</td>\n",
       "    </tr>\n",
       "    <tr>\n",
       "      <th>2568</th>\n",
       "      <td>5709-LVOEQ</td>\n",
       "      <td>1</td>\n",
       "      <td>United States</td>\n",
       "      <td>California</td>\n",
       "      <td>San Mateo</td>\n",
       "      <td>94401</td>\n",
       "      <td>37.590421, -122.306467</td>\n",
       "      <td>37.590421</td>\n",
       "      <td>-122.306467</td>\n",
       "      <td>Female</td>\n",
       "      <td>...</td>\n",
       "      <td>Two year</td>\n",
       "      <td>No</td>\n",
       "      <td>Mailed check</td>\n",
       "      <td>80.85</td>\n",
       "      <td>NaN</td>\n",
       "      <td>No</td>\n",
       "      <td>0</td>\n",
       "      <td>45</td>\n",
       "      <td>2048</td>\n",
       "      <td>NaN</td>\n",
       "    </tr>\n",
       "    <tr>\n",
       "      <th>2667</th>\n",
       "      <td>4367-NUYAO</td>\n",
       "      <td>1</td>\n",
       "      <td>United States</td>\n",
       "      <td>California</td>\n",
       "      <td>Cupertino</td>\n",
       "      <td>95014</td>\n",
       "      <td>37.306612, -122.080621</td>\n",
       "      <td>37.306612</td>\n",
       "      <td>-122.080621</td>\n",
       "      <td>Male</td>\n",
       "      <td>...</td>\n",
       "      <td>Two year</td>\n",
       "      <td>No</td>\n",
       "      <td>Mailed check</td>\n",
       "      <td>25.75</td>\n",
       "      <td>NaN</td>\n",
       "      <td>No</td>\n",
       "      <td>0</td>\n",
       "      <td>48</td>\n",
       "      <td>4950</td>\n",
       "      <td>NaN</td>\n",
       "    </tr>\n",
       "    <tr>\n",
       "      <th>2856</th>\n",
       "      <td>1371-DWPAZ</td>\n",
       "      <td>1</td>\n",
       "      <td>United States</td>\n",
       "      <td>California</td>\n",
       "      <td>Redcrest</td>\n",
       "      <td>95569</td>\n",
       "      <td>40.363446, -123.835041</td>\n",
       "      <td>40.363446</td>\n",
       "      <td>-123.835041</td>\n",
       "      <td>Female</td>\n",
       "      <td>...</td>\n",
       "      <td>Two year</td>\n",
       "      <td>No</td>\n",
       "      <td>Credit card (automatic)</td>\n",
       "      <td>56.05</td>\n",
       "      <td>NaN</td>\n",
       "      <td>No</td>\n",
       "      <td>0</td>\n",
       "      <td>30</td>\n",
       "      <td>4740</td>\n",
       "      <td>NaN</td>\n",
       "    </tr>\n",
       "    <tr>\n",
       "      <th>4331</th>\n",
       "      <td>7644-OMVMY</td>\n",
       "      <td>1</td>\n",
       "      <td>United States</td>\n",
       "      <td>California</td>\n",
       "      <td>Los Angeles</td>\n",
       "      <td>90029</td>\n",
       "      <td>34.089953, -118.294824</td>\n",
       "      <td>34.089953</td>\n",
       "      <td>-118.294824</td>\n",
       "      <td>Male</td>\n",
       "      <td>...</td>\n",
       "      <td>Two year</td>\n",
       "      <td>No</td>\n",
       "      <td>Mailed check</td>\n",
       "      <td>19.85</td>\n",
       "      <td>NaN</td>\n",
       "      <td>No</td>\n",
       "      <td>0</td>\n",
       "      <td>53</td>\n",
       "      <td>2019</td>\n",
       "      <td>NaN</td>\n",
       "    </tr>\n",
       "    <tr>\n",
       "      <th>4687</th>\n",
       "      <td>3213-VVOLG</td>\n",
       "      <td>1</td>\n",
       "      <td>United States</td>\n",
       "      <td>California</td>\n",
       "      <td>Sun City</td>\n",
       "      <td>92585</td>\n",
       "      <td>33.739412, -117.173334</td>\n",
       "      <td>33.739412</td>\n",
       "      <td>-117.173334</td>\n",
       "      <td>Male</td>\n",
       "      <td>...</td>\n",
       "      <td>Two year</td>\n",
       "      <td>No</td>\n",
       "      <td>Mailed check</td>\n",
       "      <td>25.35</td>\n",
       "      <td>NaN</td>\n",
       "      <td>No</td>\n",
       "      <td>0</td>\n",
       "      <td>49</td>\n",
       "      <td>2299</td>\n",
       "      <td>NaN</td>\n",
       "    </tr>\n",
       "    <tr>\n",
       "      <th>5104</th>\n",
       "      <td>2520-SGTTA</td>\n",
       "      <td>1</td>\n",
       "      <td>United States</td>\n",
       "      <td>California</td>\n",
       "      <td>Ben Lomond</td>\n",
       "      <td>95005</td>\n",
       "      <td>37.078873, -122.090386</td>\n",
       "      <td>37.078873</td>\n",
       "      <td>-122.090386</td>\n",
       "      <td>Female</td>\n",
       "      <td>...</td>\n",
       "      <td>Two year</td>\n",
       "      <td>No</td>\n",
       "      <td>Mailed check</td>\n",
       "      <td>20.00</td>\n",
       "      <td>NaN</td>\n",
       "      <td>No</td>\n",
       "      <td>0</td>\n",
       "      <td>27</td>\n",
       "      <td>3763</td>\n",
       "      <td>NaN</td>\n",
       "    </tr>\n",
       "    <tr>\n",
       "      <th>5719</th>\n",
       "      <td>2923-ARZLG</td>\n",
       "      <td>1</td>\n",
       "      <td>United States</td>\n",
       "      <td>California</td>\n",
       "      <td>La Verne</td>\n",
       "      <td>91750</td>\n",
       "      <td>34.144703, -117.770299</td>\n",
       "      <td>34.144703</td>\n",
       "      <td>-117.770299</td>\n",
       "      <td>Male</td>\n",
       "      <td>...</td>\n",
       "      <td>One year</td>\n",
       "      <td>Yes</td>\n",
       "      <td>Mailed check</td>\n",
       "      <td>19.70</td>\n",
       "      <td>NaN</td>\n",
       "      <td>No</td>\n",
       "      <td>0</td>\n",
       "      <td>69</td>\n",
       "      <td>4890</td>\n",
       "      <td>NaN</td>\n",
       "    </tr>\n",
       "    <tr>\n",
       "      <th>6772</th>\n",
       "      <td>4075-WKNIU</td>\n",
       "      <td>1</td>\n",
       "      <td>United States</td>\n",
       "      <td>California</td>\n",
       "      <td>Bell</td>\n",
       "      <td>90201</td>\n",
       "      <td>33.970343, -118.171368</td>\n",
       "      <td>33.970343</td>\n",
       "      <td>-118.171368</td>\n",
       "      <td>Female</td>\n",
       "      <td>...</td>\n",
       "      <td>Two year</td>\n",
       "      <td>No</td>\n",
       "      <td>Mailed check</td>\n",
       "      <td>73.35</td>\n",
       "      <td>NaN</td>\n",
       "      <td>No</td>\n",
       "      <td>0</td>\n",
       "      <td>44</td>\n",
       "      <td>2342</td>\n",
       "      <td>NaN</td>\n",
       "    </tr>\n",
       "    <tr>\n",
       "      <th>6840</th>\n",
       "      <td>2775-SEFEE</td>\n",
       "      <td>1</td>\n",
       "      <td>United States</td>\n",
       "      <td>California</td>\n",
       "      <td>Wilmington</td>\n",
       "      <td>90744</td>\n",
       "      <td>33.782068, -118.262263</td>\n",
       "      <td>33.782068</td>\n",
       "      <td>-118.262263</td>\n",
       "      <td>Male</td>\n",
       "      <td>...</td>\n",
       "      <td>Two year</td>\n",
       "      <td>Yes</td>\n",
       "      <td>Bank transfer (automatic)</td>\n",
       "      <td>61.90</td>\n",
       "      <td>NaN</td>\n",
       "      <td>No</td>\n",
       "      <td>0</td>\n",
       "      <td>65</td>\n",
       "      <td>5188</td>\n",
       "      <td>NaN</td>\n",
       "    </tr>\n",
       "  </tbody>\n",
       "</table>\n",
       "<p>11 rows × 33 columns</p>\n",
       "</div>"
      ],
      "text/plain": [
       "      CustomerID  Count        Country       State            City  Zip Code  \\\n",
       "2234  4472-LVYGI      1  United States  California  San Bernardino     92408   \n",
       "2438  3115-CZMZD      1  United States  California    Independence     93526   \n",
       "2568  5709-LVOEQ      1  United States  California       San Mateo     94401   \n",
       "2667  4367-NUYAO      1  United States  California       Cupertino     95014   \n",
       "2856  1371-DWPAZ      1  United States  California        Redcrest     95569   \n",
       "4331  7644-OMVMY      1  United States  California     Los Angeles     90029   \n",
       "4687  3213-VVOLG      1  United States  California        Sun City     92585   \n",
       "5104  2520-SGTTA      1  United States  California      Ben Lomond     95005   \n",
       "5719  2923-ARZLG      1  United States  California        La Verne     91750   \n",
       "6772  4075-WKNIU      1  United States  California            Bell     90201   \n",
       "6840  2775-SEFEE      1  United States  California      Wilmington     90744   \n",
       "\n",
       "                    Lat Long   Latitude   Longitude  Gender  ...  Contract  \\\n",
       "2234  34.084909, -117.258107  34.084909 -117.258107  Female  ...  Two year   \n",
       "2438  36.869584, -118.189241  36.869584 -118.189241    Male  ...  Two year   \n",
       "2568  37.590421, -122.306467  37.590421 -122.306467  Female  ...  Two year   \n",
       "2667  37.306612, -122.080621  37.306612 -122.080621    Male  ...  Two year   \n",
       "2856  40.363446, -123.835041  40.363446 -123.835041  Female  ...  Two year   \n",
       "4331  34.089953, -118.294824  34.089953 -118.294824    Male  ...  Two year   \n",
       "4687  33.739412, -117.173334  33.739412 -117.173334    Male  ...  Two year   \n",
       "5104  37.078873, -122.090386  37.078873 -122.090386  Female  ...  Two year   \n",
       "5719  34.144703, -117.770299  34.144703 -117.770299    Male  ...  One year   \n",
       "6772  33.970343, -118.171368  33.970343 -118.171368  Female  ...  Two year   \n",
       "6840  33.782068, -118.262263  33.782068 -118.262263    Male  ...  Two year   \n",
       "\n",
       "     Paperless Billing             Payment Method  Monthly Charges  \\\n",
       "2234               Yes  Bank transfer (automatic)            52.55   \n",
       "2438                No               Mailed check            20.25   \n",
       "2568                No               Mailed check            80.85   \n",
       "2667                No               Mailed check            25.75   \n",
       "2856                No    Credit card (automatic)            56.05   \n",
       "4331                No               Mailed check            19.85   \n",
       "4687                No               Mailed check            25.35   \n",
       "5104                No               Mailed check            20.00   \n",
       "5719               Yes               Mailed check            19.70   \n",
       "6772                No               Mailed check            73.35   \n",
       "6840               Yes  Bank transfer (automatic)            61.90   \n",
       "\n",
       "     Total Charges Churn Label Churn Value Churn Score  CLTV Churn Reason  \n",
       "2234           NaN          No           0          36  2578          NaN  \n",
       "2438           NaN          No           0          68  5504          NaN  \n",
       "2568           NaN          No           0          45  2048          NaN  \n",
       "2667           NaN          No           0          48  4950          NaN  \n",
       "2856           NaN          No           0          30  4740          NaN  \n",
       "4331           NaN          No           0          53  2019          NaN  \n",
       "4687           NaN          No           0          49  2299          NaN  \n",
       "5104           NaN          No           0          27  3763          NaN  \n",
       "5719           NaN          No           0          69  4890          NaN  \n",
       "6772           NaN          No           0          44  2342          NaN  \n",
       "6840           NaN          No           0          65  5188          NaN  \n",
       "\n",
       "[11 rows x 33 columns]"
      ]
     },
     "execution_count": 18,
     "metadata": {},
     "output_type": "execute_result"
    }
   ],
   "source": [
    "df[df['Total Charges'].isna()]"
   ]
  },
  {
   "cell_type": "markdown",
   "id": "a1f91a02",
   "metadata": {},
   "source": [
    "Since we have the `Tenure Months` and `Monthly Charges` columns, we can calculate `Total Charges = Tenure Months * Monthly Charges` to replace the null values for these rows."
   ]
  },
  {
   "cell_type": "code",
   "execution_count": 19,
   "id": "91727bc7",
   "metadata": {},
   "outputs": [],
   "source": [
    "df['Total Charges'].fillna(df['Monthly Charges'] * df['Tenure Months'], inplace=True)"
   ]
  },
  {
   "cell_type": "markdown",
   "id": "b9cc6b24",
   "metadata": {},
   "source": [
    "## Cardinality"
   ]
  },
  {
   "cell_type": "code",
   "execution_count": 20,
   "id": "fbff9924",
   "metadata": {},
   "outputs": [
    {
     "data": {
      "text/plain": [
       "CustomerID           7043\n",
       "Count                   1\n",
       "Country                 1\n",
       "State                   1\n",
       "City                 1129\n",
       "Zip Code             1652\n",
       "Lat Long             1652\n",
       "Latitude             1652\n",
       "Longitude            1651\n",
       "Gender                  2\n",
       "Senior Citizen          2\n",
       "Partner                 2\n",
       "Dependents              2\n",
       "Tenure Months          73\n",
       "Phone Service           2\n",
       "Multiple Lines          3\n",
       "Internet Service        3\n",
       "Online Security         3\n",
       "Online Backup           3\n",
       "Device Protection       3\n",
       "Tech Support            3\n",
       "Streaming TV            3\n",
       "Streaming Movies        3\n",
       "Contract                3\n",
       "Paperless Billing       2\n",
       "Payment Method          4\n",
       "Monthly Charges      1585\n",
       "Total Charges        6531\n",
       "Churn Label             2\n",
       "Churn Value             2\n",
       "Churn Score            85\n",
       "CLTV                 3438\n",
       "Churn Reason           20\n",
       "dtype: int64"
      ]
     },
     "execution_count": 20,
     "metadata": {},
     "output_type": "execute_result"
    }
   ],
   "source": [
    "df.nunique()"
   ]
  },
  {
   "cell_type": "markdown",
   "id": "1ab1003a",
   "metadata": {},
   "source": [
    "Low cardinality:\n",
    "- `Count` column\n",
    "- `Country` column\n",
    "- `State` column\n",
    "\n",
    "High cardinality:\n",
    "- `Customer ID` column\n",
    "- `Zip Code` column"
   ]
  },
  {
   "cell_type": "markdown",
   "id": "f7d96deb",
   "metadata": {},
   "source": [
    "# Visualisation"
   ]
  },
  {
   "cell_type": "code",
   "execution_count": 23,
   "id": "f8a8f8fb",
   "metadata": {},
   "outputs": [
    {
     "data": {
      "image/png": "[encoded data removed]",
      "text/plain": [
       "<Figure size 640x480 with 1 Axes>"
      ]
     },
     "metadata": {},
     "output_type": "display_data"
    }
   ],
   "source": [
    "churn_label_counts = df['Churn Label'].value_counts()\n",
    "churn_label_percent = df['Churn Label'].value_counts(normalize=True) * 100\n",
    "\n",
    "sns.barplot(x=churn_label_counts.index, y=churn_label_counts.values)\n",
    "for i, (count, percent) in enumerate(zip(churn_label_counts.values, churn_label_percent.values)):\n",
    "    plt.text(i, count + 50, f'{percent:.1f}%', ha='center')\n",
    "plt.title('Churn Label Distribution')\n",
    "plt.ylabel('Count')\n",
    "plt.xlabel('Churn Label')\n",
    "plt.show()"
   ]
  },
  {
   "cell_type": "markdown",
   "id": "6dd06897",
   "metadata": {},
   "source": [
    "`26.5%` of customers have stopped using our service. The task is to know which type of customers are more likely to stop using our service and what actions we can take."
   ]
  },
  {
   "cell_type": "code",
   "execution_count": 32,
   "id": "7579a1a6",
   "metadata": {},
   "outputs": [
    {
     "data": {
      "application/vnd.plotly.v1+json": {
       "config": {
        "plotlyServerURL": "https://plot.ly"
       },
       "data": [
        {
         "hovertemplate": "x=%{x}<br>y=%{y}<br>text=%{text}<br>color=%{marker.color}<extra></extra>",
         "legendgroup": "",
         "marker": {
          "color": {
           "bdata": "wAC9AKIAmgCMAIcAggBnAGYAYgBZAFgAOQA1ACwALAAsABQAEwAGAA==",
           "dtype": "i2"
          },
          "coloraxis": "coloraxis",
          "pattern": {
           "shape": ""
          }
         },
         "name": "",
         "orientation": "v",
         "showlegend": false,
         "text": {
          "bdata": "AAAAAAAAaEAAAAAAAKBnQAAAAAAAQGRAAAAAAABAY0AAAAAAAIBhQAAAAAAA4GBAAAAAAABAYEAAAAAAAMBZQAAAAAAAgFlAAAAAAACAWEAAAAAAAEBWQAAAAAAAAFZAAAAAAACATEAAAAAAAIBKQAAAAAAAAEZAAAAAAAAARkAAAAAAAABGQAAAAAAAADRAAAAAAAAAM0AAAAAAAAAYQA==",
          "dtype": "f8"
         },
         "textposition": "auto",
         "type": "bar",
         "x": [
          "Attitude of support person",
          "Competitor offered higher download speeds",
          "Competitor offered more data",
          "Don't know",
          "Competitor made better offer",
          "Attitude of service provider",
          "Competitor had better devices",
          "Network reliability",
          "Product dissatisfaction",
          "Price too high",
          "Service dissatisfaction",
          "Lack of self-service on Website",
          "Extra data charges",
          "Moved",
          "Limited range of services",
          "Long distance charges",
          "Lack of affordable download/upload speed",
          "Poor expertise of phone support",
          "Poor expertise of online support",
          "Deceased"
         ],
         "xaxis": "x",
         "y": {
          "bdata": "wAC9AKIAmgCMAIcAggBnAGYAYgBZAFgAOQA1ACwALAAsABQAEwAGAA==",
          "dtype": "i2"
         },
         "yaxis": "y"
        }
       ],
       "layout": {
        "barmode": "relative",
        "coloraxis": {
         "colorbar": {
          "title": {
           "text": "color"
          }
         },
         "colorscale": [
          [
           0,
           "#0d0887"
          ],
          [
           0.1111111111111111,
           "#46039f"
          ],
          [
           0.2222222222222222,
           "#7201a8"
          ],
          [
           0.3333333333333333,
           "#9c179e"
          ],
          [
           0.4444444444444444,
           "#bd3786"
          ],
          [
           0.5555555555555556,
           "#d8576b"
          ],
          [
           0.6666666666666666,
           "#ed7953"
          ],
          [
           0.7777777777777778,
           "#fb9f3a"
          ],
          [
           0.8888888888888888,
           "#fdca26"
          ],
          [
           1,
           "#f0f921"
          ]
         ]
        },
        "legend": {
         "tracegroupgap": 0
        },
        "margin": {
         "t": 60
        },
        "template": {
         "data": {
          "bar": [
           {
            "error_x": {
             "color": "#2a3f5f"
            },
            "error_y": {
             "color": "#2a3f5f"
            },
            "marker": {
             "line": {
              "color": "#E5ECF6",
              "width": 0.5
             },
             "pattern": {
              "fillmode": "overlay",
              "size": 10,
              "solidity": 0.2
             }
            },
            "type": "bar"
           }
          ],
          "barpolar": [
           {
            "marker": {
             "line": {
              "color": "#E5ECF6",
              "width": 0.5
             },
             "pattern": {
              "fillmode": "overlay",
              "size": 10,
              "solidity": 0.2
             }
            },
            "type": "barpolar"
           }
          ],
          "carpet": [
           {
            "aaxis": {
             "endlinecolor": "#2a3f5f",
             "gridcolor": "white",
             "linecolor": "white",
             "minorgridcolor": "white",
             "startlinecolor": "#2a3f5f"
            },
            "baxis": {
             "endlinecolor": "#2a3f5f",
             "gridcolor": "white",
             "linecolor": "white",
             "minorgridcolor": "white",
             "startlinecolor": "#2a3f5f"
            },
            "type": "carpet"
           }
          ],
          "choropleth": [
           {
            "colorbar": {
             "outlinewidth": 0,
             "ticks": ""
            },
            "type": "choropleth"
           }
          ],
          "contour": [
           {
            "colorbar": {
             "outlinewidth": 0,
             "ticks": ""
            },
            "colorscale": [
             [
              0,
              "#0d0887"
             ],
             [
              0.1111111111111111,
              "#46039f"
             ],
             [
              0.2222222222222222,
              "#7201a8"
             ],
             [
              0.3333333333333333,
              "#9c179e"
             ],
             [
              0.4444444444444444,
              "#bd3786"
             ],
             [
              0.5555555555555556,
              "#d8576b"
             ],
             [
              0.6666666666666666,
              "#ed7953"
             ],
             [
              0.7777777777777778,
              "#fb9f3a"
             ],
             [
              0.8888888888888888,
              "#fdca26"
             ],
             [
              1,
              "#f0f921"
             ]
            ],
            "type": "contour"
           }
          ],
          "contourcarpet": [
           {
            "colorbar": {
             "outlinewidth": 0,
             "ticks": ""
            },
            "type": "contourcarpet"
           }
          ],
          "heatmap": [
           {
            "colorbar": {
             "outlinewidth": 0,
             "ticks": ""
            },
            "colorscale": [
             [
              0,
              "#0d0887"
             ],
             [
              0.1111111111111111,
              "#46039f"
             ],
             [
              0.2222222222222222,
              "#7201a8"
             ],
             [
              0.3333333333333333,
              "#9c179e"
             ],
             [
              0.4444444444444444,
              "#bd3786"
             ],
             [
              0.5555555555555556,
              "#d8576b"
             ],
             [
              0.6666666666666666,
              "#ed7953"
             ],
             [
              0.7777777777777778,
              "#fb9f3a"
             ],
             [
              0.8888888888888888,
              "#fdca26"
             ],
             [
              1,
              "#f0f921"
             ]
            ],
            "type": "heatmap"
           }
          ],
          "histogram": [
           {
            "marker": {
             "pattern": {
              "fillmode": "overlay",
              "size": 10,
              "solidity": 0.2
             }
            },
            "type": "histogram"
           }
          ],
          "histogram2d": [
           {
            "colorbar": {
             "outlinewidth": 0,
             "ticks": ""
            },
            "colorscale": [
             [
              0,
              "#0d0887"
             ],
             [
              0.1111111111111111,
              "#46039f"
             ],
             [
              0.2222222222222222,
              "#7201a8"
             ],
             [
              0.3333333333333333,
              "#9c179e"
             ],
             [
              0.4444444444444444,
              "#bd3786"
             ],
             [
              0.5555555555555556,
              "#d8576b"
             ],
             [
              0.6666666666666666,
              "#ed7953"
             ],
             [
              0.7777777777777778,
              "#fb9f3a"
             ],
             [
              0.8888888888888888,
              "#fdca26"
             ],
             [
              1,
              "#f0f921"
             ]
            ],
            "type": "histogram2d"
           }
          ],
          "histogram2dcontour": [
           {
            "colorbar": {
             "outlinewidth": 0,
             "ticks": ""
            },
            "colorscale": [
             [
              0,
              "#0d0887"
             ],
             [
              0.1111111111111111,
              "#46039f"
             ],
             [
              0.2222222222222222,
              "#7201a8"
             ],
             [
              0.3333333333333333,
              "#9c179e"
             ],
             [
              0.4444444444444444,
              "#bd3786"
             ],
             [
              0.5555555555555556,
              "#d8576b"
             ],
             [
              0.6666666666666666,
              "#ed7953"
             ],
             [
              0.7777777777777778,
              "#fb9f3a"
             ],
             [
              0.8888888888888888,
              "#fdca26"
             ],
             [
              1,
              "#f0f921"
             ]
            ],
            "type": "histogram2dcontour"
           }
          ],
          "mesh3d": [
           {
            "colorbar": {
             "outlinewidth": 0,
             "ticks": ""
            },
            "type": "mesh3d"
           }
          ],
          "parcoords": [
           {
            "line": {
             "colorbar": {
              "outlinewidth": 0,
              "ticks": ""
             }
            },
            "type": "parcoords"
           }
          ],
          "pie": [
           {
            "automargin": true,
            "type": "pie"
           }
          ],
          "scatter": [
           {
            "fillpattern": {
             "fillmode": "overlay",
             "size": 10,
             "solidity": 0.2
            },
            "type": "scatter"
           }
          ],
          "scatter3d": [
           {
            "line": {
             "colorbar": {
              "outlinewidth": 0,
              "ticks": ""
             }
            },
            "marker": {
             "colorbar": {
              "outlinewidth": 0,
              "ticks": ""
             }
            },
            "type": "scatter3d"
           }
          ],
          "scattercarpet": [
           {
            "marker": {
             "colorbar": {
              "outlinewidth": 0,
              "ticks": ""
             }
            },
            "type": "scattercarpet"
           }
          ],
          "scattergeo": [
           {
            "marker": {
             "colorbar": {
              "outlinewidth": 0,
              "ticks": ""
             }
            },
            "type": "scattergeo"
           }
          ],
          "scattergl": [
           {
            "marker": {
             "colorbar": {
              "outlinewidth": 0,
              "ticks": ""
             }
            },
            "type": "scattergl"
           }
          ],
          "scattermap": [
           {
            "marker": {
             "colorbar": {
              "outlinewidth": 0,
              "ticks": ""
             }
            },
            "type": "scattermap"
           }
          ],
          "scattermapbox": [
           {
            "marker": {
             "colorbar": {
              "outlinewidth": 0,
              "ticks": ""
             }
            },
            "type": "scattermapbox"
           }
          ],
          "scatterpolar": [
           {
            "marker": {
             "colorbar": {
              "outlinewidth": 0,
              "ticks": ""
             }
            },
            "type": "scatterpolar"
           }
          ],
          "scatterpolargl": [
           {
            "marker": {
             "colorbar": {
              "outlinewidth": 0,
              "ticks": ""
             }
            },
            "type": "scatterpolargl"
           }
          ],
          "scatterternary": [
           {
            "marker": {
             "colorbar": {
              "outlinewidth": 0,
              "ticks": ""
             }
            },
            "type": "scatterternary"
           }
          ],
          "surface": [
           {
            "colorbar": {
             "outlinewidth": 0,
             "ticks": ""
            },
            "colorscale": [
             [
              0,
              "#0d0887"
             ],
             [
              0.1111111111111111,
              "#46039f"
             ],
             [
              0.2222222222222222,
              "#7201a8"
             ],
             [
              0.3333333333333333,
              "#9c179e"
             ],
             [
              0.4444444444444444,
              "#bd3786"
             ],
             [
              0.5555555555555556,
              "#d8576b"
             ],
             [
              0.6666666666666666,
              "#ed7953"
             ],
             [
              0.7777777777777778,
              "#fb9f3a"
             ],
             [
              0.8888888888888888,
              "#fdca26"
             ],
             [
              1,
              "#f0f921"
             ]
            ],
            "type": "surface"
           }
          ],
          "table": [
           {
            "cells": {
             "fill": {
              "color": "#EBF0F8"
             },
             "line": {
              "color": "white"
             }
            },
            "header": {
             "fill": {
              "color": "#C8D4E3"
             },
             "line": {
              "color": "white"
             }
            },
            "type": "table"
           }
          ]
         },
         "layout": {
          "annotationdefaults": {
           "arrowcolor": "#2a3f5f",
           "arrowhead": 0,
           "arrowwidth": 1
          },
          "autotypenumbers": "strict",
          "coloraxis": {
           "colorbar": {
            "outlinewidth": 0,
            "ticks": ""
           }
          },
          "colorscale": {
           "diverging": [
            [
             0,
             "#8e0152"
            ],
            [
             0.1,
             "#c51b7d"
            ],
            [
             0.2,
             "#de77ae"
            ],
            [
             0.3,
             "#f1b6da"
            ],
            [
             0.4,
             "#fde0ef"
            ],
            [
             0.5,
             "#f7f7f7"
            ],
            [
             0.6,
             "#e6f5d0"
            ],
            [
             0.7,
             "#b8e186"
            ],
            [
             0.8,
             "#7fbc41"
            ],
            [
             0.9,
             "#4d9221"
            ],
            [
             1,
             "#276419"
            ]
           ],
           "sequential": [
            [
             0,
             "#0d0887"
            ],
            [
             0.1111111111111111,
             "#46039f"
            ],
            [
             0.2222222222222222,
             "#7201a8"
            ],
            [
             0.3333333333333333,
             "#9c179e"
            ],
            [
             0.4444444444444444,
             "#bd3786"
            ],
            [
             0.5555555555555556,
             "#d8576b"
            ],
            [
             0.6666666666666666,
             "#ed7953"
            ],
            [
             0.7777777777777778,
             "#fb9f3a"
            ],
            [
             0.8888888888888888,
             "#fdca26"
            ],
            [
             1,
             "#f0f921"
            ]
           ],
           "sequentialminus": [
            [
             0,
             "#0d0887"
            ],
            [
             0.1111111111111111,
             "#46039f"
            ],
            [
             0.2222222222222222,
             "#7201a8"
            ],
            [
             0.3333333333333333,
             "#9c179e"
            ],
            [
             0.4444444444444444,
             "#bd3786"
            ],
            [
             0.5555555555555556,
             "#d8576b"
            ],
            [
             0.6666666666666666,
             "#ed7953"
            ],
            [
             0.7777777777777778,
             "#fb9f3a"
            ],
            [
             0.8888888888888888,
             "#fdca26"
            ],
            [
             1,
             "#f0f921"
            ]
           ]
          },
          "colorway": [
           "#636efa",
           "#EF553B",
           "#00cc96",
           "#ab63fa",
           "#FFA15A",
           "#19d3f3",
           "#FF6692",
           "#B6E880",
           "#FF97FF",
           "#FECB52"
          ],
          "font": {
           "color": "#2a3f5f"
          },
          "geo": {
           "bgcolor": "white",
           "lakecolor": "white",
           "landcolor": "#E5ECF6",
           "showlakes": true,
           "showland": true,
           "subunitcolor": "white"
          },
          "hoverlabel": {
           "align": "left"
          },
          "hovermode": "closest",
          "mapbox": {
           "style": "light"
          },
          "paper_bgcolor": "white",
          "plot_bgcolor": "#E5ECF6",
          "polar": {
           "angularaxis": {
            "gridcolor": "white",
            "linecolor": "white",
            "ticks": ""
           },
           "bgcolor": "#E5ECF6",
           "radialaxis": {
            "gridcolor": "white",
            "linecolor": "white",
            "ticks": ""
           }
          },
          "scene": {
           "xaxis": {
            "backgroundcolor": "#E5ECF6",
            "gridcolor": "white",
            "gridwidth": 2,
            "linecolor": "white",
            "showbackground": true,
            "ticks": "",
            "zerolinecolor": "white"
           },
           "yaxis": {
            "backgroundcolor": "#E5ECF6",
            "gridcolor": "white",
            "gridwidth": 2,
            "linecolor": "white",
            "showbackground": true,
            "ticks": "",
            "zerolinecolor": "white"
           },
           "zaxis": {
            "backgroundcolor": "#E5ECF6",
            "gridcolor": "white",
            "gridwidth": 2,
            "linecolor": "white",
            "showbackground": true,
            "ticks": "",
            "zerolinecolor": "white"
           }
          },
          "shapedefaults": {
           "line": {
            "color": "#2a3f5f"
           }
          },
          "ternary": {
           "aaxis": {
            "gridcolor": "white",
            "linecolor": "white",
            "ticks": ""
           },
           "baxis": {
            "gridcolor": "white",
            "linecolor": "white",
            "ticks": ""
           },
           "bgcolor": "#E5ECF6",
           "caxis": {
            "gridcolor": "white",
            "linecolor": "white",
            "ticks": ""
           }
          },
          "title": {
           "x": 0.05
          },
          "xaxis": {
           "automargin": true,
           "gridcolor": "white",
           "linecolor": "white",
           "ticks": "",
           "title": {
            "standoff": 15
           },
           "zerolinecolor": "white",
           "zerolinewidth": 2
          },
          "yaxis": {
           "automargin": true,
           "gridcolor": "white",
           "linecolor": "white",
           "ticks": "",
           "title": {
            "standoff": 15
           },
           "zerolinecolor": "white",
           "zerolinewidth": 2
          }
         }
        },
        "xaxis": {
         "anchor": "y",
         "domain": [
          0,
          1
         ],
         "title": {
          "text": "Count"
         }
        },
        "yaxis": {
         "anchor": "x",
         "domain": [
          0,
          1
         ],
         "title": {
          "text": "Churn Reason"
         }
        }
       }
      }
     },
     "metadata": {},
     "output_type": "display_data"
    }
   ],
   "source": [
    "values = df['Churn Reason'].value_counts(ascending=False).values\n",
    "keys = df['Churn Reason'].value_counts(ascending=False).keys()\n",
    "\n",
    "fig = px.bar(x=keys, y=values, color = values, text = values)\n",
    "\n",
    "fig.update_layout(\n",
    "    yaxis_title=\"Churn Reason\",\n",
    "    xaxis_title=\"Count\"\n",
    ")\n",
    "fig.show()"
   ]
  },
  {
   "cell_type": "markdown",
   "id": "7f0ff862",
   "metadata": {},
   "source": [
    "**The bar plot shows that customers reason for churning can be divided into two categories:**\n",
    "- **Internal:** Those within the companies control. E.g., service/product quality, pricing, offering fit\n",
    "- **External:** Those outside the companies control. E.g., competitive pull, life events (moved, deceased)\n",
    "\n",
    "**Actions to take:**\n",
    "- To address the top 3 reasons, the company should mainly focus on improving service quality, product reliability and offer more value to customers.\n",
    "- Improving customer support is important as it is the main cause of churn. E.g., training agents on empathy + first call resolution and adding QA on high-churn intents.\n",
    "- Monitor competitor pricing weekly and auto-generate counter-offers for at-risk customers. Should work towards bundle value (streaming, cloud storage, device perks) rather than pure price matching."
   ]
  },
  {
   "cell_type": "markdown",
   "id": "c02cf603",
   "metadata": {},
   "source": [
    "## Let's look at the possible factors"
   ]
  },
  {
   "cell_type": "markdown",
   "id": "7acf9cf8",
   "metadata": {},
   "source": [
    "### City"
   ]
  },
  {
   "cell_type": "code",
   "execution_count": 64,
   "id": "621037f2",
   "metadata": {},
   "outputs": [
    {
     "data": {
      "text/html": [
       "<div>\n",
       "<style scoped>\n",
       "    .dataframe tbody tr th:only-of-type {\n",
       "        vertical-align: middle;\n",
       "    }\n",
       "\n",
       "    .dataframe tbody tr th {\n",
       "        vertical-align: top;\n",
       "    }\n",
       "\n",
       "    .dataframe thead th {\n",
       "        text-align: right;\n",
       "    }\n",
       "</style>\n",
       "<table border=\"1\" class=\"dataframe\">\n",
       "  <thead>\n",
       "    <tr style=\"text-align: right;\">\n",
       "      <th></th>\n",
       "      <th>city</th>\n",
       "      <th>count</th>\n",
       "      <th>churn_rate</th>\n",
       "    </tr>\n",
       "  </thead>\n",
       "  <tbody>\n",
       "    <tr>\n",
       "      <th>562</th>\n",
       "      <td>Los Angeles</td>\n",
       "      <td>305</td>\n",
       "      <td>0.30</td>\n",
       "    </tr>\n",
       "    <tr>\n",
       "      <th>869</th>\n",
       "      <td>San Diego</td>\n",
       "      <td>150</td>\n",
       "      <td>0.33</td>\n",
       "    </tr>\n",
       "    <tr>\n",
       "      <th>878</th>\n",
       "      <td>San Jose</td>\n",
       "      <td>112</td>\n",
       "      <td>0.26</td>\n",
       "    </tr>\n",
       "    <tr>\n",
       "      <th>855</th>\n",
       "      <td>Sacramento</td>\n",
       "      <td>108</td>\n",
       "      <td>0.24</td>\n",
       "    </tr>\n",
       "    <tr>\n",
       "      <th>872</th>\n",
       "      <td>San Francisco</td>\n",
       "      <td>104</td>\n",
       "      <td>0.30</td>\n",
       "    </tr>\n",
       "  </tbody>\n",
       "</table>\n",
       "</div>"
      ],
      "text/plain": [
       "              city  count  churn_rate\n",
       "562    Los Angeles    305        0.30\n",
       "869      San Diego    150        0.33\n",
       "878       San Jose    112        0.26\n",
       "855     Sacramento    108        0.24\n",
       "872  San Francisco    104        0.30"
      ]
     },
     "execution_count": 64,
     "metadata": {},
     "output_type": "execute_result"
    }
   ],
   "source": [
    "city_churn = (\n",
    "    df.groupby('City')\n",
    "      .agg(\n",
    "          total_customers=('CustomerID', 'count'),\n",
    "          churners=('Churn Label', lambda x: (x == 'Yes').sum())\n",
    "      )\n",
    "      .reset_index()\n",
    ")\n",
    "\n",
    "# drop rows where churners is 0\n",
    "city_churn = city_churn[city_churn['churners'] > 0]\n",
    "city_churn['churn_rate'] = (city_churn['churners'] / city_churn['total_customers']).round(2)\n",
    "city_churn.drop(columns=['churners'], inplace=True)\n",
    "city_churn.rename(columns={'City': 'city', 'total_customers': 'count'}, inplace=True)\n",
    "\n",
    "city_churn = city_churn.sort_values(by='count', ascending=False)\n",
    "\n",
    "city_churn.head(5)"
   ]
  },
  {
   "cell_type": "code",
   "execution_count": 60,
   "id": "d61d83b3",
   "metadata": {},
   "outputs": [
    {
     "data": {
      "application/vnd.plotly.v1+json": {
       "config": {
        "plotlyServerURL": "https://plot.ly"
       },
       "data": [
        {
         "hovertemplate": "city=%{x}<br>count=%{text}<extra></extra>",
         "legendgroup": "",
         "marker": {
          "color": "#636efa",
          "pattern": {
           "shape": ""
          }
         },
         "name": "",
         "orientation": "v",
         "showlegend": false,
         "text": {
          "bdata": "AAAAAAAQc0AAAAAAAMBiQAAAAAAAAFxAAAAAAAAAW0AAAAAAAABaQAAAAAAAAFBAAAAAAAAATkAAAAAAAABKQAAAAAAAAEZAAAAAAAAAREAAAAAAAABEQAAAAAAAAEBAAAAAAAAAQEAAAAAAAAA+QAAAAAAAAD5AAAAAAAAAPEAAAAAAAAA8QAAAAAAAADxAAAAAAAAAPEAAAAAAAAA8QA==",
          "dtype": "f8"
         },
         "textposition": "auto",
         "type": "bar",
         "x": [
          "Los Angeles",
          "San Diego",
          "San Jose",
          "Sacramento",
          "San Francisco",
          "Fresno",
          "Long Beach",
          "Oakland",
          "Stockton",
          "Bakersfield",
          "Glendale",
          "Riverside",
          "Berkeley",
          "Pasadena",
          "Whittier",
          "San Bernardino",
          "Modesto",
          "Santa Barbara",
          "Anaheim",
          "Irvine"
         ],
         "xaxis": "x",
         "y": {
          "bdata": "MQGWAHAAbABoAEAAPAA0ACwAKAAoACAAIAAeAB4AHAAcABwAHAAcAA==",
          "dtype": "i2"
         },
         "yaxis": "y"
        }
       ],
       "layout": {
        "barmode": "relative",
        "legend": {
         "tracegroupgap": 0
        },
        "template": {
         "data": {
          "bar": [
           {
            "error_x": {
             "color": "#2a3f5f"
            },
            "error_y": {
             "color": "#2a3f5f"
            },
            "marker": {
             "line": {
              "color": "#E5ECF6",
              "width": 0.5
             },
             "pattern": {
              "fillmode": "overlay",
              "size": 10,
              "solidity": 0.2
             }
            },
            "type": "bar"
           }
          ],
          "barpolar": [
           {
            "marker": {
             "line": {
              "color": "#E5ECF6",
              "width": 0.5
             },
             "pattern": {
              "fillmode": "overlay",
              "size": 10,
              "solidity": 0.2
             }
            },
            "type": "barpolar"
           }
          ],
          "carpet": [
           {
            "aaxis": {
             "endlinecolor": "#2a3f5f",
             "gridcolor": "white",
             "linecolor": "white",
             "minorgridcolor": "white",
             "startlinecolor": "#2a3f5f"
            },
            "baxis": {
             "endlinecolor": "#2a3f5f",
             "gridcolor": "white",
             "linecolor": "white",
             "minorgridcolor": "white",
             "startlinecolor": "#2a3f5f"
            },
            "type": "carpet"
           }
          ],
          "choropleth": [
           {
            "colorbar": {
             "outlinewidth": 0,
             "ticks": ""
            },
            "type": "choropleth"
           }
          ],
          "contour": [
           {
            "colorbar": {
             "outlinewidth": 0,
             "ticks": ""
            },
            "colorscale": [
             [
              0,
              "#0d0887"
             ],
             [
              0.1111111111111111,
              "#46039f"
             ],
             [
              0.2222222222222222,
              "#7201a8"
             ],
             [
              0.3333333333333333,
              "#9c179e"
             ],
             [
              0.4444444444444444,
              "#bd3786"
             ],
             [
              0.5555555555555556,
              "#d8576b"
             ],
             [
              0.6666666666666666,
              "#ed7953"
             ],
             [
              0.7777777777777778,
              "#fb9f3a"
             ],
             [
              0.8888888888888888,
              "#fdca26"
             ],
             [
              1,
              "#f0f921"
             ]
            ],
            "type": "contour"
           }
          ],
          "contourcarpet": [
           {
            "colorbar": {
             "outlinewidth": 0,
             "ticks": ""
            },
            "type": "contourcarpet"
           }
          ],
          "heatmap": [
           {
            "colorbar": {
             "outlinewidth": 0,
             "ticks": ""
            },
            "colorscale": [
             [
              0,
              "#0d0887"
             ],
             [
              0.1111111111111111,
              "#46039f"
             ],
             [
              0.2222222222222222,
              "#7201a8"
             ],
             [
              0.3333333333333333,
              "#9c179e"
             ],
             [
              0.4444444444444444,
              "#bd3786"
             ],
             [
              0.5555555555555556,
              "#d8576b"
             ],
             [
              0.6666666666666666,
              "#ed7953"
             ],
             [
              0.7777777777777778,
              "#fb9f3a"
             ],
             [
              0.8888888888888888,
              "#fdca26"
             ],
             [
              1,
              "#f0f921"
             ]
            ],
            "type": "heatmap"
           }
          ],
          "histogram": [
           {
            "marker": {
             "pattern": {
              "fillmode": "overlay",
              "size": 10,
              "solidity": 0.2
             }
            },
            "type": "histogram"
           }
          ],
          "histogram2d": [
           {
            "colorbar": {
             "outlinewidth": 0,
             "ticks": ""
            },
            "colorscale": [
             [
              0,
              "#0d0887"
             ],
             [
              0.1111111111111111,
              "#46039f"
             ],
             [
              0.2222222222222222,
              "#7201a8"
             ],
             [
              0.3333333333333333,
              "#9c179e"
             ],
             [
              0.4444444444444444,
              "#bd3786"
             ],
             [
              0.5555555555555556,
              "#d8576b"
             ],
             [
              0.6666666666666666,
              "#ed7953"
             ],
             [
              0.7777777777777778,
              "#fb9f3a"
             ],
             [
              0.8888888888888888,
              "#fdca26"
             ],
             [
              1,
              "#f0f921"
             ]
            ],
            "type": "histogram2d"
           }
          ],
          "histogram2dcontour": [
           {
            "colorbar": {
             "outlinewidth": 0,
             "ticks": ""
            },
            "colorscale": [
             [
              0,
              "#0d0887"
             ],
             [
              0.1111111111111111,
              "#46039f"
             ],
             [
              0.2222222222222222,
              "#7201a8"
             ],
             [
              0.3333333333333333,
              "#9c179e"
             ],
             [
              0.4444444444444444,
              "#bd3786"
             ],
             [
              0.5555555555555556,
              "#d8576b"
             ],
             [
              0.6666666666666666,
              "#ed7953"
             ],
             [
              0.7777777777777778,
              "#fb9f3a"
             ],
             [
              0.8888888888888888,
              "#fdca26"
             ],
             [
              1,
              "#f0f921"
             ]
            ],
            "type": "histogram2dcontour"
           }
          ],
          "mesh3d": [
           {
            "colorbar": {
             "outlinewidth": 0,
             "ticks": ""
            },
            "type": "mesh3d"
           }
          ],
          "parcoords": [
           {
            "line": {
             "colorbar": {
              "outlinewidth": 0,
              "ticks": ""
             }
            },
            "type": "parcoords"
           }
          ],
          "pie": [
           {
            "automargin": true,
            "type": "pie"
           }
          ],
          "scatter": [
           {
            "fillpattern": {
             "fillmode": "overlay",
             "size": 10,
             "solidity": 0.2
            },
            "type": "scatter"
           }
          ],
          "scatter3d": [
           {
            "line": {
             "colorbar": {
              "outlinewidth": 0,
              "ticks": ""
             }
            },
            "marker": {
             "colorbar": {
              "outlinewidth": 0,
              "ticks": ""
             }
            },
            "type": "scatter3d"
           }
          ],
          "scattercarpet": [
           {
            "marker": {
             "colorbar": {
              "outlinewidth": 0,
              "ticks": ""
             }
            },
            "type": "scattercarpet"
           }
          ],
          "scattergeo": [
           {
            "marker": {
             "colorbar": {
              "outlinewidth": 0,
              "ticks": ""
             }
            },
            "type": "scattergeo"
           }
          ],
          "scattergl": [
           {
            "marker": {
             "colorbar": {
              "outlinewidth": 0,
              "ticks": ""
             }
            },
            "type": "scattergl"
           }
          ],
          "scattermap": [
           {
            "marker": {
             "colorbar": {
              "outlinewidth": 0,
              "ticks": ""
             }
            },
            "type": "scattermap"
           }
          ],
          "scattermapbox": [
           {
            "marker": {
             "colorbar": {
              "outlinewidth": 0,
              "ticks": ""
             }
            },
            "type": "scattermapbox"
           }
          ],
          "scatterpolar": [
           {
            "marker": {
             "colorbar": {
              "outlinewidth": 0,
              "ticks": ""
             }
            },
            "type": "scatterpolar"
           }
          ],
          "scatterpolargl": [
           {
            "marker": {
             "colorbar": {
              "outlinewidth": 0,
              "ticks": ""
             }
            },
            "type": "scatterpolargl"
           }
          ],
          "scatterternary": [
           {
            "marker": {
             "colorbar": {
              "outlinewidth": 0,
              "ticks": ""
             }
            },
            "type": "scatterternary"
           }
          ],
          "surface": [
           {
            "colorbar": {
             "outlinewidth": 0,
             "ticks": ""
            },
            "colorscale": [
             [
              0,
              "#0d0887"
             ],
             [
              0.1111111111111111,
              "#46039f"
             ],
             [
              0.2222222222222222,
              "#7201a8"
             ],
             [
              0.3333333333333333,
              "#9c179e"
             ],
             [
              0.4444444444444444,
              "#bd3786"
             ],
             [
              0.5555555555555556,
              "#d8576b"
             ],
             [
              0.6666666666666666,
              "#ed7953"
             ],
             [
              0.7777777777777778,
              "#fb9f3a"
             ],
             [
              0.8888888888888888,
              "#fdca26"
             ],
             [
              1,
              "#f0f921"
             ]
            ],
            "type": "surface"
           }
          ],
          "table": [
           {
            "cells": {
             "fill": {
              "color": "#EBF0F8"
             },
             "line": {
              "color": "white"
             }
            },
            "header": {
             "fill": {
              "color": "#C8D4E3"
             },
             "line": {
              "color": "white"
             }
            },
            "type": "table"
           }
          ]
         },
         "layout": {
          "annotationdefaults": {
           "arrowcolor": "#2a3f5f",
           "arrowhead": 0,
           "arrowwidth": 1
          },
          "autotypenumbers": "strict",
          "coloraxis": {
           "colorbar": {
            "outlinewidth": 0,
            "ticks": ""
           }
          },
          "colorscale": {
           "diverging": [
            [
             0,
             "#8e0152"
            ],
            [
             0.1,
             "#c51b7d"
            ],
            [
             0.2,
             "#de77ae"
            ],
            [
             0.3,
             "#f1b6da"
            ],
            [
             0.4,
             "#fde0ef"
            ],
            [
             0.5,
             "#f7f7f7"
            ],
            [
             0.6,
             "#e6f5d0"
            ],
            [
             0.7,
             "#b8e186"
            ],
            [
             0.8,
             "#7fbc41"
            ],
            [
             0.9,
             "#4d9221"
            ],
            [
             1,
             "#276419"
            ]
           ],
           "sequential": [
            [
             0,
             "#0d0887"
            ],
            [
             0.1111111111111111,
             "#46039f"
            ],
            [
             0.2222222222222222,
             "#7201a8"
            ],
            [
             0.3333333333333333,
             "#9c179e"
            ],
            [
             0.4444444444444444,
             "#bd3786"
            ],
            [
             0.5555555555555556,
             "#d8576b"
            ],
            [
             0.6666666666666666,
             "#ed7953"
            ],
            [
             0.7777777777777778,
             "#fb9f3a"
            ],
            [
             0.8888888888888888,
             "#fdca26"
            ],
            [
             1,
             "#f0f921"
            ]
           ],
           "sequentialminus": [
            [
             0,
             "#0d0887"
            ],
            [
             0.1111111111111111,
             "#46039f"
            ],
            [
             0.2222222222222222,
             "#7201a8"
            ],
            [
             0.3333333333333333,
             "#9c179e"
            ],
            [
             0.4444444444444444,
             "#bd3786"
            ],
            [
             0.5555555555555556,
             "#d8576b"
            ],
            [
             0.6666666666666666,
             "#ed7953"
            ],
            [
             0.7777777777777778,
             "#fb9f3a"
            ],
            [
             0.8888888888888888,
             "#fdca26"
            ],
            [
             1,
             "#f0f921"
            ]
           ]
          },
          "colorway": [
           "#636efa",
           "#EF553B",
           "#00cc96",
           "#ab63fa",
           "#FFA15A",
           "#19d3f3",
           "#FF6692",
           "#B6E880",
           "#FF97FF",
           "#FECB52"
          ],
          "font": {
           "color": "#2a3f5f"
          },
          "geo": {
           "bgcolor": "white",
           "lakecolor": "white",
           "landcolor": "#E5ECF6",
           "showlakes": true,
           "showland": true,
           "subunitcolor": "white"
          },
          "hoverlabel": {
           "align": "left"
          },
          "hovermode": "closest",
          "mapbox": {
           "style": "light"
          },
          "paper_bgcolor": "white",
          "plot_bgcolor": "#E5ECF6",
          "polar": {
           "angularaxis": {
            "gridcolor": "white",
            "linecolor": "white",
            "ticks": ""
           },
           "bgcolor": "#E5ECF6",
           "radialaxis": {
            "gridcolor": "white",
            "linecolor": "white",
            "ticks": ""
           }
          },
          "scene": {
           "xaxis": {
            "backgroundcolor": "#E5ECF6",
            "gridcolor": "white",
            "gridwidth": 2,
            "linecolor": "white",
            "showbackground": true,
            "ticks": "",
            "zerolinecolor": "white"
           },
           "yaxis": {
            "backgroundcolor": "#E5ECF6",
            "gridcolor": "white",
            "gridwidth": 2,
            "linecolor": "white",
            "showbackground": true,
            "ticks": "",
            "zerolinecolor": "white"
           },
           "zaxis": {
            "backgroundcolor": "#E5ECF6",
            "gridcolor": "white",
            "gridwidth": 2,
            "linecolor": "white",
            "showbackground": true,
            "ticks": "",
            "zerolinecolor": "white"
           }
          },
          "shapedefaults": {
           "line": {
            "color": "#2a3f5f"
           }
          },
          "ternary": {
           "aaxis": {
            "gridcolor": "white",
            "linecolor": "white",
            "ticks": ""
           },
           "baxis": {
            "gridcolor": "white",
            "linecolor": "white",
            "ticks": ""
           },
           "bgcolor": "#E5ECF6",
           "caxis": {
            "gridcolor": "white",
            "linecolor": "white",
            "ticks": ""
           }
          },
          "title": {
           "x": 0.05
          },
          "xaxis": {
           "automargin": true,
           "gridcolor": "white",
           "linecolor": "white",
           "ticks": "",
           "title": {
            "standoff": 15
           },
           "zerolinecolor": "white",
           "zerolinewidth": 2
          },
          "yaxis": {
           "automargin": true,
           "gridcolor": "white",
           "linecolor": "white",
           "ticks": "",
           "title": {
            "standoff": 15
           },
           "zerolinecolor": "white",
           "zerolinewidth": 2
          }
         }
        },
        "title": {
         "text": "City Counts"
        },
        "xaxis": {
         "anchor": "y",
         "domain": [
          0,
          1
         ],
         "title": {
          "text": "City"
         }
        },
        "yaxis": {
         "anchor": "x",
         "domain": [
          0,
          1
         ],
         "title": {
          "text": "Count"
         }
        }
       }
      }
     },
     "metadata": {},
     "output_type": "display_data"
    }
   ],
   "source": [
    "fig = px.bar(city_churn.head(20), x='city', y='count', title='City Counts', text='count')\n",
    "fig.update_layout(\n",
    "    xaxis_title=\"City\",\n",
    "    yaxis_title=\"Count\"\n",
    ")\n",
    "fig.show()"
   ]
  },
  {
   "cell_type": "markdown",
   "id": "678cb5f2",
   "metadata": {},
   "source": [
    "We see that the city with the largest amount of customers is Los Angeles with 305 followed by San Diego with 150."
   ]
  },
  {
   "cell_type": "code",
   "execution_count": 71,
   "id": "8bf4136a",
   "metadata": {},
   "outputs": [
    {
     "data": {
      "application/vnd.plotly.v1+json": {
       "config": {
        "plotlyServerURL": "https://plot.ly"
       },
       "data": [
        {
         "hovertemplate": "city=%{x}<br>churn_rate=%{marker.color}<extra></extra>",
         "legendgroup": "",
         "marker": {
          "color": {
           "bdata": "7FG4HoXrsT/sUbgeheuxP3sUrkfherQ/exSuR+F6tD+amZmZmZm5P5qZmZmZmbk/mpmZmZmZuT+amZmZmZm5P5qZmZmZmbk/mpmZmZmZuT+amZmZmZm5P5qZmZmZmbk/uB6F61G4vj+4HoXrUbi+P7gehetRuL4/uB6F61G4vj+4HoXrUbi+P7gehetRuL4/uB6F61G4vj+4HoXrUbi+P7gehetRuL4/uB6F61G4vj+4HoXrUbi+P6RwPQrXo8A/MzMzMzMzwz/D9Shcj8LFP8P1KFyPwsU/w/UoXI/CxT/D9Shcj8LFPwrXo3A9Csc/",
           "dtype": "f8"
          },
          "coloraxis": "coloraxis",
          "pattern": {
           "shape": ""
          }
         },
         "name": "",
         "orientation": "v",
         "showlegend": false,
         "text": {
          "bdata": "7FG4HoXrsT/sUbgeheuxP3sUrkfherQ/exSuR+F6tD+amZmZmZm5P5qZmZmZmbk/mpmZmZmZuT+amZmZmZm5P5qZmZmZmbk/mpmZmZmZuT+amZmZmZm5P5qZmZmZmbk/uB6F61G4vj+4HoXrUbi+P7gehetRuL4/uB6F61G4vj+4HoXrUbi+P7gehetRuL4/uB6F61G4vj+4HoXrUbi+P7gehetRuL4/uB6F61G4vj+4HoXrUbi+P6RwPQrXo8A/MzMzMzMzwz/D9Shcj8LFP8P1KFyPwsU/w/UoXI/CxT/D9Shcj8LFPwrXo3A9Csc/",
          "dtype": "f8"
         },
         "textposition": "auto",
         "type": "bar",
         "x": [
          "Gardena",
          "Beverly Hills",
          "San Leandro",
          "Bakersfield",
          "Monterey Park",
          "Encino",
          "Arcadia",
          "Rancho Santa Fe",
          "Redondo Beach",
          "Woodland Hills",
          "Corona",
          "La Mesa",
          "Fullerton",
          "Citrus Heights",
          "Vacaville",
          "Mission Viejo",
          "West Sacramento",
          "Castro Valley",
          "Los Altos",
          "Tustin",
          "Frazier Park",
          "Simi Valley",
          "Danville",
          "Compton",
          "Orange",
          "Hemet",
          "Sunnyvale",
          "Whittier",
          "Redding",
          "Irvine"
         ],
         "xaxis": "x",
         "y": {
          "bdata": "7FG4HoXrsT/sUbgeheuxP3sUrkfherQ/exSuR+F6tD+amZmZmZm5P5qZmZmZmbk/mpmZmZmZuT+amZmZmZm5P5qZmZmZmbk/mpmZmZmZuT+amZmZmZm5P5qZmZmZmbk/uB6F61G4vj+4HoXrUbi+P7gehetRuL4/uB6F61G4vj+4HoXrUbi+P7gehetRuL4/uB6F61G4vj+4HoXrUbi+P7gehetRuL4/uB6F61G4vj+4HoXrUbi+P6RwPQrXo8A/MzMzMzMzwz/D9Shcj8LFP8P1KFyPwsU/w/UoXI/CxT/D9Shcj8LFPwrXo3A9Csc/",
          "dtype": "f8"
         },
         "yaxis": "y"
        }
       ],
       "layout": {
        "barmode": "relative",
        "coloraxis": {
         "colorbar": {
          "title": {
           "text": "churn_rate"
          }
         },
         "colorscale": [
          [
           0,
           "#0d0887"
          ],
          [
           0.1111111111111111,
           "#46039f"
          ],
          [
           0.2222222222222222,
           "#7201a8"
          ],
          [
           0.3333333333333333,
           "#9c179e"
          ],
          [
           0.4444444444444444,
           "#bd3786"
          ],
          [
           0.5555555555555556,
           "#d8576b"
          ],
          [
           0.6666666666666666,
           "#ed7953"
          ],
          [
           0.7777777777777778,
           "#fb9f3a"
          ],
          [
           0.8888888888888888,
           "#fdca26"
          ],
          [
           1,
           "#f0f921"
          ]
         ]
        },
        "legend": {
         "tracegroupgap": 0
        },
        "template": {
         "data": {
          "bar": [
           {
            "error_x": {
             "color": "#2a3f5f"
            },
            "error_y": {
             "color": "#2a3f5f"
            },
            "marker": {
             "line": {
              "color": "#E5ECF6",
              "width": 0.5
             },
             "pattern": {
              "fillmode": "overlay",
              "size": 10,
              "solidity": 0.2
             }
            },
            "type": "bar"
           }
          ],
          "barpolar": [
           {
            "marker": {
             "line": {
              "color": "#E5ECF6",
              "width": 0.5
             },
             "pattern": {
              "fillmode": "overlay",
              "size": 10,
              "solidity": 0.2
             }
            },
            "type": "barpolar"
           }
          ],
          "carpet": [
           {
            "aaxis": {
             "endlinecolor": "#2a3f5f",
             "gridcolor": "white",
             "linecolor": "white",
             "minorgridcolor": "white",
             "startlinecolor": "#2a3f5f"
            },
            "baxis": {
             "endlinecolor": "#2a3f5f",
             "gridcolor": "white",
             "linecolor": "white",
             "minorgridcolor": "white",
             "startlinecolor": "#2a3f5f"
            },
            "type": "carpet"
           }
          ],
          "choropleth": [
           {
            "colorbar": {
             "outlinewidth": 0,
             "ticks": ""
            },
            "type": "choropleth"
           }
          ],
          "contour": [
           {
            "colorbar": {
             "outlinewidth": 0,
             "ticks": ""
            },
            "colorscale": [
             [
              0,
              "#0d0887"
             ],
             [
              0.1111111111111111,
              "#46039f"
             ],
             [
              0.2222222222222222,
              "#7201a8"
             ],
             [
              0.3333333333333333,
              "#9c179e"
             ],
             [
              0.4444444444444444,
              "#bd3786"
             ],
             [
              0.5555555555555556,
              "#d8576b"
             ],
             [
              0.6666666666666666,
              "#ed7953"
             ],
             [
              0.7777777777777778,
              "#fb9f3a"
             ],
             [
              0.8888888888888888,
              "#fdca26"
             ],
             [
              1,
              "#f0f921"
             ]
            ],
            "type": "contour"
           }
          ],
          "contourcarpet": [
           {
            "colorbar": {
             "outlinewidth": 0,
             "ticks": ""
            },
            "type": "contourcarpet"
           }
          ],
          "heatmap": [
           {
            "colorbar": {
             "outlinewidth": 0,
             "ticks": ""
            },
            "colorscale": [
             [
              0,
              "#0d0887"
             ],
             [
              0.1111111111111111,
              "#46039f"
             ],
             [
              0.2222222222222222,
              "#7201a8"
             ],
             [
              0.3333333333333333,
              "#9c179e"
             ],
             [
              0.4444444444444444,
              "#bd3786"
             ],
             [
              0.5555555555555556,
              "#d8576b"
             ],
             [
              0.6666666666666666,
              "#ed7953"
             ],
             [
              0.7777777777777778,
              "#fb9f3a"
             ],
             [
              0.8888888888888888,
              "#fdca26"
             ],
             [
              1,
              "#f0f921"
             ]
            ],
            "type": "heatmap"
           }
          ],
          "histogram": [
           {
            "marker": {
             "pattern": {
              "fillmode": "overlay",
              "size": 10,
              "solidity": 0.2
             }
            },
            "type": "histogram"
           }
          ],
          "histogram2d": [
           {
            "colorbar": {
             "outlinewidth": 0,
             "ticks": ""
            },
            "colorscale": [
             [
              0,
              "#0d0887"
             ],
             [
              0.1111111111111111,
              "#46039f"
             ],
             [
              0.2222222222222222,
              "#7201a8"
             ],
             [
              0.3333333333333333,
              "#9c179e"
             ],
             [
              0.4444444444444444,
              "#bd3786"
             ],
             [
              0.5555555555555556,
              "#d8576b"
             ],
             [
              0.6666666666666666,
              "#ed7953"
             ],
             [
              0.7777777777777778,
              "#fb9f3a"
             ],
             [
              0.8888888888888888,
              "#fdca26"
             ],
             [
              1,
              "#f0f921"
             ]
            ],
            "type": "histogram2d"
           }
          ],
          "histogram2dcontour": [
           {
            "colorbar": {
             "outlinewidth": 0,
             "ticks": ""
            },
            "colorscale": [
             [
              0,
              "#0d0887"
             ],
             [
              0.1111111111111111,
              "#46039f"
             ],
             [
              0.2222222222222222,
              "#7201a8"
             ],
             [
              0.3333333333333333,
              "#9c179e"
             ],
             [
              0.4444444444444444,
              "#bd3786"
             ],
             [
              0.5555555555555556,
              "#d8576b"
             ],
             [
              0.6666666666666666,
              "#ed7953"
             ],
             [
              0.7777777777777778,
              "#fb9f3a"
             ],
             [
              0.8888888888888888,
              "#fdca26"
             ],
             [
              1,
              "#f0f921"
             ]
            ],
            "type": "histogram2dcontour"
           }
          ],
          "mesh3d": [
           {
            "colorbar": {
             "outlinewidth": 0,
             "ticks": ""
            },
            "type": "mesh3d"
           }
          ],
          "parcoords": [
           {
            "line": {
             "colorbar": {
              "outlinewidth": 0,
              "ticks": ""
             }
            },
            "type": "parcoords"
           }
          ],
          "pie": [
           {
            "automargin": true,
            "type": "pie"
           }
          ],
          "scatter": [
           {
            "fillpattern": {
             "fillmode": "overlay",
             "size": 10,
             "solidity": 0.2
            },
            "type": "scatter"
           }
          ],
          "scatter3d": [
           {
            "line": {
             "colorbar": {
              "outlinewidth": 0,
              "ticks": ""
             }
            },
            "marker": {
             "colorbar": {
              "outlinewidth": 0,
              "ticks": ""
             }
            },
            "type": "scatter3d"
           }
          ],
          "scattercarpet": [
           {
            "marker": {
             "colorbar": {
              "outlinewidth": 0,
              "ticks": ""
             }
            },
            "type": "scattercarpet"
           }
          ],
          "scattergeo": [
           {
            "marker": {
             "colorbar": {
              "outlinewidth": 0,
              "ticks": ""
             }
            },
            "type": "scattergeo"
           }
          ],
          "scattergl": [
           {
            "marker": {
             "colorbar": {
              "outlinewidth": 0,
              "ticks": ""
             }
            },
            "type": "scattergl"
           }
          ],
          "scattermap": [
           {
            "marker": {
             "colorbar": {
              "outlinewidth": 0,
              "ticks": ""
             }
            },
            "type": "scattermap"
           }
          ],
          "scattermapbox": [
           {
            "marker": {
             "colorbar": {
              "outlinewidth": 0,
              "ticks": ""
             }
            },
            "type": "scattermapbox"
           }
          ],
          "scatterpolar": [
           {
            "marker": {
             "colorbar": {
              "outlinewidth": 0,
              "ticks": ""
             }
            },
            "type": "scatterpolar"
           }
          ],
          "scatterpolargl": [
           {
            "marker": {
             "colorbar": {
              "outlinewidth": 0,
              "ticks": ""
             }
            },
            "type": "scatterpolargl"
           }
          ],
          "scatterternary": [
           {
            "marker": {
             "colorbar": {
              "outlinewidth": 0,
              "ticks": ""
             }
            },
            "type": "scatterternary"
           }
          ],
          "surface": [
           {
            "colorbar": {
             "outlinewidth": 0,
             "ticks": ""
            },
            "colorscale": [
             [
              0,
              "#0d0887"
             ],
             [
              0.1111111111111111,
              "#46039f"
             ],
             [
              0.2222222222222222,
              "#7201a8"
             ],
             [
              0.3333333333333333,
              "#9c179e"
             ],
             [
              0.4444444444444444,
              "#bd3786"
             ],
             [
              0.5555555555555556,
              "#d8576b"
             ],
             [
              0.6666666666666666,
              "#ed7953"
             ],
             [
              0.7777777777777778,
              "#fb9f3a"
             ],
             [
              0.8888888888888888,
              "#fdca26"
             ],
             [
              1,
              "#f0f921"
             ]
            ],
            "type": "surface"
           }
          ],
          "table": [
           {
            "cells": {
             "fill": {
              "color": "#EBF0F8"
             },
             "line": {
              "color": "white"
             }
            },
            "header": {
             "fill": {
              "color": "#C8D4E3"
             },
             "line": {
              "color": "white"
             }
            },
            "type": "table"
           }
          ]
         },
         "layout": {
          "annotationdefaults": {
           "arrowcolor": "#2a3f5f",
           "arrowhead": 0,
           "arrowwidth": 1
          },
          "autotypenumbers": "strict",
          "coloraxis": {
           "colorbar": {
            "outlinewidth": 0,
            "ticks": ""
           }
          },
          "colorscale": {
           "diverging": [
            [
             0,
             "#8e0152"
            ],
            [
             0.1,
             "#c51b7d"
            ],
            [
             0.2,
             "#de77ae"
            ],
            [
             0.3,
             "#f1b6da"
            ],
            [
             0.4,
             "#fde0ef"
            ],
            [
             0.5,
             "#f7f7f7"
            ],
            [
             0.6,
             "#e6f5d0"
            ],
            [
             0.7,
             "#b8e186"
            ],
            [
             0.8,
             "#7fbc41"
            ],
            [
             0.9,
             "#4d9221"
            ],
            [
             1,
             "#276419"
            ]
           ],
           "sequential": [
            [
             0,
             "#0d0887"
            ],
            [
             0.1111111111111111,
             "#46039f"
            ],
            [
             0.2222222222222222,
             "#7201a8"
            ],
            [
             0.3333333333333333,
             "#9c179e"
            ],
            [
             0.4444444444444444,
             "#bd3786"
            ],
            [
             0.5555555555555556,
             "#d8576b"
            ],
            [
             0.6666666666666666,
             "#ed7953"
            ],
            [
             0.7777777777777778,
             "#fb9f3a"
            ],
            [
             0.8888888888888888,
             "#fdca26"
            ],
            [
             1,
             "#f0f921"
            ]
           ],
           "sequentialminus": [
            [
             0,
             "#0d0887"
            ],
            [
             0.1111111111111111,
             "#46039f"
            ],
            [
             0.2222222222222222,
             "#7201a8"
            ],
            [
             0.3333333333333333,
             "#9c179e"
            ],
            [
             0.4444444444444444,
             "#bd3786"
            ],
            [
             0.5555555555555556,
             "#d8576b"
            ],
            [
             0.6666666666666666,
             "#ed7953"
            ],
            [
             0.7777777777777778,
             "#fb9f3a"
            ],
            [
             0.8888888888888888,
             "#fdca26"
            ],
            [
             1,
             "#f0f921"
            ]
           ]
          },
          "colorway": [
           "#636efa",
           "#EF553B",
           "#00cc96",
           "#ab63fa",
           "#FFA15A",
           "#19d3f3",
           "#FF6692",
           "#B6E880",
           "#FF97FF",
           "#FECB52"
          ],
          "font": {
           "color": "#2a3f5f"
          },
          "geo": {
           "bgcolor": "white",
           "lakecolor": "white",
           "landcolor": "#E5ECF6",
           "showlakes": true,
           "showland": true,
           "subunitcolor": "white"
          },
          "hoverlabel": {
           "align": "left"
          },
          "hovermode": "closest",
          "mapbox": {
           "style": "light"
          },
          "paper_bgcolor": "white",
          "plot_bgcolor": "#E5ECF6",
          "polar": {
           "angularaxis": {
            "gridcolor": "white",
            "linecolor": "white",
            "ticks": ""
           },
           "bgcolor": "#E5ECF6",
           "radialaxis": {
            "gridcolor": "white",
            "linecolor": "white",
            "ticks": ""
           }
          },
          "scene": {
           "xaxis": {
            "backgroundcolor": "#E5ECF6",
            "gridcolor": "white",
            "gridwidth": 2,
            "linecolor": "white",
            "showbackground": true,
            "ticks": "",
            "zerolinecolor": "white"
           },
           "yaxis": {
            "backgroundcolor": "#E5ECF6",
            "gridcolor": "white",
            "gridwidth": 2,
            "linecolor": "white",
            "showbackground": true,
            "ticks": "",
            "zerolinecolor": "white"
           },
           "zaxis": {
            "backgroundcolor": "#E5ECF6",
            "gridcolor": "white",
            "gridwidth": 2,
            "linecolor": "white",
            "showbackground": true,
            "ticks": "",
            "zerolinecolor": "white"
           }
          },
          "shapedefaults": {
           "line": {
            "color": "#2a3f5f"
           }
          },
          "ternary": {
           "aaxis": {
            "gridcolor": "white",
            "linecolor": "white",
            "ticks": ""
           },
           "baxis": {
            "gridcolor": "white",
            "linecolor": "white",
            "ticks": ""
           },
           "bgcolor": "#E5ECF6",
           "caxis": {
            "gridcolor": "white",
            "linecolor": "white",
            "ticks": ""
           }
          },
          "title": {
           "x": 0.05
          },
          "xaxis": {
           "automargin": true,
           "gridcolor": "white",
           "linecolor": "white",
           "ticks": "",
           "title": {
            "standoff": 15
           },
           "zerolinecolor": "white",
           "zerolinewidth": 2
          },
          "yaxis": {
           "automargin": true,
           "gridcolor": "white",
           "linecolor": "white",
           "ticks": "",
           "title": {
            "standoff": 15
           },
           "zerolinecolor": "white",
           "zerolinewidth": 2
          }
         }
        },
        "title": {
         "text": "Churn Rate by City (ascending)"
        },
        "xaxis": {
         "anchor": "y",
         "domain": [
          0,
          1
         ],
         "title": {
          "text": "City"
         }
        },
        "yaxis": {
         "anchor": "x",
         "domain": [
          0,
          1
         ],
         "title": {
          "text": "Churn Rate"
         }
        }
       }
      }
     },
     "metadata": {},
     "output_type": "display_data"
    }
   ],
   "source": [
    "fig = px.bar(city_churn.sort_values(by='churn_rate', ascending=True).head(30),\n",
    "             x='city', y= 'churn_rate', title='Churn Rate by City (ascending)', text ='churn_rate', color='churn_rate')\n",
    "fig.update_layout(\n",
    "    xaxis_title=\"City\",\n",
    "    yaxis_title=\"Churn Rate\"\n",
    ")\n",
    "fig.show()"
   ]
  },
  {
   "cell_type": "code",
   "execution_count": 72,
   "id": "240bdfd6",
   "metadata": {},
   "outputs": [
    {
     "data": {
      "application/vnd.plotly.v1+json": {
       "config": {
        "plotlyServerURL": "https://plot.ly"
       },
       "data": [
        {
         "hovertemplate": "city=%{x}<br>churn_rate=%{marker.color}<extra></extra>",
         "legendgroup": "",
         "marker": {
          "color": {
           "bdata": "AAAAAAAA8D8AAAAAAADwPwAAAAAAAPA/AAAAAAAA8D8AAAAAAADwPwAAAAAAAPA/AAAAAAAA8D8AAAAAAADwPwAAAAAAAPA/AAAAAAAA8D8AAAAAAADwPwAAAAAAAPA/mpmZmZmZ6T+amZmZmZnpP5qZmZmZmek/mpmZmZmZ6T8AAAAAAADoPwAAAAAAAOg/AAAAAAAA6D8AAAAAAADoPwAAAAAAAOg/AAAAAAAA6D8AAAAAAADoPwAAAAAAAOg/AAAAAAAA6D8AAAAAAADoPwAAAAAAAOg/AAAAAAAA6D8AAAAAAADoPwAAAAAAAOg/",
           "dtype": "f8"
          },
          "coloraxis": "coloraxis",
          "pattern": {
           "shape": ""
          }
         },
         "name": "",
         "orientation": "v",
         "showlegend": false,
         "text": {
          "bdata": "AAAAAAAA8D8AAAAAAADwPwAAAAAAAPA/AAAAAAAA8D8AAAAAAADwPwAAAAAAAPA/AAAAAAAA8D8AAAAAAADwPwAAAAAAAPA/AAAAAAAA8D8AAAAAAADwPwAAAAAAAPA/mpmZmZmZ6T+amZmZmZnpP5qZmZmZmek/mpmZmZmZ6T8AAAAAAADoPwAAAAAAAOg/AAAAAAAA6D8AAAAAAADoPwAAAAAAAOg/AAAAAAAA6D8AAAAAAADoPwAAAAAAAOg/AAAAAAAA6D8AAAAAAADoPwAAAAAAAOg/AAAAAAAA6D8AAAAAAADoPwAAAAAAAOg/",
          "dtype": "f8"
         },
         "textposition": "auto",
         "type": "bar",
         "x": [
          "Johannesburg",
          "Fort Jones",
          "Tipton",
          "Truckee",
          "South Lake Tahoe",
          "Riverbank",
          "Boulder Creek",
          "Wrightwood",
          "Smith River",
          "Twain",
          "Maricopa",
          "Eldridge",
          "Indian Wells",
          "Panorama City",
          "San Dimas",
          "Seeley",
          "Grimes",
          "Ludlow",
          "Grizzly Flats",
          "Orangevale",
          "Delhi",
          "Jackson",
          "Corona Del Mar",
          "Sierra City",
          "Keene",
          "Summerland",
          "Dinuba",
          "Lewiston",
          "Quincy",
          "Comptche"
         ],
         "xaxis": "x",
         "y": {
          "bdata": "AAAAAAAA8D8AAAAAAADwPwAAAAAAAPA/AAAAAAAA8D8AAAAAAADwPwAAAAAAAPA/AAAAAAAA8D8AAAAAAADwPwAAAAAAAPA/AAAAAAAA8D8AAAAAAADwPwAAAAAAAPA/mpmZmZmZ6T+amZmZmZnpP5qZmZmZmek/mpmZmZmZ6T8AAAAAAADoPwAAAAAAAOg/AAAAAAAA6D8AAAAAAADoPwAAAAAAAOg/AAAAAAAA6D8AAAAAAADoPwAAAAAAAOg/AAAAAAAA6D8AAAAAAADoPwAAAAAAAOg/AAAAAAAA6D8AAAAAAADoPwAAAAAAAOg/",
          "dtype": "f8"
         },
         "yaxis": "y"
        }
       ],
       "layout": {
        "barmode": "relative",
        "coloraxis": {
         "colorbar": {
          "title": {
           "text": "churn_rate"
          }
         },
         "colorscale": [
          [
           0,
           "#0d0887"
          ],
          [
           0.1111111111111111,
           "#46039f"
          ],
          [
           0.2222222222222222,
           "#7201a8"
          ],
          [
           0.3333333333333333,
           "#9c179e"
          ],
          [
           0.4444444444444444,
           "#bd3786"
          ],
          [
           0.5555555555555556,
           "#d8576b"
          ],
          [
           0.6666666666666666,
           "#ed7953"
          ],
          [
           0.7777777777777778,
           "#fb9f3a"
          ],
          [
           0.8888888888888888,
           "#fdca26"
          ],
          [
           1,
           "#f0f921"
          ]
         ]
        },
        "legend": {
         "tracegroupgap": 0
        },
        "template": {
         "data": {
          "bar": [
           {
            "error_x": {
             "color": "#2a3f5f"
            },
            "error_y": {
             "color": "#2a3f5f"
            },
            "marker": {
             "line": {
              "color": "#E5ECF6",
              "width": 0.5
             },
             "pattern": {
              "fillmode": "overlay",
              "size": 10,
              "solidity": 0.2
             }
            },
            "type": "bar"
           }
          ],
          "barpolar": [
           {
            "marker": {
             "line": {
              "color": "#E5ECF6",
              "width": 0.5
             },
             "pattern": {
              "fillmode": "overlay",
              "size": 10,
              "solidity": 0.2
             }
            },
            "type": "barpolar"
           }
          ],
          "carpet": [
           {
            "aaxis": {
             "endlinecolor": "#2a3f5f",
             "gridcolor": "white",
             "linecolor": "white",
             "minorgridcolor": "white",
             "startlinecolor": "#2a3f5f"
            },
            "baxis": {
             "endlinecolor": "#2a3f5f",
             "gridcolor": "white",
             "linecolor": "white",
             "minorgridcolor": "white",
             "startlinecolor": "#2a3f5f"
            },
            "type": "carpet"
           }
          ],
          "choropleth": [
           {
            "colorbar": {
             "outlinewidth": 0,
             "ticks": ""
            },
            "type": "choropleth"
           }
          ],
          "contour": [
           {
            "colorbar": {
             "outlinewidth": 0,
             "ticks": ""
            },
            "colorscale": [
             [
              0,
              "#0d0887"
             ],
             [
              0.1111111111111111,
              "#46039f"
             ],
             [
              0.2222222222222222,
              "#7201a8"
             ],
             [
              0.3333333333333333,
              "#9c179e"
             ],
             [
              0.4444444444444444,
              "#bd3786"
             ],
             [
              0.5555555555555556,
              "#d8576b"
             ],
             [
              0.6666666666666666,
              "#ed7953"
             ],
             [
              0.7777777777777778,
              "#fb9f3a"
             ],
             [
              0.8888888888888888,
              "#fdca26"
             ],
             [
              1,
              "#f0f921"
             ]
            ],
            "type": "contour"
           }
          ],
          "contourcarpet": [
           {
            "colorbar": {
             "outlinewidth": 0,
             "ticks": ""
            },
            "type": "contourcarpet"
           }
          ],
          "heatmap": [
           {
            "colorbar": {
             "outlinewidth": 0,
             "ticks": ""
            },
            "colorscale": [
             [
              0,
              "#0d0887"
             ],
             [
              0.1111111111111111,
              "#46039f"
             ],
             [
              0.2222222222222222,
              "#7201a8"
             ],
             [
              0.3333333333333333,
              "#9c179e"
             ],
             [
              0.4444444444444444,
              "#bd3786"
             ],
             [
              0.5555555555555556,
              "#d8576b"
             ],
             [
              0.6666666666666666,
              "#ed7953"
             ],
             [
              0.7777777777777778,
              "#fb9f3a"
             ],
             [
              0.8888888888888888,
              "#fdca26"
             ],
             [
              1,
              "#f0f921"
             ]
            ],
            "type": "heatmap"
           }
          ],
          "histogram": [
           {
            "marker": {
             "pattern": {
              "fillmode": "overlay",
              "size": 10,
              "solidity": 0.2
             }
            },
            "type": "histogram"
           }
          ],
          "histogram2d": [
           {
            "colorbar": {
             "outlinewidth": 0,
             "ticks": ""
            },
            "colorscale": [
             [
              0,
              "#0d0887"
             ],
             [
              0.1111111111111111,
              "#46039f"
             ],
             [
              0.2222222222222222,
              "#7201a8"
             ],
             [
              0.3333333333333333,
              "#9c179e"
             ],
             [
              0.4444444444444444,
              "#bd3786"
             ],
             [
              0.5555555555555556,
              "#d8576b"
             ],
             [
              0.6666666666666666,
              "#ed7953"
             ],
             [
              0.7777777777777778,
              "#fb9f3a"
             ],
             [
              0.8888888888888888,
              "#fdca26"
             ],
             [
              1,
              "#f0f921"
             ]
            ],
            "type": "histogram2d"
           }
          ],
          "histogram2dcontour": [
           {
            "colorbar": {
             "outlinewidth": 0,
             "ticks": ""
            },
            "colorscale": [
             [
              0,
              "#0d0887"
             ],
             [
              0.1111111111111111,
              "#46039f"
             ],
             [
              0.2222222222222222,
              "#7201a8"
             ],
             [
              0.3333333333333333,
              "#9c179e"
             ],
             [
              0.4444444444444444,
              "#bd3786"
             ],
             [
              0.5555555555555556,
              "#d8576b"
             ],
             [
              0.6666666666666666,
              "#ed7953"
             ],
             [
              0.7777777777777778,
              "#fb9f3a"
             ],
             [
              0.8888888888888888,
              "#fdca26"
             ],
             [
              1,
              "#f0f921"
             ]
            ],
            "type": "histogram2dcontour"
           }
          ],
          "mesh3d": [
           {
            "colorbar": {
             "outlinewidth": 0,
             "ticks": ""
            },
            "type": "mesh3d"
           }
          ],
          "parcoords": [
           {
            "line": {
             "colorbar": {
              "outlinewidth": 0,
              "ticks": ""
             }
            },
            "type": "parcoords"
           }
          ],
          "pie": [
           {
            "automargin": true,
            "type": "pie"
           }
          ],
          "scatter": [
           {
            "fillpattern": {
             "fillmode": "overlay",
             "size": 10,
             "solidity": 0.2
            },
            "type": "scatter"
           }
          ],
          "scatter3d": [
           {
            "line": {
             "colorbar": {
              "outlinewidth": 0,
              "ticks": ""
             }
            },
            "marker": {
             "colorbar": {
              "outlinewidth": 0,
              "ticks": ""
             }
            },
            "type": "scatter3d"
           }
          ],
          "scattercarpet": [
           {
            "marker": {
             "colorbar": {
              "outlinewidth": 0,
              "ticks": ""
             }
            },
            "type": "scattercarpet"
           }
          ],
          "scattergeo": [
           {
            "marker": {
             "colorbar": {
              "outlinewidth": 0,
              "ticks": ""
             }
            },
            "type": "scattergeo"
           }
          ],
          "scattergl": [
           {
            "marker": {
             "colorbar": {
              "outlinewidth": 0,
              "ticks": ""
             }
            },
            "type": "scattergl"
           }
          ],
          "scattermap": [
           {
            "marker": {
             "colorbar": {
              "outlinewidth": 0,
              "ticks": ""
             }
            },
            "type": "scattermap"
           }
          ],
          "scattermapbox": [
           {
            "marker": {
             "colorbar": {
              "outlinewidth": 0,
              "ticks": ""
             }
            },
            "type": "scattermapbox"
           }
          ],
          "scatterpolar": [
           {
            "marker": {
             "colorbar": {
              "outlinewidth": 0,
              "ticks": ""
             }
            },
            "type": "scatterpolar"
           }
          ],
          "scatterpolargl": [
           {
            "marker": {
             "colorbar": {
              "outlinewidth": 0,
              "ticks": ""
             }
            },
            "type": "scatterpolargl"
           }
          ],
          "scatterternary": [
           {
            "marker": {
             "colorbar": {
              "outlinewidth": 0,
              "ticks": ""
             }
            },
            "type": "scatterternary"
           }
          ],
          "surface": [
           {
            "colorbar": {
             "outlinewidth": 0,
             "ticks": ""
            },
            "colorscale": [
             [
              0,
              "#0d0887"
             ],
             [
              0.1111111111111111,
              "#46039f"
             ],
             [
              0.2222222222222222,
              "#7201a8"
             ],
             [
              0.3333333333333333,
              "#9c179e"
             ],
             [
              0.4444444444444444,
              "#bd3786"
             ],
             [
              0.5555555555555556,
              "#d8576b"
             ],
             [
              0.6666666666666666,
              "#ed7953"
             ],
             [
              0.7777777777777778,
              "#fb9f3a"
             ],
             [
              0.8888888888888888,
              "#fdca26"
             ],
             [
              1,
              "#f0f921"
             ]
            ],
            "type": "surface"
           }
          ],
          "table": [
           {
            "cells": {
             "fill": {
              "color": "#EBF0F8"
             },
             "line": {
              "color": "white"
             }
            },
            "header": {
             "fill": {
              "color": "#C8D4E3"
             },
             "line": {
              "color": "white"
             }
            },
            "type": "table"
           }
          ]
         },
         "layout": {
          "annotationdefaults": {
           "arrowcolor": "#2a3f5f",
           "arrowhead": 0,
           "arrowwidth": 1
          },
          "autotypenumbers": "strict",
          "coloraxis": {
           "colorbar": {
            "outlinewidth": 0,
            "ticks": ""
           }
          },
          "colorscale": {
           "diverging": [
            [
             0,
             "#8e0152"
            ],
            [
             0.1,
             "#c51b7d"
            ],
            [
             0.2,
             "#de77ae"
            ],
            [
             0.3,
             "#f1b6da"
            ],
            [
             0.4,
             "#fde0ef"
            ],
            [
             0.5,
             "#f7f7f7"
            ],
            [
             0.6,
             "#e6f5d0"
            ],
            [
             0.7,
             "#b8e186"
            ],
            [
             0.8,
             "#7fbc41"
            ],
            [
             0.9,
             "#4d9221"
            ],
            [
             1,
             "#276419"
            ]
           ],
           "sequential": [
            [
             0,
             "#0d0887"
            ],
            [
             0.1111111111111111,
             "#46039f"
            ],
            [
             0.2222222222222222,
             "#7201a8"
            ],
            [
             0.3333333333333333,
             "#9c179e"
            ],
            [
             0.4444444444444444,
             "#bd3786"
            ],
            [
             0.5555555555555556,
             "#d8576b"
            ],
            [
             0.6666666666666666,
             "#ed7953"
            ],
            [
             0.7777777777777778,
             "#fb9f3a"
            ],
            [
             0.8888888888888888,
             "#fdca26"
            ],
            [
             1,
             "#f0f921"
            ]
           ],
           "sequentialminus": [
            [
             0,
             "#0d0887"
            ],
            [
             0.1111111111111111,
             "#46039f"
            ],
            [
             0.2222222222222222,
             "#7201a8"
            ],
            [
             0.3333333333333333,
             "#9c179e"
            ],
            [
             0.4444444444444444,
             "#bd3786"
            ],
            [
             0.5555555555555556,
             "#d8576b"
            ],
            [
             0.6666666666666666,
             "#ed7953"
            ],
            [
             0.7777777777777778,
             "#fb9f3a"
            ],
            [
             0.8888888888888888,
             "#fdca26"
            ],
            [
             1,
             "#f0f921"
            ]
           ]
          },
          "colorway": [
           "#636efa",
           "#EF553B",
           "#00cc96",
           "#ab63fa",
           "#FFA15A",
           "#19d3f3",
           "#FF6692",
           "#B6E880",
           "#FF97FF",
           "#FECB52"
          ],
          "font": {
           "color": "#2a3f5f"
          },
          "geo": {
           "bgcolor": "white",
           "lakecolor": "white",
           "landcolor": "#E5ECF6",
           "showlakes": true,
           "showland": true,
           "subunitcolor": "white"
          },
          "hoverlabel": {
           "align": "left"
          },
          "hovermode": "closest",
          "mapbox": {
           "style": "light"
          },
          "paper_bgcolor": "white",
          "plot_bgcolor": "#E5ECF6",
          "polar": {
           "angularaxis": {
            "gridcolor": "white",
            "linecolor": "white",
            "ticks": ""
           },
           "bgcolor": "#E5ECF6",
           "radialaxis": {
            "gridcolor": "white",
            "linecolor": "white",
            "ticks": ""
           }
          },
          "scene": {
           "xaxis": {
            "backgroundcolor": "#E5ECF6",
            "gridcolor": "white",
            "gridwidth": 2,
            "linecolor": "white",
            "showbackground": true,
            "ticks": "",
            "zerolinecolor": "white"
           },
           "yaxis": {
            "backgroundcolor": "#E5ECF6",
            "gridcolor": "white",
            "gridwidth": 2,
            "linecolor": "white",
            "showbackground": true,
            "ticks": "",
            "zerolinecolor": "white"
           },
           "zaxis": {
            "backgroundcolor": "#E5ECF6",
            "gridcolor": "white",
            "gridwidth": 2,
            "linecolor": "white",
            "showbackground": true,
            "ticks": "",
            "zerolinecolor": "white"
           }
          },
          "shapedefaults": {
           "line": {
            "color": "#2a3f5f"
           }
          },
          "ternary": {
           "aaxis": {
            "gridcolor": "white",
            "linecolor": "white",
            "ticks": ""
           },
           "baxis": {
            "gridcolor": "white",
            "linecolor": "white",
            "ticks": ""
           },
           "bgcolor": "#E5ECF6",
           "caxis": {
            "gridcolor": "white",
            "linecolor": "white",
            "ticks": ""
           }
          },
          "title": {
           "x": 0.05
          },
          "xaxis": {
           "automargin": true,
           "gridcolor": "white",
           "linecolor": "white",
           "ticks": "",
           "title": {
            "standoff": 15
           },
           "zerolinecolor": "white",
           "zerolinewidth": 2
          },
          "yaxis": {
           "automargin": true,
           "gridcolor": "white",
           "linecolor": "white",
           "ticks": "",
           "title": {
            "standoff": 15
           },
           "zerolinecolor": "white",
           "zerolinewidth": 2
          }
         }
        },
        "title": {
         "text": "Churn Rate by City (descending)"
        },
        "xaxis": {
         "anchor": "y",
         "domain": [
          0,
          1
         ],
         "title": {
          "text": "City"
         }
        },
        "yaxis": {
         "anchor": "x",
         "domain": [
          0,
          1
         ],
         "title": {
          "text": "Churn Rate"
         }
        }
       }
      }
     },
     "metadata": {},
     "output_type": "display_data"
    }
   ],
   "source": [
    "fig = px.bar(city_churn.sort_values(by='churn_rate', ascending=False).head(30),\n",
    "             x='city', y= 'churn_rate', title='Churn Rate by City (descending)', text ='churn_rate', color='churn_rate')\n",
    "fig.update_layout(\n",
    "    xaxis_title=\"City\",\n",
    "    yaxis_title=\"Churn Rate\"\n",
    ")\n",
    "fig.show()"
   ]
  },
  {
   "cell_type": "markdown",
   "id": "35104fe7",
   "metadata": {},
   "source": [
    "### Latitude and Longitude"
   ]
  },
  {
   "cell_type": "code",
   "execution_count": 75,
   "id": "9cf4afa4",
   "metadata": {},
   "outputs": [
    {
     "data": {
      "text/html": [
       "<div>\n",
       "<style scoped>\n",
       "    .dataframe tbody tr th:only-of-type {\n",
       "        vertical-align: middle;\n",
       "    }\n",
       "\n",
       "    .dataframe tbody tr th {\n",
       "        vertical-align: top;\n",
       "    }\n",
       "\n",
       "    .dataframe thead th {\n",
       "        text-align: right;\n",
       "    }\n",
       "</style>\n",
       "<table border=\"1\" class=\"dataframe\">\n",
       "  <thead>\n",
       "    <tr style=\"text-align: right;\">\n",
       "      <th></th>\n",
       "      <th>Latitude</th>\n",
       "      <th>Longitude</th>\n",
       "      <th>count</th>\n",
       "      <th>churn_rate</th>\n",
       "    </tr>\n",
       "  </thead>\n",
       "  <tbody>\n",
       "    <tr>\n",
       "      <th>0</th>\n",
       "      <td>32.555828</td>\n",
       "      <td>-117.040073</td>\n",
       "      <td>5</td>\n",
       "      <td>0.2</td>\n",
       "    </tr>\n",
       "    <tr>\n",
       "      <th>384</th>\n",
       "      <td>34.038983</td>\n",
       "      <td>-117.991372</td>\n",
       "      <td>5</td>\n",
       "      <td>0.6</td>\n",
       "    </tr>\n",
       "    <tr>\n",
       "      <th>398</th>\n",
       "      <td>34.050198</td>\n",
       "      <td>-118.210946</td>\n",
       "      <td>5</td>\n",
       "      <td>0.2</td>\n",
       "    </tr>\n",
       "    <tr>\n",
       "      <th>397</th>\n",
       "      <td>34.049841</td>\n",
       "      <td>-118.338460</td>\n",
       "      <td>5</td>\n",
       "      <td>0.2</td>\n",
       "    </tr>\n",
       "    <tr>\n",
       "      <th>393</th>\n",
       "      <td>34.048013</td>\n",
       "      <td>-118.293953</td>\n",
       "      <td>5</td>\n",
       "      <td>0.2</td>\n",
       "    </tr>\n",
       "  </tbody>\n",
       "</table>\n",
       "</div>"
      ],
      "text/plain": [
       "      Latitude   Longitude  count  churn_rate\n",
       "0    32.555828 -117.040073      5         0.2\n",
       "384  34.038983 -117.991372      5         0.6\n",
       "398  34.050198 -118.210946      5         0.2\n",
       "397  34.049841 -118.338460      5         0.2\n",
       "393  34.048013 -118.293953      5         0.2"
      ]
     },
     "execution_count": 75,
     "metadata": {},
     "output_type": "execute_result"
    }
   ],
   "source": [
    "loc_churn = (\n",
    "    df.groupby(['Latitude', 'Longitude'])\n",
    "      .agg(\n",
    "          total_customers=('CustomerID', 'count'),\n",
    "          churners=('Churn Label', lambda x: (x == 'Yes').sum())\n",
    "      )\n",
    "      .reset_index()\n",
    ")\n",
    "\n",
    "loc_churn = loc_churn[loc_churn['churners'] > 0]\n",
    "loc_churn['churn_rate'] = (loc_churn['churners'] / loc_churn['total_customers']).round(2)\n",
    "loc_churn.drop(columns=['churners'], inplace=True)\n",
    "\n",
    "loc_churn = loc_churn.sort_values(by='total_customers', ascending=False)\n",
    "loc_churn.rename(columns={'total_customers': 'count'}, inplace=True)\n",
    "\n",
    "loc_churn.head()"
   ]
  },
  {
   "cell_type": "code",
   "execution_count": 78,
   "id": "eec566ab",
   "metadata": {},
   "outputs": [
    {
     "data": {
      "application/vnd.plotly.v1+json": {
       "config": {
        "plotlyServerURL": "https://plot.ly"
       },
       "data": [
        {
         "customdata": {
          "bdata": "BQUFBQUFBQUFBQUFBQUFBQUFBQUFBQUFBQUFBQUFBQUFBQUFBQUFBQUFBQUFBQUFBQUFBQUFBQUFBQUFBQUFBQUFBQUFBQUFBQUFBQUFBQUFBQUFBQUFBQUFBQUFBQUFBQUFBQUFBQUFBQUFBQUFBQUFBQUFBQUFBQUFBQUFBQUFBQUFBQUFBQUFBQUFBQUFBQUFBQUFBQUFBQUFBQUFBQUFBQUFBQUFBQUFBQUFBQUFBQUFBQUFBQUFBQUFBQUFBQUFBQUFBQUFBQUFBQUFBQUFBQUFBQUFBQUFBQUFBQUFBQUFBQUFBQUFBQUFBQUFBQUFBQUFBQUFBQUFBQUFBQUFBQUFBQUFBQUFBQUFBQUFBQUFBQUFBQUFBQUFBQUFBQUFBQUFBQUFBQUFBQUFBQUFBQUFBQUFBQUFBQUFBQUFBQUFBQUFBQUFBQUFBQUFBQUFBQUFBAQEBAQEBAQEBAQEBAQEBAQEBAQEBAQEBAQEBAQEBAQEBAQEBAQEBAQEBAQEBAQEBAQEBAQEBAQEBAQEBAQEBAQEBAQEBAQEBAQEBAQEBAQEBAQEBAQEBAQEBAQEBAQEBAQEBAQEBAQEBAQEBAQEBAQEBAQEBAQEBAQEBAQEBAQEBAQEBAQEBAQEBAQEBAQEBAQEBAQEBAQEBAQEBAQEBAQEBAQEBAQEBAQEBAQEBAQEBAQEBAQEBAQEBAQEBAQEBAQEBAQEBAQEBAQEBAQEBAQEBAQEBAQEBAQEBAQEBAQEBAQEBAQEBAQEBAQEBAQEBAQEBAQEBAQEBAQEBAQEBAQEBAQEBAQEBAQEBAQEBAQEBAQEBAQEBAQEBAQEBAQEBAQEBAQEBAQEBAQEBAQEBAQEBAQEBAQEBAQEBAQEBAQEBAQEBAQEBAQEBAQEBAQEBAQEBAQEBAQEBAQEBAQEBAQEBAQEBAQEBAQEBAQEBAQEBAQEBAQEBAQEBAQEBAQEBAQEBAQEBAQEBAQEBAQEBAQEBAQEBAQEBAQEBAQEBAQEBAQEBAQEBAQEBAQEBAQEBAQEBAQEBAQEBAQEBAQEBAQEBAQEBAQEBAQEBAQEBAQEBAQEBAQEBAQEBAQEBAQEBAQEBAQEBAQEBAQEBAQEBAQEBAQEBAQEBAQEBAQEBAQEBAQEBAQEBAQEBAQEBAQEBAQEBAQEBAQEBAQEBAQEBAQEBAQEBAQEBAQEBAQEBAQEBAQEBAQEBAQEBAQEBAQEBAQEBAQEBAQEBAQEBAQEBAQEBAQEBAQEBAQEBAQEBAQEBAQEBAQEBAQEBAQEBAQEBAQEBAQEBAQEBAQEBAQEBAQEBAQEBAQEBAQEBAQEBAQEBAQEBAQEBAQEBAQEBAQEBAQEBAQEBAQEBAQEBAQEBAQEBAQEBAQEBAQEBAQEBAQEBAQEBAQEBAQEBAQEBAQEBAQEBAQEBAQEBAQEBAQEBAQEBAQEBAQEBAQEBAQEBAQEBAQEBAQEBAQEBAQEBAQEBAQEBAQEBAQEBAQEBAQEBAQEBAQEBAQEBAQEBAQEBAQEBAQEBAQEBAQEBAQEBAQEBAQEBAQEBAQEBAQEBAQEBAQEBAQEBAQEBAQEBAQEBAQ=",
          "dtype": "i1",
          "shape": "1190, 1"
         },
         "hovertemplate": "Latitude=%{lat}<br>Longitude=%{lon}<br>count=%{marker.color}<extra></extra>",
         "lat": {
          "bdata": "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",
          "dtype": "f8"
         },
         "legendgroup": "",
         "lon": {
          "bdata": "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",
          "dtype": "f8"
         },
         "marker": {
          "color": {
           "bdata": "BQUFBQUFBQUFBQUFBQUFBQUFBQUFBQUFBQUFBQUFBQUFBQUFBQUFBQUFBQUFBQUFBQUFBQUFBQUFBQUFBQUFBQUFBQUFBQUFBQUFBQUFBQUFBQUFBQUFBQUFBQUFBQUFBQUFBQUFBQUFBQUFBQUFBQUFBQUFBQUFBQUFBQUFBQUFBQUFBQUFBQUFBQUFBQUFBQUFBQUFBQUFBQUFBQUFBQUFBQUFBQUFBQUFBQUFBQUFBQUFBQUFBQUFBQUFBQUFBQUFBQUFBQUFBQUFBQUFBQUFBQUFBQUFBQUFBQUFBQUFBQUFBQUFBQUFBQUFBQUFBQUFBQUFBQUFBQUFBQUFBQUFBQUFBQUFBQUFBQUFBQUFBQUFBQUFBQUFBQUFBQUFBQUFBQUFBQUFBQUFBQUFBQUFBQUFBQUFBQUFBQUFBQUFBQUFBQUFBQUFBQUFBQUFBQUFBQUFBAQEBAQEBAQEBAQEBAQEBAQEBAQEBAQEBAQEBAQEBAQEBAQEBAQEBAQEBAQEBAQEBAQEBAQEBAQEBAQEBAQEBAQEBAQEBAQEBAQEBAQEBAQEBAQEBAQEBAQEBAQEBAQEBAQEBAQEBAQEBAQEBAQEBAQEBAQEBAQEBAQEBAQEBAQEBAQEBAQEBAQEBAQEBAQEBAQEBAQEBAQEBAQEBAQEBAQEBAQEBAQEBAQEBAQEBAQEBAQEBAQEBAQEBAQEBAQEBAQEBAQEBAQEBAQEBAQEBAQEBAQEBAQEBAQEBAQEBAQEBAQEBAQEBAQEBAQEBAQEBAQEBAQEBAQEBAQEBAQEBAQEBAQEBAQEBAQEBAQEBAQEBAQEBAQEBAQEBAQEBAQEBAQEBAQEBAQEBAQEBAQEBAQEBAQEBAQEBAQEBAQEBAQEBAQEBAQEBAQEBAQEBAQEBAQEBAQEBAQEBAQEBAQEBAQEBAQEBAQEBAQEBAQEBAQEBAQEBAQEBAQEBAQEBAQEBAQEBAQEBAQEBAQEBAQEBAQEBAQEBAQEBAQEBAQEBAQEBAQEBAQEBAQEBAQEBAQEBAQEBAQEBAQEBAQEBAQEBAQEBAQEBAQEBAQEBAQEBAQEBAQEBAQEBAQEBAQEBAQEBAQEBAQEBAQEBAQEBAQEBAQEBAQEBAQEBAQEBAQEBAQEBAQEBAQEBAQEBAQEBAQEBAQEBAQEBAQEBAQEBAQEBAQEBAQEBAQEBAQEBAQEBAQEBAQEBAQEBAQEBAQEBAQEBAQEBAQEBAQEBAQEBAQEBAQEBAQEBAQEBAQEBAQEBAQEBAQEBAQEBAQEBAQEBAQEBAQEBAQEBAQEBAQEBAQEBAQEBAQEBAQEBAQEBAQEBAQEBAQEBAQEBAQEBAQEBAQEBAQEBAQEBAQEBAQEBAQEBAQEBAQEBAQEBAQEBAQEBAQEBAQEBAQEBAQEBAQEBAQEBAQEBAQEBAQEBAQEBAQEBAQEBAQEBAQEBAQEBAQEBAQEBAQEBAQEBAQEBAQEBAQEBAQEBAQEBAQEBAQEBAQEBAQEBAQEBAQEBAQEBAQEBAQEBAQEBAQEBAQEBAQEBAQEBAQEBAQEBAQEBAQEBAQEBAQEBAQEBAQEBAQEBAQEBAQ=",
           "dtype": "i1"
          },
          "coloraxis": "coloraxis"
         },
         "mode": "markers",
         "name": "",
         "showlegend": false,
         "subplot": "map",
         "type": "scattermap"
        }
       ],
       "layout": {
        "coloraxis": {
         "colorbar": {
          "title": {
           "text": "count"
          }
         },
         "colorscale": [
          [
           0,
           "#0d0887"
          ],
          [
           0.1111111111111111,
           "#46039f"
          ],
          [
           0.2222222222222222,
           "#7201a8"
          ],
          [
           0.3333333333333333,
           "#9c179e"
          ],
          [
           0.4444444444444444,
           "#bd3786"
          ],
          [
           0.5555555555555556,
           "#d8576b"
          ],
          [
           0.6666666666666666,
           "#ed7953"
          ],
          [
           0.7777777777777778,
           "#fb9f3a"
          ],
          [
           0.8888888888888888,
           "#fdca26"
          ],
          [
           1,
           "#f0f921"
          ]
         ]
        },
        "legend": {
         "tracegroupgap": 0
        },
        "map": {
         "center": {
          "lat": 36.366390878991595,
          "lon": -119.87218649831932
         },
         "domain": {
          "x": [
           0,
           1
          ],
          "y": [
           0,
           1
          ]
         },
         "style": "open-street-map",
         "zoom": 8
        },
        "mapbox": {
         "center": {
          "lat": 36.366390878991595,
          "lon": -119.87218649831932
         },
         "style": "open-street-map",
         "zoom": 8
        },
        "margin": {
         "t": 60
        },
        "template": {
         "data": {
          "bar": [
           {
            "error_x": {
             "color": "#2a3f5f"
            },
            "error_y": {
             "color": "#2a3f5f"
            },
            "marker": {
             "line": {
              "color": "#E5ECF6",
              "width": 0.5
             },
             "pattern": {
              "fillmode": "overlay",
              "size": 10,
              "solidity": 0.2
             }
            },
            "type": "bar"
           }
          ],
          "barpolar": [
           {
            "marker": {
             "line": {
              "color": "#E5ECF6",
              "width": 0.5
             },
             "pattern": {
              "fillmode": "overlay",
              "size": 10,
              "solidity": 0.2
             }
            },
            "type": "barpolar"
           }
          ],
          "carpet": [
           {
            "aaxis": {
             "endlinecolor": "#2a3f5f",
             "gridcolor": "white",
             "linecolor": "white",
             "minorgridcolor": "white",
             "startlinecolor": "#2a3f5f"
            },
            "baxis": {
             "endlinecolor": "#2a3f5f",
             "gridcolor": "white",
             "linecolor": "white",
             "minorgridcolor": "white",
             "startlinecolor": "#2a3f5f"
            },
            "type": "carpet"
           }
          ],
          "choropleth": [
           {
            "colorbar": {
             "outlinewidth": 0,
             "ticks": ""
            },
            "type": "choropleth"
           }
          ],
          "contour": [
           {
            "colorbar": {
             "outlinewidth": 0,
             "ticks": ""
            },
            "colorscale": [
             [
              0,
              "#0d0887"
             ],
             [
              0.1111111111111111,
              "#46039f"
             ],
             [
              0.2222222222222222,
              "#7201a8"
             ],
             [
              0.3333333333333333,
              "#9c179e"
             ],
             [
              0.4444444444444444,
              "#bd3786"
             ],
             [
              0.5555555555555556,
              "#d8576b"
             ],
             [
              0.6666666666666666,
              "#ed7953"
             ],
             [
              0.7777777777777778,
              "#fb9f3a"
             ],
             [
              0.8888888888888888,
              "#fdca26"
             ],
             [
              1,
              "#f0f921"
             ]
            ],
            "type": "contour"
           }
          ],
          "contourcarpet": [
           {
            "colorbar": {
             "outlinewidth": 0,
             "ticks": ""
            },
            "type": "contourcarpet"
           }
          ],
          "heatmap": [
           {
            "colorbar": {
             "outlinewidth": 0,
             "ticks": ""
            },
            "colorscale": [
             [
              0,
              "#0d0887"
             ],
             [
              0.1111111111111111,
              "#46039f"
             ],
             [
              0.2222222222222222,
              "#7201a8"
             ],
             [
              0.3333333333333333,
              "#9c179e"
             ],
             [
              0.4444444444444444,
              "#bd3786"
             ],
             [
              0.5555555555555556,
              "#d8576b"
             ],
             [
              0.6666666666666666,
              "#ed7953"
             ],
             [
              0.7777777777777778,
              "#fb9f3a"
             ],
             [
              0.8888888888888888,
              "#fdca26"
             ],
             [
              1,
              "#f0f921"
             ]
            ],
            "type": "heatmap"
           }
          ],
          "histogram": [
           {
            "marker": {
             "pattern": {
              "fillmode": "overlay",
              "size": 10,
              "solidity": 0.2
             }
            },
            "type": "histogram"
           }
          ],
          "histogram2d": [
           {
            "colorbar": {
             "outlinewidth": 0,
             "ticks": ""
            },
            "colorscale": [
             [
              0,
              "#0d0887"
             ],
             [
              0.1111111111111111,
              "#46039f"
             ],
             [
              0.2222222222222222,
              "#7201a8"
             ],
             [
              0.3333333333333333,
              "#9c179e"
             ],
             [
              0.4444444444444444,
              "#bd3786"
             ],
             [
              0.5555555555555556,
              "#d8576b"
             ],
             [
              0.6666666666666666,
              "#ed7953"
             ],
             [
              0.7777777777777778,
              "#fb9f3a"
             ],
             [
              0.8888888888888888,
              "#fdca26"
             ],
             [
              1,
              "#f0f921"
             ]
            ],
            "type": "histogram2d"
           }
          ],
          "histogram2dcontour": [
           {
            "colorbar": {
             "outlinewidth": 0,
             "ticks": ""
            },
            "colorscale": [
             [
              0,
              "#0d0887"
             ],
             [
              0.1111111111111111,
              "#46039f"
             ],
             [
              0.2222222222222222,
              "#7201a8"
             ],
             [
              0.3333333333333333,
              "#9c179e"
             ],
             [
              0.4444444444444444,
              "#bd3786"
             ],
             [
              0.5555555555555556,
              "#d8576b"
             ],
             [
              0.6666666666666666,
              "#ed7953"
             ],
             [
              0.7777777777777778,
              "#fb9f3a"
             ],
             [
              0.8888888888888888,
              "#fdca26"
             ],
             [
              1,
              "#f0f921"
             ]
            ],
            "type": "histogram2dcontour"
           }
          ],
          "mesh3d": [
           {
            "colorbar": {
             "outlinewidth": 0,
             "ticks": ""
            },
            "type": "mesh3d"
           }
          ],
          "parcoords": [
           {
            "line": {
             "colorbar": {
              "outlinewidth": 0,
              "ticks": ""
             }
            },
            "type": "parcoords"
           }
          ],
          "pie": [
           {
            "automargin": true,
            "type": "pie"
           }
          ],
          "scatter": [
           {
            "fillpattern": {
             "fillmode": "overlay",
             "size": 10,
             "solidity": 0.2
            },
            "type": "scatter"
           }
          ],
          "scatter3d": [
           {
            "line": {
             "colorbar": {
              "outlinewidth": 0,
              "ticks": ""
             }
            },
            "marker": {
             "colorbar": {
              "outlinewidth": 0,
              "ticks": ""
             }
            },
            "type": "scatter3d"
           }
          ],
          "scattercarpet": [
           {
            "marker": {
             "colorbar": {
              "outlinewidth": 0,
              "ticks": ""
             }
            },
            "type": "scattercarpet"
           }
          ],
          "scattergeo": [
           {
            "marker": {
             "colorbar": {
              "outlinewidth": 0,
              "ticks": ""
             }
            },
            "type": "scattergeo"
           }
          ],
          "scattergl": [
           {
            "marker": {
             "colorbar": {
              "outlinewidth": 0,
              "ticks": ""
             }
            },
            "type": "scattergl"
           }
          ],
          "scattermap": [
           {
            "marker": {
             "colorbar": {
              "outlinewidth": 0,
              "ticks": ""
             }
            },
            "type": "scattermap"
           }
          ],
          "scattermapbox": [
           {
            "marker": {
             "colorbar": {
              "outlinewidth": 0,
              "ticks": ""
             }
            },
            "type": "scattermapbox"
           }
          ],
          "scatterpolar": [
           {
            "marker": {
             "colorbar": {
              "outlinewidth": 0,
              "ticks": ""
             }
            },
            "type": "scatterpolar"
           }
          ],
          "scatterpolargl": [
           {
            "marker": {
             "colorbar": {
              "outlinewidth": 0,
              "ticks": ""
             }
            },
            "type": "scatterpolargl"
           }
          ],
          "scatterternary": [
           {
            "marker": {
             "colorbar": {
              "outlinewidth": 0,
              "ticks": ""
             }
            },
            "type": "scatterternary"
           }
          ],
          "surface": [
           {
            "colorbar": {
             "outlinewidth": 0,
             "ticks": ""
            },
            "colorscale": [
             [
              0,
              "#0d0887"
             ],
             [
              0.1111111111111111,
              "#46039f"
             ],
             [
              0.2222222222222222,
              "#7201a8"
             ],
             [
              0.3333333333333333,
              "#9c179e"
             ],
             [
              0.4444444444444444,
              "#bd3786"
             ],
             [
              0.5555555555555556,
              "#d8576b"
             ],
             [
              0.6666666666666666,
              "#ed7953"
             ],
             [
              0.7777777777777778,
              "#fb9f3a"
             ],
             [
              0.8888888888888888,
              "#fdca26"
             ],
             [
              1,
              "#f0f921"
             ]
            ],
            "type": "surface"
           }
          ],
          "table": [
           {
            "cells": {
             "fill": {
              "color": "#EBF0F8"
             },
             "line": {
              "color": "white"
             }
            },
            "header": {
             "fill": {
              "color": "#C8D4E3"
             },
             "line": {
              "color": "white"
             }
            },
            "type": "table"
           }
          ]
         },
         "layout": {
          "annotationdefaults": {
           "arrowcolor": "#2a3f5f",
           "arrowhead": 0,
           "arrowwidth": 1
          },
          "autotypenumbers": "strict",
          "coloraxis": {
           "colorbar": {
            "outlinewidth": 0,
            "ticks": ""
           }
          },
          "colorscale": {
           "diverging": [
            [
             0,
             "#8e0152"
            ],
            [
             0.1,
             "#c51b7d"
            ],
            [
             0.2,
             "#de77ae"
            ],
            [
             0.3,
             "#f1b6da"
            ],
            [
             0.4,
             "#fde0ef"
            ],
            [
             0.5,
             "#f7f7f7"
            ],
            [
             0.6,
             "#e6f5d0"
            ],
            [
             0.7,
             "#b8e186"
            ],
            [
             0.8,
             "#7fbc41"
            ],
            [
             0.9,
             "#4d9221"
            ],
            [
             1,
             "#276419"
            ]
           ],
           "sequential": [
            [
             0,
             "#0d0887"
            ],
            [
             0.1111111111111111,
             "#46039f"
            ],
            [
             0.2222222222222222,
             "#7201a8"
            ],
            [
             0.3333333333333333,
             "#9c179e"
            ],
            [
             0.4444444444444444,
             "#bd3786"
            ],
            [
             0.5555555555555556,
             "#d8576b"
            ],
            [
             0.6666666666666666,
             "#ed7953"
            ],
            [
             0.7777777777777778,
             "#fb9f3a"
            ],
            [
             0.8888888888888888,
             "#fdca26"
            ],
            [
             1,
             "#f0f921"
            ]
           ],
           "sequentialminus": [
            [
             0,
             "#0d0887"
            ],
            [
             0.1111111111111111,
             "#46039f"
            ],
            [
             0.2222222222222222,
             "#7201a8"
            ],
            [
             0.3333333333333333,
             "#9c179e"
            ],
            [
             0.4444444444444444,
             "#bd3786"
            ],
            [
             0.5555555555555556,
             "#d8576b"
            ],
            [
             0.6666666666666666,
             "#ed7953"
            ],
            [
             0.7777777777777778,
             "#fb9f3a"
            ],
            [
             0.8888888888888888,
             "#fdca26"
            ],
            [
             1,
             "#f0f921"
            ]
           ]
          },
          "colorway": [
           "#636efa",
           "#EF553B",
           "#00cc96",
           "#ab63fa",
           "#FFA15A",
           "#19d3f3",
           "#FF6692",
           "#B6E880",
           "#FF97FF",
           "#FECB52"
          ],
          "font": {
           "color": "#2a3f5f"
          },
          "geo": {
           "bgcolor": "white",
           "lakecolor": "white",
           "landcolor": "#E5ECF6",
           "showlakes": true,
           "showland": true,
           "subunitcolor": "white"
          },
          "hoverlabel": {
           "align": "left"
          },
          "hovermode": "closest",
          "mapbox": {
           "style": "light"
          },
          "paper_bgcolor": "white",
          "plot_bgcolor": "#E5ECF6",
          "polar": {
           "angularaxis": {
            "gridcolor": "white",
            "linecolor": "white",
            "ticks": ""
           },
           "bgcolor": "#E5ECF6",
           "radialaxis": {
            "gridcolor": "white",
            "linecolor": "white",
            "ticks": ""
           }
          },
          "scene": {
           "xaxis": {
            "backgroundcolor": "#E5ECF6",
            "gridcolor": "white",
            "gridwidth": 2,
            "linecolor": "white",
            "showbackground": true,
            "ticks": "",
            "zerolinecolor": "white"
           },
           "yaxis": {
            "backgroundcolor": "#E5ECF6",
            "gridcolor": "white",
            "gridwidth": 2,
            "linecolor": "white",
            "showbackground": true,
            "ticks": "",
            "zerolinecolor": "white"
           },
           "zaxis": {
            "backgroundcolor": "#E5ECF6",
            "gridcolor": "white",
            "gridwidth": 2,
            "linecolor": "white",
            "showbackground": true,
            "ticks": "",
            "zerolinecolor": "white"
           }
          },
          "shapedefaults": {
           "line": {
            "color": "#2a3f5f"
           }
          },
          "ternary": {
           "aaxis": {
            "gridcolor": "white",
            "linecolor": "white",
            "ticks": ""
           },
           "baxis": {
            "gridcolor": "white",
            "linecolor": "white",
            "ticks": ""
           },
           "bgcolor": "#E5ECF6",
           "caxis": {
            "gridcolor": "white",
            "linecolor": "white",
            "ticks": ""
           }
          },
          "title": {
           "x": 0.05
          },
          "xaxis": {
           "automargin": true,
           "gridcolor": "white",
           "linecolor": "white",
           "ticks": "",
           "title": {
            "standoff": 15
           },
           "zerolinecolor": "white",
           "zerolinewidth": 2
          },
          "yaxis": {
           "automargin": true,
           "gridcolor": "white",
           "linecolor": "white",
           "ticks": "",
           "title": {
            "standoff": 15
           },
           "zerolinecolor": "white",
           "zerolinewidth": 2
          }
         }
        }
       }
      }
     },
     "metadata": {},
     "output_type": "display_data"
    }
   ],
   "source": [
    "fig = px.scatter_map(loc_churn,\n",
    "                        lat=\"Latitude\", lon='Longitude',\n",
    "                        hover_data= ['count'], map_style='open-street-map',\n",
    "                        color=\"count\"\n",
    "        )\n",
    "fig.show()"
   ]
  },
  {
   "cell_type": "code",
   "execution_count": 80,
   "id": "be08f14c",
   "metadata": {},
   "outputs": [
    {
     "data": {
      "application/vnd.plotly.v1+json": {
       "config": {
        "plotlyServerURL": "https://plot.ly"
       },
       "data": [
        {
         "customdata": {
          "bdata": "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",
          "dtype": "f8",
          "shape": "1190, 1"
         },
         "hovertemplate": "Latitude=%{lat}<br>Longitude=%{lon}<br>churn_rate=%{marker.color}<extra></extra>",
         "lat": {
          "bdata": "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",
          "dtype": "f8"
         },
         "legendgroup": "",
         "lon": {
          "bdata": "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",
          "dtype": "f8"
         },
         "marker": {
          "color": {
           "bdata": "mpmZmZmZyT8zMzMzMzPjP5qZmZmZmck/mpmZmZmZyT+amZmZmZnJP5qZmZmZmck/mpmZmZmZyT+amZmZmZnZP5qZmZmZmdk/mpmZmZmZ2T+amZmZmZnJP5qZmZmZmck/mpmZmZmZyT+amZmZmZnZP5qZmZmZmck/mpmZmZmZyT+amZmZmZnZP5qZmZmZmek/mpmZmZmZ2T+amZmZmZnZP5qZmZmZmck/mpmZmZmZyT+amZmZmZnJP5qZmZmZmdk/mpmZmZmZyT+amZmZmZnZP5qZmZmZmck/mpmZmZmZyT+amZmZmZnZP5qZmZmZmck/mpmZmZmZyT+amZmZmZnZP5qZmZmZmdk/mpmZmZmZyT8zMzMzMzPjP5qZmZmZmdk/mpmZmZmZ2T+amZmZmZnJP5qZmZmZmdk/mpmZmZmZyT+amZmZmZnJPwAAAAAAAPA/MzMzMzMz4z+amZmZmZnJPzMzMzMzM+M/mpmZmZmZyT8zMzMzMzPjP5qZmZmZmck/mpmZmZmZyT8zMzMzMzPjP5qZmZmZmdk/mpmZmZmZyT+amZmZmZnZP5qZmZmZmck/mpmZmZmZyT+amZmZmZnJP5qZmZmZmck/mpmZmZmZyT+amZmZmZnJP5qZmZmZmck/mpmZmZmZ2T+amZmZmZnJP5qZmZmZmck/mpmZmZmZ2T+amZmZmZnJP5qZmZmZmck/MzMzMzMz4z+amZmZmZnZP5qZmZmZmck/mpmZmZmZyT+amZmZmZnJP5qZmZmZmck/MzMzMzMz4z+amZmZmZnJP5qZmZmZmdk/mpmZmZmZ2T+amZmZmZnJP5qZmZmZmck/mpmZmZmZ2T+amZmZmZnJPzMzMzMzM+M/mpmZmZmZ2T+amZmZmZnZP5qZmZmZmdk/mpmZmZmZyT+amZmZmZnJP5qZmZmZmdk/mpmZmZmZyT+amZmZmZnZP5qZmZmZmdk/MzMzMzMz4z+amZmZmZnJPzMzMzMzM+M/MzMzMzMz4z8zMzMzMzPjP5qZmZmZmck/mpmZmZmZyT+amZmZmZnZP5qZmZmZmdk/mpmZmZmZ2T+amZmZmZnJP5qZmZmZmck/MzMzMzMz4z+amZmZmZnZP5qZmZmZmck/mpmZmZmZyT+amZmZmZnJP5qZmZmZmck/mpmZmZmZyT+amZmZmZnJP5qZmZmZmck/mpmZmZmZ2T+amZmZmZnpP5qZmZmZmck/mpmZmZmZyT+amZmZmZnJP5qZmZmZmek/mpmZmZmZ2T+amZmZmZnZP5qZmZmZmck/mpmZmZmZyT+amZmZmZnJP5qZmZmZmck/MzMzMzMz4z+amZmZmZnJP5qZmZmZmdk/mpmZmZmZyT8zMzMzMzPjP5qZmZmZmdk/mpmZmZmZ2T+amZmZmZnJP5qZmZmZmdk/mpmZmZmZ2T+amZmZmZnJP5qZmZmZmck/mpmZmZmZ6T+amZmZmZnZP5qZmZmZmdk/mpmZmZmZyT+amZmZmZnJP5qZmZmZmdk/mpmZmZmZ2T+amZmZmZnJP5qZmZmZmdk/mpmZmZmZ2T+amZmZmZnJP5qZmZmZmck/MzMzMzMz4z+amZmZmZnJP5qZmZmZmck/mpmZmZmZyT+amZmZmZnJP5qZmZmZmck/mpmZmZmZyT+amZmZmZnJP5qZmZmZmdk/mpmZmZmZyT8zMzMzMzPjP5qZmZmZmdk/mpmZmZmZyT+amZmZmZnZP5qZmZmZmdk/mpmZmZmZ2T+amZmZmZnJP5qZmZmZmdk/mpmZmZmZyT+amZmZmZnZP5qZmZmZmdk/mpmZmZmZyT+amZmZmZnZP5qZmZmZmek/mpmZmZmZyT+amZmZmZnpP5qZmZmZmdk/mpmZmZmZyT+amZmZmZnZP5qZmZmZmdk/mpmZmZmZ2T+amZmZmZnJP5qZmZmZmck/mpmZmZmZyT+amZmZmZnJP5qZmZmZmdk/mpmZmZmZyT+amZmZmZnpP5qZmZmZmck/mpmZmZmZ2T+amZmZmZnZP5qZmZmZmdk/mpmZmZmZyT+amZmZmZnJPzMzMzMzM+M/MzMzMzMz4z+amZmZmZnZP5qZmZmZmdk/mpmZmZmZyT+amZmZmZnJP5qZmZmZmck/MzMzMzMz4z+amZmZmZnJP5qZmZmZmdk/mpmZmZmZ2T+amZmZmZnJP5qZmZmZmdk/mpmZmZmZyT+amZmZmZnZP5qZmZmZmck/mpmZmZmZyT+amZmZmZnZP5qZmZmZmck/mpmZmZmZ2T+amZmZmZnZP5qZmZmZmck/mpmZmZmZyT+amZmZmZnZP5qZmZmZmck/mpmZmZmZyT+amZmZmZnZP5qZmZmZmdk/mpmZmZmZyT+amZmZmZnZP5qZmZmZmdk/mpmZmZmZyT+amZmZmZnJP5qZmZmZmdk/mpmZmZmZyT+amZmZmZnJP5qZmZmZmck/mpmZmZmZ2T+amZmZmZnJP5qZmZmZmdk/MzMzMzMz4z+amZmZmZnZP5qZmZmZmck/mpmZmZmZyT+amZmZmZnZP5qZmZmZmck/mpmZmZmZyT+amZmZmZnZP5qZmZmZmek/mpmZmZmZ2T8zMzMzMzPjPzMzMzMzM+M/MzMzMzMz4z+amZmZmZnZP5qZmZmZmdk/mpmZmZmZ2T+amZmZmZnJP5qZmZmZmdk/mpmZmZmZ2T8zMzMzMzPjPzMzMzMzM+M/mpmZmZmZ2T+amZmZmZnJP5qZmZmZmck/mpmZmZmZ2T+amZmZmZnZP5qZmZmZmek/mpmZmZmZ2T+amZmZmZnZP5qZmZmZmck/mpmZmZmZyT8zMzMzMzPjP5qZmZmZmck/mpmZmZmZyT+amZmZmZnZP5qZmZmZmdk/mpmZmZmZ6T+amZmZmZnZPzMzMzMzM+M/MzMzMzMz4z8zMzMzMzPjP5qZmZmZmck/mpmZmZmZ2T+amZmZmZnZP5qZmZmZmck/mpmZmZmZyT+amZmZmZnJP5qZmZmZmck/mpmZmZmZ2T+amZmZmZnJPzMzMzMzM+M/MzMzMzMz4z+amZmZmZnJP5qZmZmZmdk/mpmZmZmZyT+amZmZmZnZPzMzMzMzM+M/mpmZmZmZ2T+amZmZmZnJP5qZmZmZmck/mpmZmZmZ2T+amZmZmZnJPzMzMzMzM+M/mpmZmZmZyT8zMzMzMzPjP5qZmZmZmck/MzMzMzMz4z+amZmZmZnJP5qZmZmZmck/mpmZmZmZyT+amZmZmZnJP5qZmZmZmdk/mpmZmZmZ2T+amZmZmZnpP5qZmZmZmck/mpmZmZmZyT+amZmZmZnJP5qZmZmZmdk/mpmZmZmZ2T+amZmZmZnZP5qZmZmZmck/mpmZmZmZ2T+amZmZmZnZP5qZmZmZmdk/mpmZmZmZ2T+amZmZmZnJP5qZmZmZmdk/mpmZmZmZyT+amZmZmZnpP5qZmZmZmdk/mpmZmZmZ2T+amZmZmZnZP5qZmZmZmck/mpmZmZmZyT+amZmZmZnJP5qZmZmZmdk/MzMzMzMz4z+amZmZmZnJP5qZmZmZmck/mpmZmZmZ2T+amZmZmZnZP5qZmZmZmck/mpmZmZmZ2T+amZmZmZnZPzMzMzMzM+M/mpmZmZmZyT+amZmZmZnJP5qZmZmZmck/MzMzMzMz4z+amZmZmZnZP5qZmZmZmck/AAAAAAAA0D8AAAAAAADoPwAAAAAAANA/AAAAAAAA4D8AAAAAAADgPwAAAAAAANA/AAAAAAAA0D8AAAAAAADQPwAAAAAAAOA/AAAAAAAA0D8AAAAAAADQPwAAAAAAANA/AAAAAAAA4D8AAAAAAADQPwAAAAAAAOg/AAAAAAAA0D8AAAAAAADoPwAAAAAAANA/AAAAAAAA4D8AAAAAAADQPwAAAAAAANA/AAAAAAAA4D8AAAAAAADgPwAAAAAAAOA/AAAAAAAA4D8AAAAAAADQPwAAAAAAANA/AAAAAAAA4D8AAAAAAADoPwAAAAAAANA/AAAAAAAA6D8AAAAAAADQPwAAAAAAANA/AAAAAAAA0D8AAAAAAADQPwAAAAAAANA/AAAAAAAA4D8AAAAAAADgPwAAAAAAANA/AAAAAAAA4D8AAAAAAADwPwAAAAAAAOA/AAAAAAAA4D8AAAAAAADgPwAAAAAAANA/AAAAAAAA0D8AAAAAAADgPwAAAAAAAOA/AAAAAAAA0D8AAAAAAADQPwAAAAAAANA/AAAAAAAA4D8AAAAAAADQPwAAAAAAANA/AAAAAAAA0D8AAAAAAADoPwAAAAAAANA/AAAAAAAA4D8AAAAAAADgPwAAAAAAANA/AAAAAAAA0D8AAAAAAADgPwAAAAAAAOA/AAAAAAAA4D8AAAAAAADQPwAAAAAAAOg/AAAAAAAA4D8AAAAAAADQPwAAAAAAAOA/AAAAAAAA0D8AAAAAAADQPwAAAAAAAOA/AAAAAAAA4D8AAAAAAADQPwAAAAAAAOA/AAAAAAAA0D8AAAAAAADQPwAAAAAAANA/AAAAAAAA0D8AAAAAAADgPwAAAAAAANA/AAAAAAAA0D8AAAAAAADgPwAAAAAAANA/AAAAAAAA4D8AAAAAAADQPwAAAAAAANA/AAAAAAAA0D8AAAAAAADgPwAAAAAAANA/AAAAAAAA0D8AAAAAAADQPwAAAAAAAOA/AAAAAAAA4D8AAAAAAADQPwAAAAAAAOA/AAAAAAAA0D8AAAAAAADQPwAAAAAAAOg/AAAAAAAA0D8AAAAAAADQPwAAAAAAAOA/AAAAAAAA4D8AAAAAAADQPwAAAAAAANA/AAAAAAAA0D8AAAAAAADQPwAAAAAAANA/AAAAAAAA0D8AAAAAAADgPwAAAAAAANA/AAAAAAAA0D8AAAAAAADgPwAAAAAAANA/AAAAAAAA0D8AAAAAAADQPwAAAAAAANA/AAAAAAAA0D8AAAAAAADQPwAAAAAAANA/AAAAAAAA0D8AAAAAAADgPwAAAAAAANA/AAAAAAAA0D8AAAAAAADgPwAAAAAAANA/AAAAAAAA0D8AAAAAAADQPwAAAAAAANA/AAAAAAAA4D8AAAAAAADoPwAAAAAAANA/AAAAAAAA0D8AAAAAAADgPwAAAAAAANA/AAAAAAAA0D8AAAAAAADgPwAAAAAAAOA/AAAAAAAA4D8AAAAAAADQPwAAAAAAANA/AAAAAAAA0D8AAAAAAADgPwAAAAAAAOA/AAAAAAAA0D8AAAAAAADgPwAAAAAAANA/AAAAAAAA4D8AAAAAAADoPwAAAAAAAOA/AAAAAAAA4D8AAAAAAADoPwAAAAAAAOA/AAAAAAAA0D8AAAAAAADgPwAAAAAAAOA/AAAAAAAA4D8AAAAAAADQPwAAAAAAANA/AAAAAAAA4D8AAAAAAADgPwAAAAAAAOA/AAAAAAAA0D8AAAAAAADgPwAAAAAAANA/AAAAAAAA0D8AAAAAAADQPwAAAAAAANA/AAAAAAAA4D8AAAAAAADQPwAAAAAAAOA/AAAAAAAA6D8AAAAAAADQPwAAAAAAANA/AAAAAAAA0D8AAAAAAADQPwAAAAAAANA/AAAAAAAA4D8AAAAAAADQPwAAAAAAANA/AAAAAAAA0D8AAAAAAADQPwAAAAAAAOA/AAAAAAAA0D8AAAAAAADQPwAAAAAAANA/AAAAAAAA4D8AAAAAAADQPwAAAAAAAOA/AAAAAAAA4D8AAAAAAADQPwAAAAAAAOA/AAAAAAAA0D8AAAAAAADQPwAAAAAAAOA/AAAAAAAA4D8AAAAAAADgPwAAAAAAANA/AAAAAAAA0D8AAAAAAADQPwAAAAAAANA/AAAAAAAA0D8AAAAAAADoPwAAAAAAAOA/AAAAAAAA4D8AAAAAAADgPwAAAAAAANA/AAAAAAAA0D8AAAAAAADgPwAAAAAAAOg/AAAAAAAA4D8AAAAAAADQPwAAAAAAAOA/AAAAAAAA4D8AAAAAAADwPwAAAAAAANA/AAAAAAAA0D8AAAAAAADQPwAAAAAAANA/AAAAAAAA0D8AAAAAAADQPwAAAAAAANA/AAAAAAAA4D8AAAAAAADQPwAAAAAAANA/AAAAAAAA4D8AAAAAAADQPwAAAAAAAOA/AAAAAAAA4D8AAAAAAADQPwAAAAAAANA/AAAAAAAA4D8AAAAAAADQPwAAAAAAANA/AAAAAAAA0D8AAAAAAADgPwAAAAAAANA/AAAAAAAA4D8AAAAAAADoPwAAAAAAANA/AAAAAAAA8D8AAAAAAADQPwAAAAAAAOg/AAAAAAAA0D8AAAAAAADQPwAAAAAAAOg/AAAAAAAA0D8AAAAAAADgPwAAAAAAANA/AAAAAAAA6D8AAAAAAADQPwAAAAAAAOA/AAAAAAAA0D8AAAAAAADQPwAAAAAAANA/AAAAAAAA8D8AAAAAAADQPwAAAAAAAOA/AAAAAAAA4D8AAAAAAADQPwAAAAAAAOA/AAAAAAAA4D8AAAAAAADoPwAAAAAAANA/AAAAAAAA0D8AAAAAAADQPwAAAAAAAOA/AAAAAAAA6D8AAAAAAADQPwAAAAAAANA/AAAAAAAA0D8AAAAAAADgPwAAAAAAAOA/AAAAAAAA4D8AAAAAAADgPwAAAAAAAOA/AAAAAAAA6D8AAAAAAADQPwAAAAAAANA/AAAAAAAA0D8AAAAAAADQPwAAAAAAANA/AAAAAAAA0D8AAAAAAADQPwAAAAAAANA/AAAAAAAA0D8AAAAAAADoPwAAAAAAANA/AAAAAAAA6D8AAAAAAADgPwAAAAAAANA/AAAAAAAA0D8AAAAAAADgPwAAAAAAAOA/AAAAAAAA4D8AAAAAAADQPwAAAAAAANA/AAAAAAAA0D8AAAAAAADQPwAAAAAAANA/AAAAAAAA0D8AAAAAAADQPwAAAAAAANA/AAAAAAAA4D8AAAAAAADQPwAAAAAAANA/AAAAAAAA0D8AAAAAAADgPwAAAAAAANA/AAAAAAAA4D8AAAAAAADgPwAAAAAAANA/AAAAAAAA6D8AAAAAAADQPwAAAAAAANA/AAAAAAAA6D8AAAAAAADQPwAAAAAAANA/AAAAAAAA4D8AAAAAAADQPwAAAAAAANA/AAAAAAAA0D8AAAAAAADwPwAAAAAAAOA/AAAAAAAA4D8AAAAAAADQPwAAAAAAANA/AAAAAAAA4D8AAAAAAADQPwAAAAAAANA/AAAAAAAA0D8AAAAAAADgPwAAAAAAAOA/AAAAAAAA0D8AAAAAAADoPwAAAAAAAOg/AAAAAAAA4D8AAAAAAADgPwAAAAAAAOA/AAAAAAAA0D8AAAAAAADQPwAAAAAAANA/AAAAAAAA0D8AAAAAAADQPwAAAAAAANA/AAAAAAAA0D8AAAAAAADQPwAAAAAAANA/AAAAAAAA0D8AAAAAAADQPwAAAAAAANA/AAAAAAAA4D8AAAAAAADQPwAAAAAAANA/AAAAAAAA0D8AAAAAAADgPwAAAAAAANA/AAAAAAAA0D8AAAAAAADQPwAAAAAAANA/AAAAAAAA0D8AAAAAAADQPwAAAAAAAOA/AAAAAAAA4D8AAAAAAADgPwAAAAAAANA/AAAAAAAA0D8AAAAAAADQPwAAAAAAAOA/AAAAAAAA4D8AAAAAAADgPwAAAAAAANA/AAAAAAAA4D8AAAAAAADgPwAAAAAAAOA/AAAAAAAA4D8AAAAAAADQPwAAAAAAANA/AAAAAAAA0D8AAAAAAADQPwAAAAAAAOA/AAAAAAAA4D8AAAAAAADQPwAAAAAAANA/AAAAAAAA0D8AAAAAAADgPwAAAAAAANA/AAAAAAAA0D8AAAAAAADgPwAAAAAAAOg/AAAAAAAA4D8AAAAAAADgPwAAAAAAANA/AAAAAAAA0D8AAAAAAADQPwAAAAAAANA/AAAAAAAA4D8AAAAAAADQPwAAAAAAAPA/AAAAAAAA4D8AAAAAAADgPwAAAAAAANA/AAAAAAAA0D8AAAAAAADQPwAAAAAAANA/AAAAAAAA0D8AAAAAAADQPwAAAAAAAOA/AAAAAAAA0D8AAAAAAADgPwAAAAAAANA/AAAAAAAA0D8AAAAAAADoPwAAAAAAAOA/AAAAAAAA0D8AAAAAAADQPwAAAAAAANA/AAAAAAAA4D8AAAAAAADQPwAAAAAAANA/AAAAAAAA0D8AAAAAAADgPwAAAAAAAOA/AAAAAAAA4D8AAAAAAADQPwAAAAAAAOA/AAAAAAAA0D8AAAAAAADQPwAAAAAAANA/AAAAAAAA6D8AAAAAAADgPwAAAAAAANA/AAAAAAAA0D8AAAAAAADgPwAAAAAAANA/AAAAAAAA4D8AAAAAAADoPwAAAAAAAOA/AAAAAAAA0D8AAAAAAADwPwAAAAAAAOA/AAAAAAAA6D8AAAAAAADgPwAAAAAAANA/AAAAAAAA0D8AAAAAAADQPwAAAAAAAOA/AAAAAAAA0D8AAAAAAADQPwAAAAAAANA/AAAAAAAA0D8AAAAAAADQPwAAAAAAAOA/AAAAAAAA0D8AAAAAAADgPwAAAAAAAOA/AAAAAAAA0D8AAAAAAADQPwAAAAAAANA/AAAAAAAA4D8AAAAAAADgPwAAAAAAAOA/AAAAAAAA4D8AAAAAAADwPwAAAAAAAOA/AAAAAAAA0D8AAAAAAADgPwAAAAAAANA/AAAAAAAA4D8AAAAAAADoPwAAAAAAAOg/AAAAAAAA8D8AAAAAAADQPwAAAAAAAOA/AAAAAAAA0D8AAAAAAADoPwAAAAAAANA/AAAAAAAA0D8AAAAAAADQPwAAAAAAANA/AAAAAAAA6D8AAAAAAADgPwAAAAAAANA/AAAAAAAA4D8AAAAAAADQPwAAAAAAAOA/AAAAAAAA4D8AAAAAAADgPwAAAAAAANA/AAAAAAAA4D8AAAAAAADgPwAAAAAAANA/AAAAAAAA0D8AAAAAAADQPwAAAAAAANA/AAAAAAAA0D8AAAAAAADoPwAAAAAAAOg/AAAAAAAA0D8AAAAAAADgPwAAAAAAANA/AAAAAAAA4D8AAAAAAADQPwAAAAAAAOg/AAAAAAAA4D8AAAAAAADgPwAAAAAAAOg/AAAAAAAA0D8AAAAAAADQPwAAAAAAANA/AAAAAAAA4D8AAAAAAADgPwAAAAAAANA/AAAAAAAA4D8AAAAAAADQPwAAAAAAAOA/AAAAAAAA4D8AAAAAAADoPwAAAAAAANA/AAAAAAAA4D8AAAAAAADQPwAAAAAAANA/AAAAAAAA0D8AAAAAAADQPwAAAAAAAPA/AAAAAAAA0D8AAAAAAADgPwAAAAAAANA/AAAAAAAA0D8AAAAAAADQPwAAAAAAAOg/AAAAAAAA4D8AAAAAAADQPwAAAAAAAOA/AAAAAAAA4D8AAAAAAADQPwAAAAAAANA/AAAAAAAA0D8AAAAAAADgPwAAAAAAAOA/AAAAAAAA4D8AAAAAAADQPwAAAAAAANA/AAAAAAAA0D8AAAAAAADQPwAAAAAAANA/AAAAAAAA0D8AAAAAAADQPwAAAAAAAOA/AAAAAAAA0D8AAAAAAADQPwAAAAAAANA/AAAAAAAA4D8AAAAAAADQPwAAAAAAAOA/AAAAAAAA0D8AAAAAAADQPwAAAAAAANA/AAAAAAAA0D8AAAAAAADoPwAAAAAAANA/AAAAAAAA4D8AAAAAAADgPwAAAAAAANA/AAAAAAAA4D8AAAAAAADgPwAAAAAAAOA/AAAAAAAA0D8AAAAAAADQPwAAAAAAAOA/AAAAAAAA4D8AAAAAAADgPwAAAAAAANA/AAAAAAAA0D8AAAAAAADQPwAAAAAAANA/AAAAAAAA0D8AAAAAAADgPwAAAAAAANA/AAAAAAAA0D8AAAAAAADQPwAAAAAAAOA/AAAAAAAA0D8AAAAAAADQPwAAAAAAANA/AAAAAAAA0D8AAAAAAADgPwAAAAAAANA/AAAAAAAA4D8AAAAAAADgPwAAAAAAANA/AAAAAAAA0D8AAAAAAADQPwAAAAAAAOA/AAAAAAAA4D8AAAAAAADgPwAAAAAAAOA/AAAAAAAA0D8AAAAAAADgPwAAAAAAANA/AAAAAAAA0D8AAAAAAADQPwAAAAAAANA/AAAAAAAA0D8AAAAAAADQPwAAAAAAAOA/AAAAAAAA0D8AAAAAAADQPwAAAAAAAOg/AAAAAAAA4D8AAAAAAADgPwAAAAAAANA/AAAAAAAA0D8AAAAAAADQPwAAAAAAANA/AAAAAAAA0D8AAAAAAADQPwAAAAAAANA/AAAAAAAA0D8AAAAAAADQPwAAAAAAAOA/AAAAAAAA0D8AAAAAAADgPwAAAAAAANA/AAAAAAAA4D8AAAAAAADQPwAAAAAAANA/AAAAAAAA0D8AAAAAAADgPwAAAAAAANA/AAAAAAAA4D8AAAAAAADgPwAAAAAAANA/AAAAAAAA4D8AAAAAAADQPwAAAAAAAOA/AAAAAAAA0D8AAAAAAADwPwAAAAAAANA/AAAAAAAA0D8AAAAAAADQPwAAAAAAAOA/AAAAAAAA0D8AAAAAAADQPwAAAAAAANA/AAAAAAAA4D8AAAAAAADQPwAAAAAAANA/AAAAAAAA6D8AAAAAAADQPwAAAAAAANA/AAAAAAAA0D8AAAAAAADQPwAAAAAAANA/AAAAAAAA4D8AAAAAAADQPwAAAAAAANA/AAAAAAAA0D8AAAAAAADQPwAAAAAAANA/AAAAAAAA0D8AAAAAAADQPwAAAAAAANA/AAAAAAAA4D8AAAAAAADgPwAAAAAAAOA/AAAAAAAA6D8AAAAAAADQPwAAAAAAAOA/AAAAAAAA4D8AAAAAAADgPwAAAAAAANA/AAAAAAAA0D8AAAAAAADQPwAAAAAAAOA/AAAAAAAA0D8AAAAAAADQPwAAAAAAANA/AAAAAAAA0D8AAAAAAADQPwAAAAAAAOA/AAAAAAAA4D8AAAAAAADgPwAAAAAAANA/AAAAAAAA0D8AAAAAAADQPwAAAAAAAOg/AAAAAAAA0D8AAAAAAADgPwAAAAAAAOg/AAAAAAAA0D8AAAAAAADgPwAAAAAAANA/AAAAAAAA0D8AAAAAAADgPwAAAAAAANA/AAAAAAAA6D8AAAAAAADgPwAAAAAAANA/AAAAAAAA0D8AAAAAAADQPwAAAAAAANA/AAAAAAAA4D8AAAAAAADQPwAAAAAAAPA/AAAAAAAA4D8AAAAAAADQPwAAAAAAANA/AAAAAAAA4D8AAAAAAADgPwAAAAAAANA/AAAAAAAA4D8AAAAAAADwPwAAAAAAAOA/AAAAAAAA0D8AAAAAAADgPwAAAAAAANA/AAAAAAAA0D8AAAAAAADQPwAAAAAAANA/AAAAAAAA4D8AAAAAAADgPwAAAAAAANA/AAAAAAAA4D8AAAAAAADgPwAAAAAAAOg/AAAAAAAA4D8AAAAAAADQPwAAAAAAANA/AAAAAAAA4D8AAAAAAADQPwAAAAAAAOA/AAAAAAAA0D8AAAAAAADgPwAAAAAAAOA/AAAAAAAA4D8AAAAAAADQPwAAAAAAANA/AAAAAAAA4D8AAAAAAADQPwAAAAAAANA/AAAAAAAA0D8AAAAAAADQPwAAAAAAAOA/AAAAAAAA0D8AAAAAAADQPwAAAAAAANA/AAAAAAAA6D8AAAAAAADQPwAAAAAAAOA/AAAAAAAA0D8AAAAAAADQPwAAAAAAANA/AAAAAAAA0D8AAAAAAADgPwAAAAAAANA/AAAAAAAA0D8AAAAAAADQPwAAAAAAANA/AAAAAAAA0D8AAAAAAADgPwAAAAAAAOA/AAAAAAAA0D8AAAAAAADgPwAAAAAAANA/AAAAAAAA6D8AAAAAAADQPwAAAAAAAOA/AAAAAAAA0D8AAAAAAADQPwAAAAAAAOA/AAAAAAAA0D8AAAAAAADQPwAAAAAAAOA/AAAAAAAA0D8AAAAAAADQPwAAAAAAANA/AAAAAAAA4D8AAAAAAADQPwAAAAAAAOA/AAAAAAAA0D8AAAAAAADQPwAAAAAAANA/AAAAAAAA0D8AAAAAAADoPwAAAAAAANA/AAAAAAAA4D8AAAAAAADgPwAAAAAAAOA/AAAAAAAA0D8AAAAAAADgPwAAAAAAANA/AAAAAAAA0D8AAAAAAADQPwAAAAAAANA/AAAAAAAA0D8AAAAAAADQPwAAAAAAAOg/AAAAAAAA0D8AAAAAAADQPwAAAAAAANA/AAAAAAAA0D8AAAAAAADQPwAAAAAAANA/AAAAAAAA0D8AAAAAAADQPwAAAAAAAOA/AAAAAAAA0D8AAAAAAADgPwAAAAAAAPA/AAAAAAAA0D8AAAAAAADQPwAAAAAAANA/AAAAAAAA4D8AAAAAAADgPwAAAAAAANA/AAAAAAAA4D8AAAAAAADQPwAAAAAAANA/AAAAAAAA0D8AAAAAAADgPwAAAAAAAOA/AAAAAAAA0D8AAAAAAADgPwAAAAAAAPA/AAAAAAAA0D8AAAAAAADQPwAAAAAAANA/AAAAAAAA0D8AAAAAAADQPwAAAAAAAOg/AAAAAAAA4D8AAAAAAADQPwAAAAAAAOA/AAAAAAAA0D8AAAAAAADQPwAAAAAAANA/AAAAAAAA0D8AAAAAAADQPwAAAAAAANA/AAAAAAAA0D8AAAAAAADQPwAAAAAAANA/AAAAAAAA0D8AAAAAAADQPwAAAAAAAOg/AAAAAAAA0D8AAAAAAADQPw==",
           "dtype": "f8"
          },
          "coloraxis": "coloraxis"
         },
         "mode": "markers",
         "name": "",
         "showlegend": false,
         "subplot": "map",
         "type": "scattermap"
        }
       ],
       "layout": {
        "coloraxis": {
         "colorbar": {
          "title": {
           "text": "churn_rate"
          }
         },
         "colorscale": [
          [
           0,
           "#0d0887"
          ],
          [
           0.1111111111111111,
           "#46039f"
          ],
          [
           0.2222222222222222,
           "#7201a8"
          ],
          [
           0.3333333333333333,
           "#9c179e"
          ],
          [
           0.4444444444444444,
           "#bd3786"
          ],
          [
           0.5555555555555556,
           "#d8576b"
          ],
          [
           0.6666666666666666,
           "#ed7953"
          ],
          [
           0.7777777777777778,
           "#fb9f3a"
          ],
          [
           0.8888888888888888,
           "#fdca26"
          ],
          [
           1,
           "#f0f921"
          ]
         ]
        },
        "legend": {
         "tracegroupgap": 0
        },
        "map": {
         "center": {
          "lat": 36.366390878991595,
          "lon": -119.87218649831932
         },
         "domain": {
          "x": [
           0,
           1
          ],
          "y": [
           0,
           1
          ]
         },
         "style": "open-street-map",
         "zoom": 8
        },
        "mapbox": {
         "center": {
          "lat": 36.366390878991595,
          "lon": -119.87218649831932
         },
         "style": "open-street-map",
         "zoom": 8
        },
        "margin": {
         "t": 60
        },
        "template": {
         "data": {
          "bar": [
           {
            "error_x": {
             "color": "#2a3f5f"
            },
            "error_y": {
             "color": "#2a3f5f"
            },
            "marker": {
             "line": {
              "color": "#E5ECF6",
              "width": 0.5
             },
             "pattern": {
              "fillmode": "overlay",
              "size": 10,
              "solidity": 0.2
             }
            },
            "type": "bar"
           }
          ],
          "barpolar": [
           {
            "marker": {
             "line": {
              "color": "#E5ECF6",
              "width": 0.5
             },
             "pattern": {
              "fillmode": "overlay",
              "size": 10,
              "solidity": 0.2
             }
            },
            "type": "barpolar"
           }
          ],
          "carpet": [
           {
            "aaxis": {
             "endlinecolor": "#2a3f5f",
             "gridcolor": "white",
             "linecolor": "white",
             "minorgridcolor": "white",
             "startlinecolor": "#2a3f5f"
            },
            "baxis": {
             "endlinecolor": "#2a3f5f",
             "gridcolor": "white",
             "linecolor": "white",
             "minorgridcolor": "white",
             "startlinecolor": "#2a3f5f"
            },
            "type": "carpet"
           }
          ],
          "choropleth": [
           {
            "colorbar": {
             "outlinewidth": 0,
             "ticks": ""
            },
            "type": "choropleth"
           }
          ],
          "contour": [
           {
            "colorbar": {
             "outlinewidth": 0,
             "ticks": ""
            },
            "colorscale": [
             [
              0,
              "#0d0887"
             ],
             [
              0.1111111111111111,
              "#46039f"
             ],
             [
              0.2222222222222222,
              "#7201a8"
             ],
             [
              0.3333333333333333,
              "#9c179e"
             ],
             [
              0.4444444444444444,
              "#bd3786"
             ],
             [
              0.5555555555555556,
              "#d8576b"
             ],
             [
              0.6666666666666666,
              "#ed7953"
             ],
             [
              0.7777777777777778,
              "#fb9f3a"
             ],
             [
              0.8888888888888888,
              "#fdca26"
             ],
             [
              1,
              "#f0f921"
             ]
            ],
            "type": "contour"
           }
          ],
          "contourcarpet": [
           {
            "colorbar": {
             "outlinewidth": 0,
             "ticks": ""
            },
            "type": "contourcarpet"
           }
          ],
          "heatmap": [
           {
            "colorbar": {
             "outlinewidth": 0,
             "ticks": ""
            },
            "colorscale": [
             [
              0,
              "#0d0887"
             ],
             [
              0.1111111111111111,
              "#46039f"
             ],
             [
              0.2222222222222222,
              "#7201a8"
             ],
             [
              0.3333333333333333,
              "#9c179e"
             ],
             [
              0.4444444444444444,
              "#bd3786"
             ],
             [
              0.5555555555555556,
              "#d8576b"
             ],
             [
              0.6666666666666666,
              "#ed7953"
             ],
             [
              0.7777777777777778,
              "#fb9f3a"
             ],
             [
              0.8888888888888888,
              "#fdca26"
             ],
             [
              1,
              "#f0f921"
             ]
            ],
            "type": "heatmap"
           }
          ],
          "histogram": [
           {
            "marker": {
             "pattern": {
              "fillmode": "overlay",
              "size": 10,
              "solidity": 0.2
             }
            },
            "type": "histogram"
           }
          ],
          "histogram2d": [
           {
            "colorbar": {
             "outlinewidth": 0,
             "ticks": ""
            },
            "colorscale": [
             [
              0,
              "#0d0887"
             ],
             [
              0.1111111111111111,
              "#46039f"
             ],
             [
              0.2222222222222222,
              "#7201a8"
             ],
             [
              0.3333333333333333,
              "#9c179e"
             ],
             [
              0.4444444444444444,
              "#bd3786"
             ],
             [
              0.5555555555555556,
              "#d8576b"
             ],
             [
              0.6666666666666666,
              "#ed7953"
             ],
             [
              0.7777777777777778,
              "#fb9f3a"
             ],
             [
              0.8888888888888888,
              "#fdca26"
             ],
             [
              1,
              "#f0f921"
             ]
            ],
            "type": "histogram2d"
           }
          ],
          "histogram2dcontour": [
           {
            "colorbar": {
             "outlinewidth": 0,
             "ticks": ""
            },
            "colorscale": [
             [
              0,
              "#0d0887"
             ],
             [
              0.1111111111111111,
              "#46039f"
             ],
             [
              0.2222222222222222,
              "#7201a8"
             ],
             [
              0.3333333333333333,
              "#9c179e"
             ],
             [
              0.4444444444444444,
              "#bd3786"
             ],
             [
              0.5555555555555556,
              "#d8576b"
             ],
             [
              0.6666666666666666,
              "#ed7953"
             ],
             [
              0.7777777777777778,
              "#fb9f3a"
             ],
             [
              0.8888888888888888,
              "#fdca26"
             ],
             [
              1,
              "#f0f921"
             ]
            ],
            "type": "histogram2dcontour"
           }
          ],
          "mesh3d": [
           {
            "colorbar": {
             "outlinewidth": 0,
             "ticks": ""
            },
            "type": "mesh3d"
           }
          ],
          "parcoords": [
           {
            "line": {
             "colorbar": {
              "outlinewidth": 0,
              "ticks": ""
             }
            },
            "type": "parcoords"
           }
          ],
          "pie": [
           {
            "automargin": true,
            "type": "pie"
           }
          ],
          "scatter": [
           {
            "fillpattern": {
             "fillmode": "overlay",
             "size": 10,
             "solidity": 0.2
            },
            "type": "scatter"
           }
          ],
          "scatter3d": [
           {
            "line": {
             "colorbar": {
              "outlinewidth": 0,
              "ticks": ""
             }
            },
            "marker": {
             "colorbar": {
              "outlinewidth": 0,
              "ticks": ""
             }
            },
            "type": "scatter3d"
           }
          ],
          "scattercarpet": [
           {
            "marker": {
             "colorbar": {
              "outlinewidth": 0,
              "ticks": ""
             }
            },
            "type": "scattercarpet"
           }
          ],
          "scattergeo": [
           {
            "marker": {
             "colorbar": {
              "outlinewidth": 0,
              "ticks": ""
             }
            },
            "type": "scattergeo"
           }
          ],
          "scattergl": [
           {
            "marker": {
             "colorbar": {
              "outlinewidth": 0,
              "ticks": ""
             }
            },
            "type": "scattergl"
           }
          ],
          "scattermap": [
           {
            "marker": {
             "colorbar": {
              "outlinewidth": 0,
              "ticks": ""
             }
            },
            "type": "scattermap"
           }
          ],
          "scattermapbox": [
           {
            "marker": {
             "colorbar": {
              "outlinewidth": 0,
              "ticks": ""
             }
            },
            "type": "scattermapbox"
           }
          ],
          "scatterpolar": [
           {
            "marker": {
             "colorbar": {
              "outlinewidth": 0,
              "ticks": ""
             }
            },
            "type": "scatterpolar"
           }
          ],
          "scatterpolargl": [
           {
            "marker": {
             "colorbar": {
              "outlinewidth": 0,
              "ticks": ""
             }
            },
            "type": "scatterpolargl"
           }
          ],
          "scatterternary": [
           {
            "marker": {
             "colorbar": {
              "outlinewidth": 0,
              "ticks": ""
             }
            },
            "type": "scatterternary"
           }
          ],
          "surface": [
           {
            "colorbar": {
             "outlinewidth": 0,
             "ticks": ""
            },
            "colorscale": [
             [
              0,
              "#0d0887"
             ],
             [
              0.1111111111111111,
              "#46039f"
             ],
             [
              0.2222222222222222,
              "#7201a8"
             ],
             [
              0.3333333333333333,
              "#9c179e"
             ],
             [
              0.4444444444444444,
              "#bd3786"
             ],
             [
              0.5555555555555556,
              "#d8576b"
             ],
             [
              0.6666666666666666,
              "#ed7953"
             ],
             [
              0.7777777777777778,
              "#fb9f3a"
             ],
             [
              0.8888888888888888,
              "#fdca26"
             ],
             [
              1,
              "#f0f921"
             ]
            ],
            "type": "surface"
           }
          ],
          "table": [
           {
            "cells": {
             "fill": {
              "color": "#EBF0F8"
             },
             "line": {
              "color": "white"
             }
            },
            "header": {
             "fill": {
              "color": "#C8D4E3"
             },
             "line": {
              "color": "white"
             }
            },
            "type": "table"
           }
          ]
         },
         "layout": {
          "annotationdefaults": {
           "arrowcolor": "#2a3f5f",
           "arrowhead": 0,
           "arrowwidth": 1
          },
          "autotypenumbers": "strict",
          "coloraxis": {
           "colorbar": {
            "outlinewidth": 0,
            "ticks": ""
           }
          },
          "colorscale": {
           "diverging": [
            [
             0,
             "#8e0152"
            ],
            [
             0.1,
             "#c51b7d"
            ],
            [
             0.2,
             "#de77ae"
            ],
            [
             0.3,
             "#f1b6da"
            ],
            [
             0.4,
             "#fde0ef"
            ],
            [
             0.5,
             "#f7f7f7"
            ],
            [
             0.6,
             "#e6f5d0"
            ],
            [
             0.7,
             "#b8e186"
            ],
            [
             0.8,
             "#7fbc41"
            ],
            [
             0.9,
             "#4d9221"
            ],
            [
             1,
             "#276419"
            ]
           ],
           "sequential": [
            [
             0,
             "#0d0887"
            ],
            [
             0.1111111111111111,
             "#46039f"
            ],
            [
             0.2222222222222222,
             "#7201a8"
            ],
            [
             0.3333333333333333,
             "#9c179e"
            ],
            [
             0.4444444444444444,
             "#bd3786"
            ],
            [
             0.5555555555555556,
             "#d8576b"
            ],
            [
             0.6666666666666666,
             "#ed7953"
            ],
            [
             0.7777777777777778,
             "#fb9f3a"
            ],
            [
             0.8888888888888888,
             "#fdca26"
            ],
            [
             1,
             "#f0f921"
            ]
           ],
           "sequentialminus": [
            [
             0,
             "#0d0887"
            ],
            [
             0.1111111111111111,
             "#46039f"
            ],
            [
             0.2222222222222222,
             "#7201a8"
            ],
            [
             0.3333333333333333,
             "#9c179e"
            ],
            [
             0.4444444444444444,
             "#bd3786"
            ],
            [
             0.5555555555555556,
             "#d8576b"
            ],
            [
             0.6666666666666666,
             "#ed7953"
            ],
            [
             0.7777777777777778,
             "#fb9f3a"
            ],
            [
             0.8888888888888888,
             "#fdca26"
            ],
            [
             1,
             "#f0f921"
            ]
           ]
          },
          "colorway": [
           "#636efa",
           "#EF553B",
           "#00cc96",
           "#ab63fa",
           "#FFA15A",
           "#19d3f3",
           "#FF6692",
           "#B6E880",
           "#FF97FF",
           "#FECB52"
          ],
          "font": {
           "color": "#2a3f5f"
          },
          "geo": {
           "bgcolor": "white",
           "lakecolor": "white",
           "landcolor": "#E5ECF6",
           "showlakes": true,
           "showland": true,
           "subunitcolor": "white"
          },
          "hoverlabel": {
           "align": "left"
          },
          "hovermode": "closest",
          "mapbox": {
           "style": "light"
          },
          "paper_bgcolor": "white",
          "plot_bgcolor": "#E5ECF6",
          "polar": {
           "angularaxis": {
            "gridcolor": "white",
            "linecolor": "white",
            "ticks": ""
           },
           "bgcolor": "#E5ECF6",
           "radialaxis": {
            "gridcolor": "white",
            "linecolor": "white",
            "ticks": ""
           }
          },
          "scene": {
           "xaxis": {
            "backgroundcolor": "#E5ECF6",
            "gridcolor": "white",
            "gridwidth": 2,
            "linecolor": "white",
            "showbackground": true,
            "ticks": "",
            "zerolinecolor": "white"
           },
           "yaxis": {
            "backgroundcolor": "#E5ECF6",
            "gridcolor": "white",
            "gridwidth": 2,
            "linecolor": "white",
            "showbackground": true,
            "ticks": "",
            "zerolinecolor": "white"
           },
           "zaxis": {
            "backgroundcolor": "#E5ECF6",
            "gridcolor": "white",
            "gridwidth": 2,
            "linecolor": "white",
            "showbackground": true,
            "ticks": "",
            "zerolinecolor": "white"
           }
          },
          "shapedefaults": {
           "line": {
            "color": "#2a3f5f"
           }
          },
          "ternary": {
           "aaxis": {
            "gridcolor": "white",
            "linecolor": "white",
            "ticks": ""
           },
           "baxis": {
            "gridcolor": "white",
            "linecolor": "white",
            "ticks": ""
           },
           "bgcolor": "#E5ECF6",
           "caxis": {
            "gridcolor": "white",
            "linecolor": "white",
            "ticks": ""
           }
          },
          "title": {
           "x": 0.05
          },
          "xaxis": {
           "automargin": true,
           "gridcolor": "white",
           "linecolor": "white",
           "ticks": "",
           "title": {
            "standoff": 15
           },
           "zerolinecolor": "white",
           "zerolinewidth": 2
          },
          "yaxis": {
           "automargin": true,
           "gridcolor": "white",
           "linecolor": "white",
           "ticks": "",
           "title": {
            "standoff": 15
           },
           "zerolinecolor": "white",
           "zerolinewidth": 2
          }
         }
        }
       }
      }
     },
     "metadata": {},
     "output_type": "display_data"
    }
   ],
   "source": [
    "fig = px.scatter_map(loc_churn,\n",
    "                        lat=\"Latitude\", lon='Longitude',\n",
    "                        hover_data= ['churn_rate'], map_style='open-street-map',\n",
    "                        color=\"churn_rate\"\n",
    "        )\n",
    "fig.show()"
   ]
  },
  {
   "cell_type": "markdown",
   "id": "da2960e1",
   "metadata": {},
   "source": [
    "### Tenure Months"
   ]
  },
  {
   "cell_type": "code",
   "execution_count": 82,
   "id": "2edde062",
   "metadata": {},
   "outputs": [
    {
     "data": {
      "application/vnd.plotly.v1+json": {
       "config": {
        "plotlyServerURL": "https://plot.ly"
       },
       "data": [
        {
         "bingroup": "x",
         "hovertemplate": "Churn Label=Yes<br>Tenure Months=%{x}<br>count=%{y}<extra></extra>",
         "legendgroup": "Yes",
         "marker": {
          "color": "#636efa",
          "pattern": {
           "shape": ""
          }
         },
         "name": "Yes",
         "orientation": "v",
         "showlegend": true,
         "type": "histogram",
         "x": {
          "bdata": "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",
          "dtype": "i1"
         },
         "xaxis": "x",
         "yaxis": "y"
        },
        {
         "bingroup": "x",
         "hovertemplate": "Churn Label=No<br>Tenure Months=%{x}<br>count=%{y}<extra></extra>",
         "legendgroup": "No",
         "marker": {
          "color": "#EF553B",
          "pattern": {
           "shape": ""
          }
         },
         "name": "No",
         "orientation": "v",
         "showlegend": true,
         "type": "histogram",
         "x": {
          "bdata": "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",
          "dtype": "i1"
         },
         "xaxis": "x",
         "yaxis": "y"
        }
       ],
       "layout": {
        "barmode": "relative",
        "legend": {
         "title": {
          "text": "Churn Label"
         },
         "tracegroupgap": 0
        },
        "template": {
         "data": {
          "bar": [
           {
            "error_x": {
             "color": "#2a3f5f"
            },
            "error_y": {
             "color": "#2a3f5f"
            },
            "marker": {
             "line": {
              "color": "#E5ECF6",
              "width": 0.5
             },
             "pattern": {
              "fillmode": "overlay",
              "size": 10,
              "solidity": 0.2
             }
            },
            "type": "bar"
           }
          ],
          "barpolar": [
           {
            "marker": {
             "line": {
              "color": "#E5ECF6",
              "width": 0.5
             },
             "pattern": {
              "fillmode": "overlay",
              "size": 10,
              "solidity": 0.2
             }
            },
            "type": "barpolar"
           }
          ],
          "carpet": [
           {
            "aaxis": {
             "endlinecolor": "#2a3f5f",
             "gridcolor": "white",
             "linecolor": "white",
             "minorgridcolor": "white",
             "startlinecolor": "#2a3f5f"
            },
            "baxis": {
             "endlinecolor": "#2a3f5f",
             "gridcolor": "white",
             "linecolor": "white",
             "minorgridcolor": "white",
             "startlinecolor": "#2a3f5f"
            },
            "type": "carpet"
           }
          ],
          "choropleth": [
           {
            "colorbar": {
             "outlinewidth": 0,
             "ticks": ""
            },
            "type": "choropleth"
           }
          ],
          "contour": [
           {
            "colorbar": {
             "outlinewidth": 0,
             "ticks": ""
            },
            "colorscale": [
             [
              0,
              "#0d0887"
             ],
             [
              0.1111111111111111,
              "#46039f"
             ],
             [
              0.2222222222222222,
              "#7201a8"
             ],
             [
              0.3333333333333333,
              "#9c179e"
             ],
             [
              0.4444444444444444,
              "#bd3786"
             ],
             [
              0.5555555555555556,
              "#d8576b"
             ],
             [
              0.6666666666666666,
              "#ed7953"
             ],
             [
              0.7777777777777778,
              "#fb9f3a"
             ],
             [
              0.8888888888888888,
              "#fdca26"
             ],
             [
              1,
              "#f0f921"
             ]
            ],
            "type": "contour"
           }
          ],
          "contourcarpet": [
           {
            "colorbar": {
             "outlinewidth": 0,
             "ticks": ""
            },
            "type": "contourcarpet"
           }
          ],
          "heatmap": [
           {
            "colorbar": {
             "outlinewidth": 0,
             "ticks": ""
            },
            "colorscale": [
             [
              0,
              "#0d0887"
             ],
             [
              0.1111111111111111,
              "#46039f"
             ],
             [
              0.2222222222222222,
              "#7201a8"
             ],
             [
              0.3333333333333333,
              "#9c179e"
             ],
             [
              0.4444444444444444,
              "#bd3786"
             ],
             [
              0.5555555555555556,
              "#d8576b"
             ],
             [
              0.6666666666666666,
              "#ed7953"
             ],
             [
              0.7777777777777778,
              "#fb9f3a"
             ],
             [
              0.8888888888888888,
              "#fdca26"
             ],
             [
              1,
              "#f0f921"
             ]
            ],
            "type": "heatmap"
           }
          ],
          "histogram": [
           {
            "marker": {
             "pattern": {
              "fillmode": "overlay",
              "size": 10,
              "solidity": 0.2
             }
            },
            "type": "histogram"
           }
          ],
          "histogram2d": [
           {
            "colorbar": {
             "outlinewidth": 0,
             "ticks": ""
            },
            "colorscale": [
             [
              0,
              "#0d0887"
             ],
             [
              0.1111111111111111,
              "#46039f"
             ],
             [
              0.2222222222222222,
              "#7201a8"
             ],
             [
              0.3333333333333333,
              "#9c179e"
             ],
             [
              0.4444444444444444,
              "#bd3786"
             ],
             [
              0.5555555555555556,
              "#d8576b"
             ],
             [
              0.6666666666666666,
              "#ed7953"
             ],
             [
              0.7777777777777778,
              "#fb9f3a"
             ],
             [
              0.8888888888888888,
              "#fdca26"
             ],
             [
              1,
              "#f0f921"
             ]
            ],
            "type": "histogram2d"
           }
          ],
          "histogram2dcontour": [
           {
            "colorbar": {
             "outlinewidth": 0,
             "ticks": ""
            },
            "colorscale": [
             [
              0,
              "#0d0887"
             ],
             [
              0.1111111111111111,
              "#46039f"
             ],
             [
              0.2222222222222222,
              "#7201a8"
             ],
             [
              0.3333333333333333,
              "#9c179e"
             ],
             [
              0.4444444444444444,
              "#bd3786"
             ],
             [
              0.5555555555555556,
              "#d8576b"
             ],
             [
              0.6666666666666666,
              "#ed7953"
             ],
             [
              0.7777777777777778,
              "#fb9f3a"
             ],
             [
              0.8888888888888888,
              "#fdca26"
             ],
             [
              1,
              "#f0f921"
             ]
            ],
            "type": "histogram2dcontour"
           }
          ],
          "mesh3d": [
           {
            "colorbar": {
             "outlinewidth": 0,
             "ticks": ""
            },
            "type": "mesh3d"
           }
          ],
          "parcoords": [
           {
            "line": {
             "colorbar": {
              "outlinewidth": 0,
              "ticks": ""
             }
            },
            "type": "parcoords"
           }
          ],
          "pie": [
           {
            "automargin": true,
            "type": "pie"
           }
          ],
          "scatter": [
           {
            "fillpattern": {
             "fillmode": "overlay",
             "size": 10,
             "solidity": 0.2
            },
            "type": "scatter"
           }
          ],
          "scatter3d": [
           {
            "line": {
             "colorbar": {
              "outlinewidth": 0,
              "ticks": ""
             }
            },
            "marker": {
             "colorbar": {
              "outlinewidth": 0,
              "ticks": ""
             }
            },
            "type": "scatter3d"
           }
          ],
          "scattercarpet": [
           {
            "marker": {
             "colorbar": {
              "outlinewidth": 0,
              "ticks": ""
             }
            },
            "type": "scattercarpet"
           }
          ],
          "scattergeo": [
           {
            "marker": {
             "colorbar": {
              "outlinewidth": 0,
              "ticks": ""
             }
            },
            "type": "scattergeo"
           }
          ],
          "scattergl": [
           {
            "marker": {
             "colorbar": {
              "outlinewidth": 0,
              "ticks": ""
             }
            },
            "type": "scattergl"
           }
          ],
          "scattermap": [
           {
            "marker": {
             "colorbar": {
              "outlinewidth": 0,
              "ticks": ""
             }
            },
            "type": "scattermap"
           }
          ],
          "scattermapbox": [
           {
            "marker": {
             "colorbar": {
              "outlinewidth": 0,
              "ticks": ""
             }
            },
            "type": "scattermapbox"
           }
          ],
          "scatterpolar": [
           {
            "marker": {
             "colorbar": {
              "outlinewidth": 0,
              "ticks": ""
             }
            },
            "type": "scatterpolar"
           }
          ],
          "scatterpolargl": [
           {
            "marker": {
             "colorbar": {
              "outlinewidth": 0,
              "ticks": ""
             }
            },
            "type": "scatterpolargl"
           }
          ],
          "scatterternary": [
           {
            "marker": {
             "colorbar": {
              "outlinewidth": 0,
              "ticks": ""
             }
            },
            "type": "scatterternary"
           }
          ],
          "surface": [
           {
            "colorbar": {
             "outlinewidth": 0,
             "ticks": ""
            },
            "colorscale": [
             [
              0,
              "#0d0887"
             ],
             [
              0.1111111111111111,
              "#46039f"
             ],
             [
              0.2222222222222222,
              "#7201a8"
             ],
             [
              0.3333333333333333,
              "#9c179e"
             ],
             [
              0.4444444444444444,
              "#bd3786"
             ],
             [
              0.5555555555555556,
              "#d8576b"
             ],
             [
              0.6666666666666666,
              "#ed7953"
             ],
             [
              0.7777777777777778,
              "#fb9f3a"
             ],
             [
              0.8888888888888888,
              "#fdca26"
             ],
             [
              1,
              "#f0f921"
             ]
            ],
            "type": "surface"
           }
          ],
          "table": [
           {
            "cells": {
             "fill": {
              "color": "#EBF0F8"
             },
             "line": {
              "color": "white"
             }
            },
            "header": {
             "fill": {
              "color": "#C8D4E3"
             },
             "line": {
              "color": "white"
             }
            },
            "type": "table"
           }
          ]
         },
         "layout": {
          "annotationdefaults": {
           "arrowcolor": "#2a3f5f",
           "arrowhead": 0,
           "arrowwidth": 1
          },
          "autotypenumbers": "strict",
          "coloraxis": {
           "colorbar": {
            "outlinewidth": 0,
            "ticks": ""
           }
          },
          "colorscale": {
           "diverging": [
            [
             0,
             "#8e0152"
            ],
            [
             0.1,
             "#c51b7d"
            ],
            [
             0.2,
             "#de77ae"
            ],
            [
             0.3,
             "#f1b6da"
            ],
            [
             0.4,
             "#fde0ef"
            ],
            [
             0.5,
             "#f7f7f7"
            ],
            [
             0.6,
             "#e6f5d0"
            ],
            [
             0.7,
             "#b8e186"
            ],
            [
             0.8,
             "#7fbc41"
            ],
            [
             0.9,
             "#4d9221"
            ],
            [
             1,
             "#276419"
            ]
           ],
           "sequential": [
            [
             0,
             "#0d0887"
            ],
            [
             0.1111111111111111,
             "#46039f"
            ],
            [
             0.2222222222222222,
             "#7201a8"
            ],
            [
             0.3333333333333333,
             "#9c179e"
            ],
            [
             0.4444444444444444,
             "#bd3786"
            ],
            [
             0.5555555555555556,
             "#d8576b"
            ],
            [
             0.6666666666666666,
             "#ed7953"
            ],
            [
             0.7777777777777778,
             "#fb9f3a"
            ],
            [
             0.8888888888888888,
             "#fdca26"
            ],
            [
             1,
             "#f0f921"
            ]
           ],
           "sequentialminus": [
            [
             0,
             "#0d0887"
            ],
            [
             0.1111111111111111,
             "#46039f"
            ],
            [
             0.2222222222222222,
             "#7201a8"
            ],
            [
             0.3333333333333333,
             "#9c179e"
            ],
            [
             0.4444444444444444,
             "#bd3786"
            ],
            [
             0.5555555555555556,
             "#d8576b"
            ],
            [
             0.6666666666666666,
             "#ed7953"
            ],
            [
             0.7777777777777778,
             "#fb9f3a"
            ],
            [
             0.8888888888888888,
             "#fdca26"
            ],
            [
             1,
             "#f0f921"
            ]
           ]
          },
          "colorway": [
           "#636efa",
           "#EF553B",
           "#00cc96",
           "#ab63fa",
           "#FFA15A",
           "#19d3f3",
           "#FF6692",
           "#B6E880",
           "#FF97FF",
           "#FECB52"
          ],
          "font": {
           "color": "#2a3f5f"
          },
          "geo": {
           "bgcolor": "white",
           "lakecolor": "white",
           "landcolor": "#E5ECF6",
           "showlakes": true,
           "showland": true,
           "subunitcolor": "white"
          },
          "hoverlabel": {
           "align": "left"
          },
          "hovermode": "closest",
          "mapbox": {
           "style": "light"
          },
          "paper_bgcolor": "white",
          "plot_bgcolor": "#E5ECF6",
          "polar": {
           "angularaxis": {
            "gridcolor": "white",
            "linecolor": "white",
            "ticks": ""
           },
           "bgcolor": "#E5ECF6",
           "radialaxis": {
            "gridcolor": "white",
            "linecolor": "white",
            "ticks": ""
           }
          },
          "scene": {
           "xaxis": {
            "backgroundcolor": "#E5ECF6",
            "gridcolor": "white",
            "gridwidth": 2,
            "linecolor": "white",
            "showbackground": true,
            "ticks": "",
            "zerolinecolor": "white"
           },
           "yaxis": {
            "backgroundcolor": "#E5ECF6",
            "gridcolor": "white",
            "gridwidth": 2,
            "linecolor": "white",
            "showbackground": true,
            "ticks": "",
            "zerolinecolor": "white"
           },
           "zaxis": {
            "backgroundcolor": "#E5ECF6",
            "gridcolor": "white",
            "gridwidth": 2,
            "linecolor": "white",
            "showbackground": true,
            "ticks": "",
            "zerolinecolor": "white"
           }
          },
          "shapedefaults": {
           "line": {
            "color": "#2a3f5f"
           }
          },
          "ternary": {
           "aaxis": {
            "gridcolor": "white",
            "linecolor": "white",
            "ticks": ""
           },
           "baxis": {
            "gridcolor": "white",
            "linecolor": "white",
            "ticks": ""
           },
           "bgcolor": "#E5ECF6",
           "caxis": {
            "gridcolor": "white",
            "linecolor": "white",
            "ticks": ""
           }
          },
          "title": {
           "x": 0.05
          },
          "xaxis": {
           "automargin": true,
           "gridcolor": "white",
           "linecolor": "white",
           "ticks": "",
           "title": {
            "standoff": 15
           },
           "zerolinecolor": "white",
           "zerolinewidth": 2
          },
          "yaxis": {
           "automargin": true,
           "gridcolor": "white",
           "linecolor": "white",
           "ticks": "",
           "title": {
            "standoff": 15
           },
           "zerolinecolor": "white",
           "zerolinewidth": 2
          }
         }
        },
        "title": {
         "text": "Churn Distribution Across Customer Tenure"
        },
        "xaxis": {
         "anchor": "y",
         "domain": [
          0,
          1
         ],
         "title": {
          "text": "Tenure Months"
         }
        },
        "yaxis": {
         "anchor": "x",
         "domain": [
          0,
          1
         ],
         "title": {
          "text": "count"
         }
        }
       }
      }
     },
     "metadata": {},
     "output_type": "display_data"
    }
   ],
   "source": [
    "fig = px.histogram(df, x=\"Tenure Months\", color=\"Churn Label\", title='Churn Distribution Across Customer Tenure')\n",
    "fig.show()"
   ]
  },
  {
   "cell_type": "markdown",
   "id": "c2c2727c",
   "metadata": {},
   "source": [
    "Churn is highest among customers with very short tenures (0–6 months), indicating early dissatisfaction or poor onboarding. In contrast, long-tenured customers (50+ months) show much lower churn, suggesting that retention improves significantly once customers are established."
   ]
  },
  {
   "cell_type": "code",
   "execution_count": 84,
   "id": "b4cfebbe",
   "metadata": {},
   "outputs": [
    {
     "name": "stderr",
     "output_type": "stream",
     "text": [
      "C:\\Users\\jason\\AppData\\Local\\Temp\\ipykernel_11436\\813091017.py:5: FutureWarning:\n",
      "\n",
      "The default of observed=False is deprecated and will be changed to True in a future version of pandas. Pass observed=False to retain current behavior or observed=True to adopt the future default and silence this warning.\n",
      "\n"
     ]
    },
    {
     "data": {
      "application/vnd.plotly.v1+json": {
       "config": {
        "plotlyServerURL": "https://plot.ly"
       },
       "data": [
        {
         "hovertemplate": "Tenure bucket=%{x}<br>Churn rate=%{y}<extra></extra>",
         "legendgroup": "",
         "marker": {
          "color": "#636efa",
          "pattern": {
           "shape": ""
          }
         },
         "name": "",
         "orientation": "v",
         "showlegend": false,
         "textposition": "auto",
         "type": "bar",
         "x": [
          "0-1",
          "2-6",
          "7-12",
          "13-24",
          "25-48",
          "49-72",
          "73+"
         ],
         "xaxis": "x",
         "y": {
          "bdata": "y7d8y7d84z93wn3TnCvePymQM/Kl99Y/AAAAAABg0j8ev9HPDRnKP2/ImQGOWrg/AAAAAAAA+H8=",
          "dtype": "f8"
         },
         "yaxis": "y"
        }
       ],
       "layout": {
        "barmode": "relative",
        "legend": {
         "tracegroupgap": 0
        },
        "template": {
         "data": {
          "bar": [
           {
            "error_x": {
             "color": "#2a3f5f"
            },
            "error_y": {
             "color": "#2a3f5f"
            },
            "marker": {
             "line": {
              "color": "#E5ECF6",
              "width": 0.5
             },
             "pattern": {
              "fillmode": "overlay",
              "size": 10,
              "solidity": 0.2
             }
            },
            "type": "bar"
           }
          ],
          "barpolar": [
           {
            "marker": {
             "line": {
              "color": "#E5ECF6",
              "width": 0.5
             },
             "pattern": {
              "fillmode": "overlay",
              "size": 10,
              "solidity": 0.2
             }
            },
            "type": "barpolar"
           }
          ],
          "carpet": [
           {
            "aaxis": {
             "endlinecolor": "#2a3f5f",
             "gridcolor": "white",
             "linecolor": "white",
             "minorgridcolor": "white",
             "startlinecolor": "#2a3f5f"
            },
            "baxis": {
             "endlinecolor": "#2a3f5f",
             "gridcolor": "white",
             "linecolor": "white",
             "minorgridcolor": "white",
             "startlinecolor": "#2a3f5f"
            },
            "type": "carpet"
           }
          ],
          "choropleth": [
           {
            "colorbar": {
             "outlinewidth": 0,
             "ticks": ""
            },
            "type": "choropleth"
           }
          ],
          "contour": [
           {
            "colorbar": {
             "outlinewidth": 0,
             "ticks": ""
            },
            "colorscale": [
             [
              0,
              "#0d0887"
             ],
             [
              0.1111111111111111,
              "#46039f"
             ],
             [
              0.2222222222222222,
              "#7201a8"
             ],
             [
              0.3333333333333333,
              "#9c179e"
             ],
             [
              0.4444444444444444,
              "#bd3786"
             ],
             [
              0.5555555555555556,
              "#d8576b"
             ],
             [
              0.6666666666666666,
              "#ed7953"
             ],
             [
              0.7777777777777778,
              "#fb9f3a"
             ],
             [
              0.8888888888888888,
              "#fdca26"
             ],
             [
              1,
              "#f0f921"
             ]
            ],
            "type": "contour"
           }
          ],
          "contourcarpet": [
           {
            "colorbar": {
             "outlinewidth": 0,
             "ticks": ""
            },
            "type": "contourcarpet"
           }
          ],
          "heatmap": [
           {
            "colorbar": {
             "outlinewidth": 0,
             "ticks": ""
            },
            "colorscale": [
             [
              0,
              "#0d0887"
             ],
             [
              0.1111111111111111,
              "#46039f"
             ],
             [
              0.2222222222222222,
              "#7201a8"
             ],
             [
              0.3333333333333333,
              "#9c179e"
             ],
             [
              0.4444444444444444,
              "#bd3786"
             ],
             [
              0.5555555555555556,
              "#d8576b"
             ],
             [
              0.6666666666666666,
              "#ed7953"
             ],
             [
              0.7777777777777778,
              "#fb9f3a"
             ],
             [
              0.8888888888888888,
              "#fdca26"
             ],
             [
              1,
              "#f0f921"
             ]
            ],
            "type": "heatmap"
           }
          ],
          "histogram": [
           {
            "marker": {
             "pattern": {
              "fillmode": "overlay",
              "size": 10,
              "solidity": 0.2
             }
            },
            "type": "histogram"
           }
          ],
          "histogram2d": [
           {
            "colorbar": {
             "outlinewidth": 0,
             "ticks": ""
            },
            "colorscale": [
             [
              0,
              "#0d0887"
             ],
             [
              0.1111111111111111,
              "#46039f"
             ],
             [
              0.2222222222222222,
              "#7201a8"
             ],
             [
              0.3333333333333333,
              "#9c179e"
             ],
             [
              0.4444444444444444,
              "#bd3786"
             ],
             [
              0.5555555555555556,
              "#d8576b"
             ],
             [
              0.6666666666666666,
              "#ed7953"
             ],
             [
              0.7777777777777778,
              "#fb9f3a"
             ],
             [
              0.8888888888888888,
              "#fdca26"
             ],
             [
              1,
              "#f0f921"
             ]
            ],
            "type": "histogram2d"
           }
          ],
          "histogram2dcontour": [
           {
            "colorbar": {
             "outlinewidth": 0,
             "ticks": ""
            },
            "colorscale": [
             [
              0,
              "#0d0887"
             ],
             [
              0.1111111111111111,
              "#46039f"
             ],
             [
              0.2222222222222222,
              "#7201a8"
             ],
             [
              0.3333333333333333,
              "#9c179e"
             ],
             [
              0.4444444444444444,
              "#bd3786"
             ],
             [
              0.5555555555555556,
              "#d8576b"
             ],
             [
              0.6666666666666666,
              "#ed7953"
             ],
             [
              0.7777777777777778,
              "#fb9f3a"
             ],
             [
              0.8888888888888888,
              "#fdca26"
             ],
             [
              1,
              "#f0f921"
             ]
            ],
            "type": "histogram2dcontour"
           }
          ],
          "mesh3d": [
           {
            "colorbar": {
             "outlinewidth": 0,
             "ticks": ""
            },
            "type": "mesh3d"
           }
          ],
          "parcoords": [
           {
            "line": {
             "colorbar": {
              "outlinewidth": 0,
              "ticks": ""
             }
            },
            "type": "parcoords"
           }
          ],
          "pie": [
           {
            "automargin": true,
            "type": "pie"
           }
          ],
          "scatter": [
           {
            "fillpattern": {
             "fillmode": "overlay",
             "size": 10,
             "solidity": 0.2
            },
            "type": "scatter"
           }
          ],
          "scatter3d": [
           {
            "line": {
             "colorbar": {
              "outlinewidth": 0,
              "ticks": ""
             }
            },
            "marker": {
             "colorbar": {
              "outlinewidth": 0,
              "ticks": ""
             }
            },
            "type": "scatter3d"
           }
          ],
          "scattercarpet": [
           {
            "marker": {
             "colorbar": {
              "outlinewidth": 0,
              "ticks": ""
             }
            },
            "type": "scattercarpet"
           }
          ],
          "scattergeo": [
           {
            "marker": {
             "colorbar": {
              "outlinewidth": 0,
              "ticks": ""
             }
            },
            "type": "scattergeo"
           }
          ],
          "scattergl": [
           {
            "marker": {
             "colorbar": {
              "outlinewidth": 0,
              "ticks": ""
             }
            },
            "type": "scattergl"
           }
          ],
          "scattermap": [
           {
            "marker": {
             "colorbar": {
              "outlinewidth": 0,
              "ticks": ""
             }
            },
            "type": "scattermap"
           }
          ],
          "scattermapbox": [
           {
            "marker": {
             "colorbar": {
              "outlinewidth": 0,
              "ticks": ""
             }
            },
            "type": "scattermapbox"
           }
          ],
          "scatterpolar": [
           {
            "marker": {
             "colorbar": {
              "outlinewidth": 0,
              "ticks": ""
             }
            },
            "type": "scatterpolar"
           }
          ],
          "scatterpolargl": [
           {
            "marker": {
             "colorbar": {
              "outlinewidth": 0,
              "ticks": ""
             }
            },
            "type": "scatterpolargl"
           }
          ],
          "scatterternary": [
           {
            "marker": {
             "colorbar": {
              "outlinewidth": 0,
              "ticks": ""
             }
            },
            "type": "scatterternary"
           }
          ],
          "surface": [
           {
            "colorbar": {
             "outlinewidth": 0,
             "ticks": ""
            },
            "colorscale": [
             [
              0,
              "#0d0887"
             ],
             [
              0.1111111111111111,
              "#46039f"
             ],
             [
              0.2222222222222222,
              "#7201a8"
             ],
             [
              0.3333333333333333,
              "#9c179e"
             ],
             [
              0.4444444444444444,
              "#bd3786"
             ],
             [
              0.5555555555555556,
              "#d8576b"
             ],
             [
              0.6666666666666666,
              "#ed7953"
             ],
             [
              0.7777777777777778,
              "#fb9f3a"
             ],
             [
              0.8888888888888888,
              "#fdca26"
             ],
             [
              1,
              "#f0f921"
             ]
            ],
            "type": "surface"
           }
          ],
          "table": [
           {
            "cells": {
             "fill": {
              "color": "#EBF0F8"
             },
             "line": {
              "color": "white"
             }
            },
            "header": {
             "fill": {
              "color": "#C8D4E3"
             },
             "line": {
              "color": "white"
             }
            },
            "type": "table"
           }
          ]
         },
         "layout": {
          "annotationdefaults": {
           "arrowcolor": "#2a3f5f",
           "arrowhead": 0,
           "arrowwidth": 1
          },
          "autotypenumbers": "strict",
          "coloraxis": {
           "colorbar": {
            "outlinewidth": 0,
            "ticks": ""
           }
          },
          "colorscale": {
           "diverging": [
            [
             0,
             "#8e0152"
            ],
            [
             0.1,
             "#c51b7d"
            ],
            [
             0.2,
             "#de77ae"
            ],
            [
             0.3,
             "#f1b6da"
            ],
            [
             0.4,
             "#fde0ef"
            ],
            [
             0.5,
             "#f7f7f7"
            ],
            [
             0.6,
             "#e6f5d0"
            ],
            [
             0.7,
             "#b8e186"
            ],
            [
             0.8,
             "#7fbc41"
            ],
            [
             0.9,
             "#4d9221"
            ],
            [
             1,
             "#276419"
            ]
           ],
           "sequential": [
            [
             0,
             "#0d0887"
            ],
            [
             0.1111111111111111,
             "#46039f"
            ],
            [
             0.2222222222222222,
             "#7201a8"
            ],
            [
             0.3333333333333333,
             "#9c179e"
            ],
            [
             0.4444444444444444,
             "#bd3786"
            ],
            [
             0.5555555555555556,
             "#d8576b"
            ],
            [
             0.6666666666666666,
             "#ed7953"
            ],
            [
             0.7777777777777778,
             "#fb9f3a"
            ],
            [
             0.8888888888888888,
             "#fdca26"
            ],
            [
             1,
             "#f0f921"
            ]
           ],
           "sequentialminus": [
            [
             0,
             "#0d0887"
            ],
            [
             0.1111111111111111,
             "#46039f"
            ],
            [
             0.2222222222222222,
             "#7201a8"
            ],
            [
             0.3333333333333333,
             "#9c179e"
            ],
            [
             0.4444444444444444,
             "#bd3786"
            ],
            [
             0.5555555555555556,
             "#d8576b"
            ],
            [
             0.6666666666666666,
             "#ed7953"
            ],
            [
             0.7777777777777778,
             "#fb9f3a"
            ],
            [
             0.8888888888888888,
             "#fdca26"
            ],
            [
             1,
             "#f0f921"
            ]
           ]
          },
          "colorway": [
           "#636efa",
           "#EF553B",
           "#00cc96",
           "#ab63fa",
           "#FFA15A",
           "#19d3f3",
           "#FF6692",
           "#B6E880",
           "#FF97FF",
           "#FECB52"
          ],
          "font": {
           "color": "#2a3f5f"
          },
          "geo": {
           "bgcolor": "white",
           "lakecolor": "white",
           "landcolor": "#E5ECF6",
           "showlakes": true,
           "showland": true,
           "subunitcolor": "white"
          },
          "hoverlabel": {
           "align": "left"
          },
          "hovermode": "closest",
          "mapbox": {
           "style": "light"
          },
          "paper_bgcolor": "white",
          "plot_bgcolor": "#E5ECF6",
          "polar": {
           "angularaxis": {
            "gridcolor": "white",
            "linecolor": "white",
            "ticks": ""
           },
           "bgcolor": "#E5ECF6",
           "radialaxis": {
            "gridcolor": "white",
            "linecolor": "white",
            "ticks": ""
           }
          },
          "scene": {
           "xaxis": {
            "backgroundcolor": "#E5ECF6",
            "gridcolor": "white",
            "gridwidth": 2,
            "linecolor": "white",
            "showbackground": true,
            "ticks": "",
            "zerolinecolor": "white"
           },
           "yaxis": {
            "backgroundcolor": "#E5ECF6",
            "gridcolor": "white",
            "gridwidth": 2,
            "linecolor": "white",
            "showbackground": true,
            "ticks": "",
            "zerolinecolor": "white"
           },
           "zaxis": {
            "backgroundcolor": "#E5ECF6",
            "gridcolor": "white",
            "gridwidth": 2,
            "linecolor": "white",
            "showbackground": true,
            "ticks": "",
            "zerolinecolor": "white"
           }
          },
          "shapedefaults": {
           "line": {
            "color": "#2a3f5f"
           }
          },
          "ternary": {
           "aaxis": {
            "gridcolor": "white",
            "linecolor": "white",
            "ticks": ""
           },
           "baxis": {
            "gridcolor": "white",
            "linecolor": "white",
            "ticks": ""
           },
           "bgcolor": "#E5ECF6",
           "caxis": {
            "gridcolor": "white",
            "linecolor": "white",
            "ticks": ""
           }
          },
          "title": {
           "x": 0.05
          },
          "xaxis": {
           "automargin": true,
           "gridcolor": "white",
           "linecolor": "white",
           "ticks": "",
           "title": {
            "standoff": 15
           },
           "zerolinecolor": "white",
           "zerolinewidth": 2
          },
          "yaxis": {
           "automargin": true,
           "gridcolor": "white",
           "linecolor": "white",
           "ticks": "",
           "title": {
            "standoff": 15
           },
           "zerolinecolor": "white",
           "zerolinewidth": 2
          }
         }
        },
        "title": {
         "text": "Churn Rate by Tenure Bucket"
        },
        "xaxis": {
         "anchor": "y",
         "domain": [
          0,
          1
         ],
         "title": {
          "text": "Tenure bucket"
         }
        },
        "yaxis": {
         "anchor": "x",
         "domain": [
          0,
          1
         ],
         "tickformat": ".0%",
         "title": {
          "text": "Churn rate"
         }
        }
       }
      }
     },
     "metadata": {},
     "output_type": "display_data"
    }
   ],
   "source": [
    "bins = [-0.1, 1, 6, 12, 24, 48, 72, 120]\n",
    "labels = [\"0-1\", \"2-6\", \"7-12\", \"13-24\", \"25-48\", \"49-72\", \"73+\"]\n",
    "\n",
    "df[\"_tenure_bucket\"] = pd.cut(df['Tenure Months'], bins=bins, labels=labels)\n",
    "rate = (df.groupby(\"_tenure_bucket\")[\"Churn Value\"]\n",
    "          .mean().rename(\"churn_rate\").reset_index())\n",
    "\n",
    "fig = px.bar(rate, x=\"_tenure_bucket\", y=\"churn_rate\",\n",
    "             title=\"Churn Rate by Tenure Bucket\",\n",
    "             labels={\"_tenure_bucket\":\"Tenure bucket\",\"churn_rate\":\"Churn rate\"})\n",
    "fig.update_yaxes(tickformat=\".0%\")\n",
    "fig.show()"
   ]
  },
  {
   "cell_type": "markdown",
   "id": "c2571722",
   "metadata": {},
   "source": [
    "The likelihood of churn is highest in the early months (61% for 0–1 month, 47% for 2–6 months) and decreases steadily with tenure, reaching below 10% for customers who stay beyond 4 years."
   ]
  },
  {
   "cell_type": "code",
   "execution_count": 85,
   "id": "d46513b4",
   "metadata": {},
   "outputs": [
    {
     "data": {
      "application/vnd.plotly.v1+json": {
       "config": {
        "plotlyServerURL": "https://plot.ly"
       },
       "data": [
        {
         "alignmentgroup": "True",
         "boxpoints": "outliers",
         "hovertemplate": "Churn=%{x}<br>Tenure (months)=%{y}<extra></extra>",
         "legendgroup": "",
         "marker": {
          "color": "#636efa"
         },
         "name": "",
         "notched": false,
         "offsetgroup": "",
         "orientation": "v",
         "showlegend": false,
         "type": "box",
         "x": [
          "Yes",
          "Yes",
          "Yes",
          "Yes",
          "Yes",
          "Yes",
          "Yes",
          "Yes",
          "Yes",
          "Yes",
          "Yes",
          "Yes",
          "Yes",
          "Yes",
          "Yes",
          "Yes",
          "Yes",
          "Yes",
          "Yes",
          "Yes",
          "Yes",
          "Yes",
          "Yes",
          "Yes",
          "Yes",
          "Yes",
          "Yes",
          "Yes",
          "Yes",
          "Yes",
          "Yes",
          "Yes",
          "Yes",
          "Yes",
          "Yes",
          "Yes",
          "Yes",
          "Yes",
          "Yes",
          "Yes",
          "Yes",
          "Yes",
          "Yes",
          "Yes",
          "Yes",
          "Yes",
          "Yes",
          "Yes",
          "Yes",
          "Yes",
          "Yes",
          "Yes",
          "Yes",
          "Yes",
          "Yes",
          "Yes",
          "Yes",
          "Yes",
          "Yes",
          "Yes",
          "Yes",
          "Yes",
          "Yes",
          "Yes",
          "Yes",
          "Yes",
          "Yes",
          "Yes",
          "Yes",
          "Yes",
          "Yes",
          "Yes",
          "Yes",
          "Yes",
          "Yes",
          "Yes",
          "Yes",
          "Yes",
          "Yes",
          "Yes",
          "Yes",
          "Yes",
          "Yes",
          "Yes",
          "Yes",
          "Yes",
          "Yes",
          "Yes",
          "Yes",
          "Yes",
          "Yes",
          "Yes",
          "Yes",
          "Yes",
          "Yes",
          "Yes",
          "Yes",
          "Yes",
          "Yes",
          "Yes",
          "Yes",
          "Yes",
          "Yes",
          "Yes",
          "Yes",
          "Yes",
          "Yes",
          "Yes",
          "Yes",
          "Yes",
          "Yes",
          "Yes",
          "Yes",
          "Yes",
          "Yes",
          "Yes",
          "Yes",
          "Yes",
          "Yes",
          "Yes",
          "Yes",
          "Yes",
          "Yes",
          "Yes",
          "Yes",
          "Yes",
          "Yes",
          "Yes",
          "Yes",
          "Yes",
          "Yes",
          "Yes",
          "Yes",
          "Yes",
          "Yes",
          "Yes",
          "Yes",
          "Yes",
          "Yes",
          "Yes",
          "Yes",
          "Yes",
          "Yes",
          "Yes",
          "Yes",
          "Yes",
          "Yes",
          "Yes",
          "Yes",
          "Yes",
          "Yes",
          "Yes",
          "Yes",
          "Yes",
          "Yes",
          "Yes",
          "Yes",
          "Yes",
          "Yes",
          "Yes",
          "Yes",
          "Yes",
          "Yes",
          "Yes",
          "Yes",
          "Yes",
          "Yes",
          "Yes",
          "Yes",
          "Yes",
          "Yes",
          "Yes",
          "Yes",
          "Yes",
          "Yes",
          "Yes",
          "Yes",
          "Yes",
          "Yes",
          "Yes",
          "Yes",
          "Yes",
          "Yes",
          "Yes",
          "Yes",
          "Yes",
          "Yes",
          "Yes",
          "Yes",
          "Yes",
          "Yes",
          "Yes",
          "Yes",
          "Yes",
          "Yes",
          "Yes",
          "Yes",
          "Yes",
          "Yes",
          "Yes",
          "Yes",
          "Yes",
          "Yes",
          "Yes",
          "Yes",
          "Yes",
          "Yes",
          "Yes",
          "Yes",
          "Yes",
          "Yes",
          "Yes",
          "Yes",
          "Yes",
          "Yes",
          "Yes",
          "Yes",
          "Yes",
          "Yes",
          "Yes",
          "Yes",
          "Yes",
          "Yes",
          "Yes",
          "Yes",
          "Yes",
          "Yes",
          "Yes",
          "Yes",
          "Yes",
          "Yes",
          "Yes",
          "Yes",
          "Yes",
          "Yes",
          "Yes",
          "Yes",
          "Yes",
          "Yes",
          "Yes",
          "Yes",
          "Yes",
          "Yes",
          "Yes",
          "Yes",
          "Yes",
          "Yes",
          "Yes",
          "Yes",
          "Yes",
          "Yes",
          "Yes",
          "Yes",
          "Yes",
          "Yes",
          "Yes",
          "Yes",
          "Yes",
          "Yes",
          "Yes",
          "Yes",
          "Yes",
          "Yes",
          "Yes",
          "Yes",
          "Yes",
          "Yes",
          "Yes",
          "Yes",
          "Yes",
          "Yes",
          "Yes",
          "Yes",
          "Yes",
          "Yes",
          "Yes",
          "Yes",
          "Yes",
          "Yes",
          "Yes",
          "Yes",
          "Yes",
          "Yes",
          "Yes",
          "Yes",
          "Yes",
          "Yes",
          "Yes",
          "Yes",
          "Yes",
          "Yes",
          "Yes",
          "Yes",
          "Yes",
          "Yes",
          "Yes",
          "Yes",
          "Yes",
          "Yes",
          "Yes",
          "Yes",
          "Yes",
          "Yes",
          "Yes",
          "Yes",
          "Yes",
          "Yes",
          "Yes",
          "Yes",
          "Yes",
          "Yes",
          "Yes",
          "Yes",
          "Yes",
          "Yes",
          "Yes",
          "Yes",
          "Yes",
          "Yes",
          "Yes",
          "Yes",
          "Yes",
          "Yes",
          "Yes",
          "Yes",
          "Yes",
          "Yes",
          "Yes",
          "Yes",
          "Yes",
          "Yes",
          "Yes",
          "Yes",
          "Yes",
          "Yes",
          "Yes",
          "Yes",
          "Yes",
          "Yes",
          "Yes",
          "Yes",
          "Yes",
          "Yes",
          "Yes",
          "Yes",
          "Yes",
          "Yes",
          "Yes",
          "Yes",
          "Yes",
          "Yes",
          "Yes",
          "Yes",
          "Yes",
          "Yes",
          "Yes",
          "Yes",
          "Yes",
          "Yes",
          "Yes",
          "Yes",
          "Yes",
          "Yes",
          "Yes",
          "Yes",
          "Yes",
          "Yes",
          "Yes",
          "Yes",
          "Yes",
          "Yes",
          "Yes",
          "Yes",
          "Yes",
          "Yes",
          "Yes",
          "Yes",
          "Yes",
          "Yes",
          "Yes",
          "Yes",
          "Yes",
          "Yes",
          "Yes",
          "Yes",
          "Yes",
          "Yes",
          "Yes",
          "Yes",
          "Yes",
          "Yes",
          "Yes",
          "Yes",
          "Yes",
          "Yes",
          "Yes",
          "Yes",
          "Yes",
          "Yes",
          "Yes",
          "Yes",
          "Yes",
          "Yes",
          "Yes",
          "Yes",
          "Yes",
          "Yes",
          "Yes",
          "Yes",
          "Yes",
          "Yes",
          "Yes",
          "Yes",
          "Yes",
          "Yes",
          "Yes",
          "Yes",
          "Yes",
          "Yes",
          "Yes",
          "Yes",
          "Yes",
          "Yes",
          "Yes",
          "Yes",
          "Yes",
          "Yes",
          "Yes",
          "Yes",
          "Yes",
          "Yes",
          "Yes",
          "Yes",
          "Yes",
          "Yes",
          "Yes",
          "Yes",
          "Yes",
          "Yes",
          "Yes",
          "Yes",
          "Yes",
          "Yes",
          "Yes",
          "Yes",
          "Yes",
          "Yes",
          "Yes",
          "Yes",
          "Yes",
          "Yes",
          "Yes",
          "Yes",
          "Yes",
          "Yes",
          "Yes",
          "Yes",
          "Yes",
          "Yes",
          "Yes",
          "Yes",
          "Yes",
          "Yes",
          "Yes",
          "Yes",
          "Yes",
          "Yes",
          "Yes",
          "Yes",
          "Yes",
          "Yes",
          "Yes",
          "Yes",
          "Yes",
          "Yes",
          "Yes",
          "Yes",
          "Yes",
          "Yes",
          "Yes",
          "Yes",
          "Yes",
          "Yes",
          "Yes",
          "Yes",
          "Yes",
          "Yes",
          "Yes",
          "Yes",
          "Yes",
          "Yes",
          "Yes",
          "Yes",
          "Yes",
          "Yes",
          "Yes",
          "Yes",
          "Yes",
          "Yes",
          "Yes",
          "Yes",
          "Yes",
          "Yes",
          "Yes",
          "Yes",
          "Yes",
          "Yes",
          "Yes",
          "Yes",
          "Yes",
          "Yes",
          "Yes",
          "Yes",
          "Yes",
          "Yes",
          "Yes",
          "Yes",
          "Yes",
          "Yes",
          "Yes",
          "Yes",
          "Yes",
          "Yes",
          "Yes",
          "Yes",
          "Yes",
          "Yes",
          "Yes",
          "Yes",
          "Yes",
          "Yes",
          "Yes",
          "Yes",
          "Yes",
          "Yes",
          "Yes",
          "Yes",
          "Yes",
          "Yes",
          "Yes",
          "Yes",
          "Yes",
          "Yes",
          "Yes",
          "Yes",
          "Yes",
          "Yes",
          "Yes",
          "Yes",
          "Yes",
          "Yes",
          "Yes",
          "Yes",
          "Yes",
          "Yes",
          "Yes",
          "Yes",
          "Yes",
          "Yes",
          "Yes",
          "Yes",
          "Yes",
          "Yes",
          "Yes",
          "Yes",
          "Yes",
          "Yes",
          "Yes",
          "Yes",
          "Yes",
          "Yes",
          "Yes",
          "Yes",
          "Yes",
          "Yes",
          "Yes",
          "Yes",
          "Yes",
          "Yes",
          "Yes",
          "Yes",
          "Yes",
          "Yes",
          "Yes",
          "Yes",
          "Yes",
          "Yes",
          "Yes",
          "Yes",
          "Yes",
          "Yes",
          "Yes",
          "Yes",
          "Yes",
          "Yes",
          "Yes",
          "Yes",
          "Yes",
          "Yes",
          "Yes",
          "Yes",
          "Yes",
          "Yes",
          "Yes",
          "Yes",
          "Yes",
          "Yes",
          "Yes",
          "Yes",
          "Yes",
          "Yes",
          "Yes",
          "Yes",
          "Yes",
          "Yes",
          "Yes",
          "Yes",
          "Yes",
          "Yes",
          "Yes",
          "Yes",
          "Yes",
          "Yes",
          "Yes",
          "Yes",
          "Yes",
          "Yes",
          "Yes",
          "Yes",
          "Yes",
          "Yes",
          "Yes",
          "Yes",
          "Yes",
          "Yes",
          "Yes",
          "Yes",
          "Yes",
          "Yes",
          "Yes",
          "Yes",
          "Yes",
          "Yes",
          "Yes",
          "Yes",
          "Yes",
          "Yes",
          "Yes",
          "Yes",
          "Yes",
          "Yes",
          "Yes",
          "Yes",
          "Yes",
          "Yes",
          "Yes",
          "Yes",
          "Yes",
          "Yes",
          "Yes",
          "Yes",
          "Yes",
          "Yes",
          "Yes",
          "Yes",
          "Yes",
          "Yes",
          "Yes",
          "Yes",
          "Yes",
          "Yes",
          "Yes",
          "Yes",
          "Yes",
          "Yes",
          "Yes",
          "Yes",
          "Yes",
          "Yes",
          "Yes",
          "Yes",
          "Yes",
          "Yes",
          "Yes",
          "Yes",
          "Yes",
          "Yes",
          "Yes",
          "Yes",
          "Yes",
          "Yes",
          "Yes",
          "Yes",
          "Yes",
          "Yes",
          "Yes",
          "Yes",
          "Yes",
          "Yes",
          "Yes",
          "Yes",
          "Yes",
          "Yes",
          "Yes",
          "Yes",
          "Yes",
          "Yes",
          "Yes",
          "Yes",
          "Yes",
          "Yes",
          "Yes",
          "Yes",
          "Yes",
          "Yes",
          "Yes",
          "Yes",
          "Yes",
          "Yes",
          "Yes",
          "Yes",
          "Yes",
          "Yes",
          "Yes",
          "Yes",
          "Yes",
          "Yes",
          "Yes",
          "Yes",
          "Yes",
          "Yes",
          "Yes",
          "Yes",
          "Yes",
          "Yes",
          "Yes",
          "Yes",
          "Yes",
          "Yes",
          "Yes",
          "Yes",
          "Yes",
          "Yes",
          "Yes",
          "Yes",
          "Yes",
          "Yes",
          "Yes",
          "Yes",
          "Yes",
          "Yes",
          "Yes",
          "Yes",
          "Yes",
          "Yes",
          "Yes",
          "Yes",
          "Yes",
          "Yes",
          "Yes",
          "Yes",
          "Yes",
          "Yes",
          "Yes",
          "Yes",
          "Yes",
          "Yes",
          "Yes",
          "Yes",
          "Yes",
          "Yes",
          "Yes",
          "Yes",
          "Yes",
          "Yes",
          "Yes",
          "Yes",
          "Yes",
          "Yes",
          "Yes",
          "Yes",
          "Yes",
          "Yes",
          "Yes",
          "Yes",
          "Yes",
          "Yes",
          "Yes",
          "Yes",
          "Yes",
          "Yes",
          "Yes",
          "Yes",
          "Yes",
          "Yes",
          "Yes",
          "Yes",
          "Yes",
          "Yes",
          "Yes",
          "Yes",
          "Yes",
          "Yes",
          "Yes",
          "Yes",
          "Yes",
          "Yes",
          "Yes",
          "Yes",
          "Yes",
          "Yes",
          "Yes",
          "Yes",
          "Yes",
          "Yes",
          "Yes",
          "Yes",
          "Yes",
          "Yes",
          "Yes",
          "Yes",
          "Yes",
          "Yes",
          "Yes",
          "Yes",
          "Yes",
          "Yes",
          "Yes",
          "Yes",
          "Yes",
          "Yes",
          "Yes",
          "Yes",
          "Yes",
          "Yes",
          "Yes",
          "Yes",
          "Yes",
          "Yes",
          "Yes",
          "Yes",
          "Yes",
          "Yes",
          "Yes",
          "Yes",
          "Yes",
          "Yes",
          "Yes",
          "Yes",
          "Yes",
          "Yes",
          "Yes",
          "Yes",
          "Yes",
          "Yes",
          "Yes",
          "Yes",
          "Yes",
          "Yes",
          "Yes",
          "Yes",
          "Yes",
          "Yes",
          "Yes",
          "Yes",
          "Yes",
          "Yes",
          "Yes",
          "Yes",
          "Yes",
          "Yes",
          "Yes",
          "Yes",
          "Yes",
          "Yes",
          "Yes",
          "Yes",
          "Yes",
          "Yes",
          "Yes",
          "Yes",
          "Yes",
          "Yes",
          "Yes",
          "Yes",
          "Yes",
          "Yes",
          "Yes",
          "Yes",
          "Yes",
          "Yes",
          "Yes",
          "Yes",
          "Yes",
          "Yes",
          "Yes",
          "Yes",
          "Yes",
          "Yes",
          "Yes",
          "Yes",
          "Yes",
          "Yes",
          "Yes",
          "Yes",
          "Yes",
          "Yes",
          "Yes",
          "Yes",
          "Yes",
          "Yes",
          "Yes",
          "Yes",
          "Yes",
          "Yes",
          "Yes",
          "Yes",
          "Yes",
          "Yes",
          "Yes",
          "Yes",
          "Yes",
          "Yes",
          "Yes",
          "Yes",
          "Yes",
          "Yes",
          "Yes",
          "Yes",
          "Yes",
          "Yes",
          "Yes",
          "Yes",
          "Yes",
          "Yes",
          "Yes",
          "Yes",
          "Yes",
          "Yes",
          "Yes",
          "Yes",
          "Yes",
          "Yes",
          "Yes",
          "Yes",
          "Yes",
          "Yes",
          "Yes",
          "Yes",
          "Yes",
          "Yes",
          "Yes",
          "Yes",
          "Yes",
          "Yes",
          "Yes",
          "Yes",
          "Yes",
          "Yes",
          "Yes",
          "Yes",
          "Yes",
          "Yes",
          "Yes",
          "Yes",
          "Yes",
          "Yes",
          "Yes",
          "Yes",
          "Yes",
          "Yes",
          "Yes",
          "Yes",
          "Yes",
          "Yes",
          "Yes",
          "Yes",
          "Yes",
          "Yes",
          "Yes",
          "Yes",
          "Yes",
          "Yes",
          "Yes",
          "Yes",
          "Yes",
          "Yes",
          "Yes",
          "Yes",
          "Yes",
          "Yes",
          "Yes",
          "Yes",
          "Yes",
          "Yes",
          "Yes",
          "Yes",
          "Yes",
          "Yes",
          "Yes",
          "Yes",
          "Yes",
          "Yes",
          "Yes",
          "Yes",
          "Yes",
          "Yes",
          "Yes",
          "Yes",
          "Yes",
          "Yes",
          "Yes",
          "Yes",
          "Yes",
          "Yes",
          "Yes",
          "Yes",
          "Yes",
          "Yes",
          "Yes",
          "Yes",
          "Yes",
          "Yes",
          "Yes",
          "Yes",
          "Yes",
          "Yes",
          "Yes",
          "Yes",
          "Yes",
          "Yes",
          "Yes",
          "Yes",
          "Yes",
          "Yes",
          "Yes",
          "Yes",
          "Yes",
          "Yes",
          "Yes",
          "Yes",
          "Yes",
          "Yes",
          "Yes",
          "Yes",
          "Yes",
          "Yes",
          "Yes",
          "Yes",
          "Yes",
          "Yes",
          "Yes",
          "Yes",
          "Yes",
          "Yes",
          "Yes",
          "Yes",
          "Yes",
          "Yes",
          "Yes",
          "Yes",
          "Yes",
          "Yes",
          "Yes",
          "Yes",
          "Yes",
          "Yes",
          "Yes",
          "Yes",
          "Yes",
          "Yes",
          "Yes",
          "Yes",
          "Yes",
          "Yes",
          "Yes",
          "Yes",
          "Yes",
          "Yes",
          "Yes",
          "Yes",
          "Yes",
          "Yes",
          "Yes",
          "Yes",
          "Yes",
          "Yes",
          "Yes",
          "Yes",
          "Yes",
          "Yes",
          "Yes",
          "Yes",
          "Yes",
          "Yes",
          "Yes",
          "Yes",
          "Yes",
          "Yes",
          "Yes",
          "Yes",
          "Yes",
          "Yes",
          "Yes",
          "Yes",
          "Yes",
          "Yes",
          "Yes",
          "Yes",
          "Yes",
          "Yes",
          "Yes",
          "Yes",
          "Yes",
          "Yes",
          "Yes",
          "Yes",
          "Yes",
          "Yes",
          "Yes",
          "Yes",
          "Yes",
          "Yes",
          "Yes",
          "Yes",
          "Yes",
          "Yes",
          "Yes",
          "Yes",
          "Yes",
          "Yes",
          "Yes",
          "Yes",
          "Yes",
          "Yes",
          "Yes",
          "Yes",
          "Yes",
          "Yes",
          "Yes",
          "Yes",
          "Yes",
          "Yes",
          "Yes",
          "Yes",
          "Yes",
          "Yes",
          "Yes",
          "Yes",
          "Yes",
          "Yes",
          "Yes",
          "Yes",
          "Yes",
          "Yes",
          "Yes",
          "Yes",
          "Yes",
          "Yes",
          "Yes",
          "Yes",
          "Yes",
          "Yes",
          "Yes",
          "Yes",
          "Yes",
          "Yes",
          "Yes",
          "Yes",
          "Yes",
          "Yes",
          "Yes",
          "Yes",
          "Yes",
          "Yes",
          "Yes",
          "Yes",
          "Yes",
          "Yes",
          "Yes",
          "Yes",
          "Yes",
          "Yes",
          "Yes",
          "Yes",
          "Yes",
          "Yes",
          "Yes",
          "Yes",
          "Yes",
          "Yes",
          "Yes",
          "Yes",
          "Yes",
          "Yes",
          "Yes",
          "Yes",
          "Yes",
          "Yes",
          "Yes",
          "Yes",
          "Yes",
          "Yes",
          "Yes",
          "Yes",
          "Yes",
          "Yes",
          "Yes",
          "Yes",
          "Yes",
          "Yes",
          "Yes",
          "Yes",
          "Yes",
          "Yes",
          "Yes",
          "Yes",
          "Yes",
          "Yes",
          "Yes",
          "Yes",
          "Yes",
          "Yes",
          "Yes",
          "Yes",
          "Yes",
          "Yes",
          "Yes",
          "Yes",
          "Yes",
          "Yes",
          "Yes",
          "Yes",
          "Yes",
          "Yes",
          "Yes",
          "Yes",
          "Yes",
          "Yes",
          "Yes",
          "Yes",
          "Yes",
          "Yes",
          "Yes",
          "Yes",
          "Yes",
          "Yes",
          "Yes",
          "Yes",
          "Yes",
          "Yes",
          "Yes",
          "Yes",
          "Yes",
          "Yes",
          "Yes",
          "Yes",
          "Yes",
          "Yes",
          "Yes",
          "Yes",
          "Yes",
          "Yes",
          "Yes",
          "Yes",
          "Yes",
          "Yes",
          "Yes",
          "Yes",
          "Yes",
          "Yes",
          "Yes",
          "Yes",
          "Yes",
          "Yes",
          "Yes",
          "Yes",
          "Yes",
          "Yes",
          "Yes",
          "Yes",
          "Yes",
          "Yes",
          "Yes",
          "Yes",
          "Yes",
          "Yes",
          "Yes",
          "Yes",
          "Yes",
          "Yes",
          "Yes",
          "Yes",
          "Yes",
          "Yes",
          "Yes",
          "Yes",
          "Yes",
          "Yes",
          "Yes",
          "Yes",
          "Yes",
          "Yes",
          "Yes",
          "Yes",
          "Yes",
          "Yes",
          "Yes",
          "Yes",
          "Yes",
          "Yes",
          "Yes",
          "Yes",
          "Yes",
          "Yes",
          "Yes",
          "Yes",
          "Yes",
          "Yes",
          "Yes",
          "Yes",
          "Yes",
          "Yes",
          "Yes",
          "Yes",
          "Yes",
          "Yes",
          "Yes",
          "Yes",
          "Yes",
          "Yes",
          "Yes",
          "Yes",
          "Yes",
          "Yes",
          "Yes",
          "Yes",
          "Yes",
          "Yes",
          "Yes",
          "Yes",
          "Yes",
          "Yes",
          "Yes",
          "Yes",
          "Yes",
          "Yes",
          "Yes",
          "Yes",
          "Yes",
          "Yes",
          "Yes",
          "Yes",
          "Yes",
          "Yes",
          "Yes",
          "Yes",
          "Yes",
          "Yes",
          "Yes",
          "Yes",
          "Yes",
          "Yes",
          "Yes",
          "Yes",
          "Yes",
          "Yes",
          "Yes",
          "Yes",
          "Yes",
          "Yes",
          "Yes",
          "Yes",
          "Yes",
          "Yes",
          "Yes",
          "Yes",
          "Yes",
          "Yes",
          "Yes",
          "Yes",
          "Yes",
          "Yes",
          "Yes",
          "Yes",
          "Yes",
          "Yes",
          "Yes",
          "Yes",
          "Yes",
          "Yes",
          "Yes",
          "Yes",
          "Yes",
          "Yes",
          "Yes",
          "Yes",
          "Yes",
          "Yes",
          "Yes",
          "Yes",
          "Yes",
          "Yes",
          "Yes",
          "Yes",
          "Yes",
          "Yes",
          "Yes",
          "Yes",
          "Yes",
          "Yes",
          "Yes",
          "Yes",
          "Yes",
          "Yes",
          "Yes",
          "Yes",
          "Yes",
          "Yes",
          "Yes",
          "Yes",
          "Yes",
          "Yes",
          "Yes",
          "Yes",
          "Yes",
          "Yes",
          "Yes",
          "Yes",
          "Yes",
          "Yes",
          "Yes",
          "Yes",
          "Yes",
          "Yes",
          "Yes",
          "Yes",
          "Yes",
          "Yes",
          "Yes",
          "Yes",
          "Yes",
          "Yes",
          "Yes",
          "Yes",
          "Yes",
          "Yes",
          "Yes",
          "Yes",
          "Yes",
          "Yes",
          "Yes",
          "Yes",
          "Yes",
          "Yes",
          "Yes",
          "Yes",
          "Yes",
          "Yes",
          "Yes",
          "Yes",
          "Yes",
          "Yes",
          "Yes",
          "Yes",
          "Yes",
          "Yes",
          "Yes",
          "Yes",
          "Yes",
          "Yes",
          "Yes",
          "Yes",
          "Yes",
          "Yes",
          "Yes",
          "Yes",
          "Yes",
          "Yes",
          "Yes",
          "Yes",
          "Yes",
          "Yes",
          "Yes",
          "Yes",
          "Yes",
          "Yes",
          "Yes",
          "Yes",
          "Yes",
          "Yes",
          "Yes",
          "Yes",
          "Yes",
          "Yes",
          "Yes",
          "Yes",
          "Yes",
          "Yes",
          "Yes",
          "Yes",
          "Yes",
          "Yes",
          "Yes",
          "Yes",
          "Yes",
          "Yes",
          "Yes",
          "Yes",
          "Yes",
          "Yes",
          "Yes",
          "Yes",
          "Yes",
          "Yes",
          "Yes",
          "Yes",
          "Yes",
          "Yes",
          "Yes",
          "Yes",
          "Yes",
          "Yes",
          "Yes",
          "Yes",
          "Yes",
          "Yes",
          "Yes",
          "Yes",
          "Yes",
          "Yes",
          "Yes",
          "Yes",
          "Yes",
          "Yes",
          "Yes",
          "Yes",
          "Yes",
          "Yes",
          "Yes",
          "Yes",
          "Yes",
          "Yes",
          "Yes",
          "Yes",
          "Yes",
          "Yes",
          "Yes",
          "Yes",
          "Yes",
          "Yes",
          "Yes",
          "Yes",
          "Yes",
          "Yes",
          "Yes",
          "Yes",
          "Yes",
          "Yes",
          "Yes",
          "Yes",
          "Yes",
          "Yes",
          "Yes",
          "Yes",
          "Yes",
          "Yes",
          "Yes",
          "Yes",
          "Yes",
          "Yes",
          "Yes",
          "Yes",
          "Yes",
          "Yes",
          "Yes",
          "Yes",
          "Yes",
          "Yes",
          "Yes",
          "Yes",
          "Yes",
          "Yes",
          "Yes",
          "Yes",
          "Yes",
          "Yes",
          "Yes",
          "Yes",
          "Yes",
          "Yes",
          "Yes",
          "Yes",
          "Yes",
          "Yes",
          "Yes",
          "Yes",
          "Yes",
          "Yes",
          "Yes",
          "Yes",
          "Yes",
          "Yes",
          "Yes",
          "Yes",
          "Yes",
          "Yes",
          "Yes",
          "Yes",
          "Yes",
          "Yes",
          "Yes",
          "Yes",
          "Yes",
          "Yes",
          "Yes",
          "Yes",
          "Yes",
          "Yes",
          "Yes",
          "Yes",
          "Yes",
          "Yes",
          "Yes",
          "Yes",
          "Yes",
          "Yes",
          "Yes",
          "Yes",
          "Yes",
          "Yes",
          "Yes",
          "Yes",
          "Yes",
          "Yes",
          "Yes",
          "Yes",
          "Yes",
          "Yes",
          "Yes",
          "Yes",
          "Yes",
          "Yes",
          "Yes",
          "Yes",
          "Yes",
          "Yes",
          "Yes",
          "Yes",
          "Yes",
          "Yes",
          "Yes",
          "Yes",
          "Yes",
          "Yes",
          "Yes",
          "Yes",
          "Yes",
          "Yes",
          "Yes",
          "Yes",
          "Yes",
          "Yes",
          "Yes",
          "Yes",
          "Yes",
          "Yes",
          "Yes",
          "Yes",
          "Yes",
          "Yes",
          "Yes",
          "Yes",
          "Yes",
          "Yes",
          "Yes",
          "Yes",
          "Yes",
          "Yes",
          "Yes",
          "Yes",
          "Yes",
          "Yes",
          "Yes",
          "Yes",
          "Yes",
          "Yes",
          "Yes",
          "Yes",
          "Yes",
          "Yes",
          "Yes",
          "Yes",
          "Yes",
          "Yes",
          "Yes",
          "Yes",
          "Yes",
          "Yes",
          "Yes",
          "Yes",
          "Yes",
          "Yes",
          "Yes",
          "Yes",
          "Yes",
          "Yes",
          "Yes",
          "Yes",
          "Yes",
          "Yes",
          "Yes",
          "Yes",
          "Yes",
          "Yes",
          "Yes",
          "Yes",
          "Yes",
          "Yes",
          "Yes",
          "Yes",
          "Yes",
          "Yes",
          "Yes",
          "Yes",
          "Yes",
          "Yes",
          "Yes",
          "Yes",
          "Yes",
          "Yes",
          "Yes",
          "Yes",
          "Yes",
          "Yes",
          "Yes",
          "Yes",
          "Yes",
          "Yes",
          "Yes",
          "Yes",
          "Yes",
          "Yes",
          "Yes",
          "Yes",
          "Yes",
          "Yes",
          "Yes",
          "Yes",
          "Yes",
          "Yes",
          "Yes",
          "Yes",
          "Yes",
          "Yes",
          "Yes",
          "Yes",
          "Yes",
          "Yes",
          "Yes",
          "Yes",
          "Yes",
          "Yes",
          "Yes",
          "Yes",
          "Yes",
          "Yes",
          "Yes",
          "Yes",
          "Yes",
          "Yes",
          "Yes",
          "Yes",
          "Yes",
          "Yes",
          "Yes",
          "Yes",
          "Yes",
          "Yes",
          "Yes",
          "Yes",
          "Yes",
          "Yes",
          "Yes",
          "Yes",
          "Yes",
          "Yes",
          "Yes",
          "Yes",
          "Yes",
          "Yes",
          "Yes",
          "Yes",
          "Yes",
          "Yes",
          "Yes",
          "Yes",
          "Yes",
          "Yes",
          "Yes",
          "Yes",
          "Yes",
          "Yes",
          "Yes",
          "Yes",
          "Yes",
          "Yes",
          "Yes",
          "Yes",
          "Yes",
          "Yes",
          "Yes",
          "Yes",
          "Yes",
          "Yes",
          "Yes",
          "Yes",
          "Yes",
          "Yes",
          "Yes",
          "Yes",
          "Yes",
          "Yes",
          "Yes",
          "Yes",
          "Yes",
          "Yes",
          "Yes",
          "Yes",
          "Yes",
          "Yes",
          "Yes",
          "Yes",
          "Yes",
          "Yes",
          "Yes",
          "Yes",
          "Yes",
          "Yes",
          "Yes",
          "Yes",
          "Yes",
          "Yes",
          "Yes",
          "Yes",
          "Yes",
          "Yes",
          "Yes",
          "Yes",
          "Yes",
          "Yes",
          "Yes",
          "Yes",
          "Yes",
          "Yes",
          "Yes",
          "Yes",
          "Yes",
          "Yes",
          "Yes",
          "Yes",
          "Yes",
          "Yes",
          "Yes",
          "Yes",
          "Yes",
          "Yes",
          "Yes",
          "Yes",
          "No",
          "No",
          "No",
          "No",
          "No",
          "No",
          "No",
          "No",
          "No",
          "No",
          "No",
          "No",
          "No",
          "No",
          "No",
          "No",
          "No",
          "No",
          "No",
          "No",
          "No",
          "No",
          "No",
          "No",
          "No",
          "No",
          "No",
          "No",
          "No",
          "No",
          "No",
          "No",
          "No",
          "No",
          "No",
          "No",
          "No",
          "No",
          "No",
          "No",
          "No",
          "No",
          "No",
          "No",
          "No",
          "No",
          "No",
          "No",
          "No",
          "No",
          "No",
          "No",
          "No",
          "No",
          "No",
          "No",
          "No",
          "No",
          "No",
          "No",
          "No",
          "No",
          "No",
          "No",
          "No",
          "No",
          "No",
          "No",
          "No",
          "No",
          "No",
          "No",
          "No",
          "No",
          "No",
          "No",
          "No",
          "No",
          "No",
          "No",
          "No",
          "No",
          "No",
          "No",
          "No",
          "No",
          "No",
          "No",
          "No",
          "No",
          "No",
          "No",
          "No",
          "No",
          "No",
          "No",
          "No",
          "No",
          "No",
          "No",
          "No",
          "No",
          "No",
          "No",
          "No",
          "No",
          "No",
          "No",
          "No",
          "No",
          "No",
          "No",
          "No",
          "No",
          "No",
          "No",
          "No",
          "No",
          "No",
          "No",
          "No",
          "No",
          "No",
          "No",
          "No",
          "No",
          "No",
          "No",
          "No",
          "No",
          "No",
          "No",
          "No",
          "No",
          "No",
          "No",
          "No",
          "No",
          "No",
          "No",
          "No",
          "No",
          "No",
          "No",
          "No",
          "No",
          "No",
          "No",
          "No",
          "No",
          "No",
          "No",
          "No",
          "No",
          "No",
          "No",
          "No",
          "No",
          "No",
          "No",
          "No",
          "No",
          "No",
          "No",
          "No",
          "No",
          "No",
          "No",
          "No",
          "No",
          "No",
          "No",
          "No",
          "No",
          "No",
          "No",
          "No",
          "No",
          "No",
          "No",
          "No",
          "No",
          "No",
          "No",
          "No",
          "No",
          "No",
          "No",
          "No",
          "No",
          "No",
          "No",
          "No",
          "No",
          "No",
          "No",
          "No",
          "No",
          "No",
          "No",
          "No",
          "No",
          "No",
          "No",
          "No",
          "No",
          "No",
          "No",
          "No",
          "No",
          "No",
          "No",
          "No",
          "No",
          "No",
          "No",
          "No",
          "No",
          "No",
          "No",
          "No",
          "No",
          "No",
          "No",
          "No",
          "No",
          "No",
          "No",
          "No",
          "No",
          "No",
          "No",
          "No",
          "No",
          "No",
          "No",
          "No",
          "No",
          "No",
          "No",
          "No",
          "No",
          "No",
          "No",
          "No",
          "No",
          "No",
          "No",
          "No",
          "No",
          "No",
          "No",
          "No",
          "No",
          "No",
          "No",
          "No",
          "No",
          "No",
          "No",
          "No",
          "No",
          "No",
          "No",
          "No",
          "No",
          "No",
          "No",
          "No",
          "No",
          "No",
          "No",
          "No",
          "No",
          "No",
          "No",
          "No",
          "No",
          "No",
          "No",
          "No",
          "No",
          "No",
          "No",
          "No",
          "No",
          "No",
          "No",
          "No",
          "No",
          "No",
          "No",
          "No",
          "No",
          "No",
          "No",
          "No",
          "No",
          "No",
          "No",
          "No",
          "No",
          "No",
          "No",
          "No",
          "No",
          "No",
          "No",
          "No",
          "No",
          "No",
          "No",
          "No",
          "No",
          "No",
          "No",
          "No",
          "No",
          "No",
          "No",
          "No",
          "No",
          "No",
          "No",
          "No",
          "No",
          "No",
          "No",
          "No",
          "No",
          "No",
          "No",
          "No",
          "No",
          "No",
          "No",
          "No",
          "No",
          "No",
          "No",
          "No",
          "No",
          "No",
          "No",
          "No",
          "No",
          "No",
          "No",
          "No",
          "No",
          "No",
          "No",
          "No",
          "No",
          "No",
          "No",
          "No",
          "No",
          "No",
          "No",
          "No",
          "No",
          "No",
          "No",
          "No",
          "No",
          "No",
          "No",
          "No",
          "No",
          "No",
          "No",
          "No",
          "No",
          "No",
          "No",
          "No",
          "No",
          "No",
          "No",
          "No",
          "No",
          "No",
          "No",
          "No",
          "No",
          "No",
          "No",
          "No",
          "No",
          "No",
          "No",
          "No",
          "No",
          "No",
          "No",
          "No",
          "No",
          "No",
          "No",
          "No",
          "No",
          "No",
          "No",
          "No",
          "No",
          "No",
          "No",
          "No",
          "No",
          "No",
          "No",
          "No",
          "No",
          "No",
          "No",
          "No",
          "No",
          "No",
          "No",
          "No",
          "No",
          "No",
          "No",
          "No",
          "No",
          "No",
          "No",
          "No",
          "No",
          "No",
          "No",
          "No",
          "No",
          "No",
          "No",
          "No",
          "No",
          "No",
          "No",
          "No",
          "No",
          "No",
          "No",
          "No",
          "No",
          "No",
          "No",
          "No",
          "No",
          "No",
          "No",
          "No",
          "No",
          "No",
          "No",
          "No",
          "No",
          "No",
          "No",
          "No",
          "No",
          "No",
          "No",
          "No",
          "No",
          "No",
          "No",
          "No",
          "No",
          "No",
          "No",
          "No",
          "No",
          "No",
          "No",
          "No",
          "No",
          "No",
          "No",
          "No",
          "No",
          "No",
          "No",
          "No",
          "No",
          "No",
          "No",
          "No",
          "No",
          "No",
          "No",
          "No",
          "No",
          "No",
          "No",
          "No",
          "No",
          "No",
          "No",
          "No",
          "No",
          "No",
          "No",
          "No",
          "No",
          "No",
          "No",
          "No",
          "No",
          "No",
          "No",
          "No",
          "No",
          "No",
          "No",
          "No",
          "No",
          "No",
          "No",
          "No",
          "No",
          "No",
          "No",
          "No",
          "No",
          "No",
          "No",
          "No",
          "No",
          "No",
          "No",
          "No",
          "No",
          "No",
          "No",
          "No",
          "No",
          "No",
          "No",
          "No",
          "No",
          "No",
          "No",
          "No",
          "No",
          "No",
          "No",
          "No",
          "No",
          "No",
          "No",
          "No",
          "No",
          "No",
          "No",
          "No",
          "No",
          "No",
          "No",
          "No",
          "No",
          "No",
          "No",
          "No",
          "No",
          "No",
          "No",
          "No",
          "No",
          "No",
          "No",
          "No",
          "No",
          "No",
          "No",
          "No",
          "No",
          "No",
          "No",
          "No",
          "No",
          "No",
          "No",
          "No",
          "No",
          "No",
          "No",
          "No",
          "No",
          "No",
          "No",
          "No",
          "No",
          "No",
          "No",
          "No",
          "No",
          "No",
          "No",
          "No",
          "No",
          "No",
          "No",
          "No",
          "No",
          "No",
          "No",
          "No",
          "No",
          "No",
          "No",
          "No",
          "No",
          "No",
          "No",
          "No",
          "No",
          "No",
          "No",
          "No",
          "No",
          "No",
          "No",
          "No",
          "No",
          "No",
          "No",
          "No",
          "No",
          "No",
          "No",
          "No",
          "No",
          "No",
          "No",
          "No",
          "No",
          "No",
          "No",
          "No",
          "No",
          "No",
          "No",
          "No",
          "No",
          "No",
          "No",
          "No",
          "No",
          "No",
          "No",
          "No",
          "No",
          "No",
          "No",
          "No",
          "No",
          "No",
          "No",
          "No",
          "No",
          "No",
          "No",
          "No",
          "No",
          "No",
          "No",
          "No",
          "No",
          "No",
          "No",
          "No",
          "No",
          "No",
          "No",
          "No",
          "No",
          "No",
          "No",
          "No",
          "No",
          "No",
          "No",
          "No",
          "No",
          "No",
          "No",
          "No",
          "No",
          "No",
          "No",
          "No",
          "No",
          "No",
          "No",
          "No",
          "No",
          "No",
          "No",
          "No",
          "No",
          "No",
          "No",
          "No",
          "No",
          "No",
          "No",
          "No",
          "No",
          "No",
          "No",
          "No",
          "No",
          "No",
          "No",
          "No",
          "No",
          "No",
          "No",
          "No",
          "No",
          "No",
          "No",
          "No",
          "No",
          "No",
          "No",
          "No",
          "No",
          "No",
          "No",
          "No",
          "No",
          "No",
          "No",
          "No",
          "No",
          "No",
          "No",
          "No",
          "No",
          "No",
          "No",
          "No",
          "No",
          "No",
          "No",
          "No",
          "No",
          "No",
          "No",
          "No",
          "No",
          "No",
          "No",
          "No",
          "No",
          "No",
          "No",
          "No",
          "No",
          "No",
          "No",
          "No",
          "No",
          "No",
          "No",
          "No",
          "No",
          "No",
          "No",
          "No",
          "No",
          "No",
          "No",
          "No",
          "No",
          "No",
          "No",
          "No",
          "No",
          "No",
          "No",
          "No",
          "No",
          "No",
          "No",
          "No",
          "No",
          "No",
          "No",
          "No",
          "No",
          "No",
          "No",
          "No",
          "No",
          "No",
          "No",
          "No",
          "No",
          "No",
          "No",
          "No",
          "No",
          "No",
          "No",
          "No",
          "No",
          "No",
          "No",
          "No",
          "No",
          "No",
          "No",
          "No",
          "No",
          "No",
          "No",
          "No",
          "No",
          "No",
          "No",
          "No",
          "No",
          "No",
          "No",
          "No",
          "No",
          "No",
          "No",
          "No",
          "No",
          "No",
          "No",
          "No",
          "No",
          "No",
          "No",
          "No",
          "No",
          "No",
          "No",
          "No",
          "No",
          "No",
          "No",
          "No",
          "No",
          "No",
          "No",
          "No",
          "No",
          "No",
          "No",
          "No",
          "No",
          "No",
          "No",
          "No",
          "No",
          "No",
          "No",
          "No",
          "No",
          "No",
          "No",
          "No",
          "No",
          "No",
          "No",
          "No",
          "No",
          "No",
          "No",
          "No",
          "No",
          "No",
          "No",
          "No",
          "No",
          "No",
          "No",
          "No",
          "No",
          "No",
          "No",
          "No",
          "No",
          "No",
          "No",
          "No",
          "No",
          "No",
          "No",
          "No",
          "No",
          "No",
          "No",
          "No",
          "No",
          "No",
          "No",
          "No",
          "No",
          "No",
          "No",
          "No",
          "No",
          "No",
          "No",
          "No",
          "No",
          "No",
          "No",
          "No",
          "No",
          "No",
          "No",
          "No",
          "No",
          "No",
          "No",
          "No",
          "No",
          "No",
          "No",
          "No",
          "No",
          "No",
          "No",
          "No",
          "No",
          "No",
          "No",
          "No",
          "No",
          "No",
          "No",
          "No",
          "No",
          "No",
          "No",
          "No",
          "No",
          "No",
          "No",
          "No",
          "No",
          "No",
          "No",
          "No",
          "No",
          "No",
          "No",
          "No",
          "No",
          "No",
          "No",
          "No",
          "No",
          "No",
          "No",
          "No",
          "No",
          "No",
          "No",
          "No",
          "No",
          "No",
          "No",
          "No",
          "No",
          "No",
          "No",
          "No",
          "No",
          "No",
          "No",
          "No",
          "No",
          "No",
          "No",
          "No",
          "No",
          "No",
          "No",
          "No",
          "No",
          "No",
          "No",
          "No",
          "No",
          "No",
          "No",
          "No",
          "No",
          "No",
          "No",
          "No",
          "No",
          "No",
          "No",
          "No",
          "No",
          "No",
          "No",
          "No",
          "No",
          "No",
          "No",
          "No",
          "No",
          "No",
          "No",
          "No",
          "No",
          "No",
          "No",
          "No",
          "No",
          "No",
          "No",
          "No",
          "No",
          "No",
          "No",
          "No",
          "No",
          "No",
          "No",
          "No",
          "No",
          "No",
          "No",
          "No",
          "No",
          "No",
          "No",
          "No",
          "No",
          "No",
          "No",
          "No",
          "No",
          "No",
          "No",
          "No",
          "No",
          "No",
          "No",
          "No",
          "No",
          "No",
          "No",
          "No",
          "No",
          "No",
          "No",
          "No",
          "No",
          "No",
          "No",
          "No",
          "No",
          "No",
          "No",
          "No",
          "No",
          "No",
          "No",
          "No",
          "No",
          "No",
          "No",
          "No",
          "No",
          "No",
          "No",
          "No",
          "No",
          "No",
          "No",
          "No",
          "No",
          "No",
          "No",
          "No",
          "No",
          "No",
          "No",
          "No",
          "No",
          "No",
          "No",
          "No",
          "No",
          "No",
          "No",
          "No",
          "No",
          "No",
          "No",
          "No",
          "No",
          "No",
          "No",
          "No",
          "No",
          "No",
          "No",
          "No",
          "No",
          "No",
          "No",
          "No",
          "No",
          "No",
          "No",
          "No",
          "No",
          "No",
          "No",
          "No",
          "No",
          "No",
          "No",
          "No",
          "No",
          "No",
          "No",
          "No",
          "No",
          "No",
          "No",
          "No",
          "No",
          "No",
          "No",
          "No",
          "No",
          "No",
          "No",
          "No",
          "No",
          "No",
          "No",
          "No",
          "No",
          "No",
          "No",
          "No",
          "No",
          "No",
          "No",
          "No",
          "No",
          "No",
          "No",
          "No",
          "No",
          "No",
          "No",
          "No",
          "No",
          "No",
          "No",
          "No",
          "No",
          "No",
          "No",
          "No",
          "No",
          "No",
          "No",
          "No",
          "No",
          "No",
          "No",
          "No",
          "No",
          "No",
          "No",
          "No",
          "No",
          "No",
          "No",
          "No",
          "No",
          "No",
          "No",
          "No",
          "No",
          "No",
          "No",
          "No",
          "No",
          "No",
          "No",
          "No",
          "No",
          "No",
          "No",
          "No",
          "No",
          "No",
          "No",
          "No",
          "No",
          "No",
          "No",
          "No",
          "No",
          "No",
          "No",
          "No",
          "No",
          "No",
          "No",
          "No",
          "No",
          "No",
          "No",
          "No",
          "No",
          "No",
          "No",
          "No",
          "No",
          "No",
          "No",
          "No",
          "No",
          "No",
          "No",
          "No",
          "No",
          "No",
          "No",
          "No",
          "No",
          "No",
          "No",
          "No",
          "No",
          "No",
          "No",
          "No",
          "No",
          "No",
          "No",
          "No",
          "No",
          "No",
          "No",
          "No",
          "No",
          "No",
          "No",
          "No",
          "No",
          "No",
          "No",
          "No",
          "No",
          "No",
          "No",
          "No",
          "No",
          "No",
          "No",
          "No",
          "No",
          "No",
          "No",
          "No",
          "No",
          "No",
          "No",
          "No",
          "No",
          "No",
          "No",
          "No",
          "No",
          "No",
          "No",
          "No",
          "No",
          "No",
          "No",
          "No",
          "No",
          "No",
          "No",
          "No",
          "No",
          "No",
          "No",
          "No",
          "No",
          "No",
          "No",
          "No",
          "No",
          "No",
          "No",
          "No",
          "No",
          "No",
          "No",
          "No",
          "No",
          "No",
          "No",
          "No",
          "No",
          "No",
          "No",
          "No",
          "No",
          "No",
          "No",
          "No",
          "No",
          "No",
          "No",
          "No",
          "No",
          "No",
          "No",
          "No",
          "No",
          "No",
          "No",
          "No",
          "No",
          "No",
          "No",
          "No",
          "No",
          "No",
          "No",
          "No",
          "No",
          "No",
          "No",
          "No",
          "No",
          "No",
          "No",
          "No",
          "No",
          "No",
          "No",
          "No",
          "No",
          "No",
          "No",
          "No",
          "No",
          "No",
          "No",
          "No",
          "No",
          "No",
          "No",
          "No",
          "No",
          "No",
          "No",
          "No",
          "No",
          "No",
          "No",
          "No",
          "No",
          "No",
          "No",
          "No",
          "No",
          "No",
          "No",
          "No",
          "No",
          "No",
          "No",
          "No",
          "No",
          "No",
          "No",
          "No",
          "No",
          "No",
          "No",
          "No",
          "No",
          "No",
          "No",
          "No",
          "No",
          "No",
          "No",
          "No",
          "No",
          "No",
          "No",
          "No",
          "No",
          "No",
          "No",
          "No",
          "No",
          "No",
          "No",
          "No",
          "No",
          "No",
          "No",
          "No",
          "No",
          "No",
          "No",
          "No",
          "No",
          "No",
          "No",
          "No",
          "No",
          "No",
          "No",
          "No",
          "No",
          "No",
          "No",
          "No",
          "No",
          "No",
          "No",
          "No",
          "No",
          "No",
          "No",
          "No",
          "No",
          "No",
          "No",
          "No",
          "No",
          "No",
          "No",
          "No",
          "No",
          "No",
          "No",
          "No",
          "No",
          "No",
          "No",
          "No",
          "No",
          "No",
          "No",
          "No",
          "No",
          "No",
          "No",
          "No",
          "No",
          "No",
          "No",
          "No",
          "No",
          "No",
          "No",
          "No",
          "No",
          "No",
          "No",
          "No",
          "No",
          "No",
          "No",
          "No",
          "No",
          "No",
          "No",
          "No",
          "No",
          "No",
          "No",
          "No",
          "No",
          "No",
          "No",
          "No",
          "No",
          "No",
          "No",
          "No",
          "No",
          "No",
          "No",
          "No",
          "No",
          "No",
          "No",
          "No",
          "No",
          "No",
          "No",
          "No",
          "No",
          "No",
          "No",
          "No",
          "No",
          "No",
          "No",
          "No",
          "No",
          "No",
          "No",
          "No",
          "No",
          "No",
          "No",
          "No",
          "No",
          "No",
          "No",
          "No",
          "No",
          "No",
          "No",
          "No",
          "No",
          "No",
          "No",
          "No",
          "No",
          "No",
          "No",
          "No",
          "No",
          "No",
          "No",
          "No",
          "No",
          "No",
          "No",
          "No",
          "No",
          "No",
          "No",
          "No",
          "No",
          "No",
          "No",
          "No",
          "No",
          "No",
          "No",
          "No",
          "No",
          "No",
          "No",
          "No",
          "No",
          "No",
          "No",
          "No",
          "No",
          "No",
          "No",
          "No",
          "No",
          "No",
          "No",
          "No",
          "No",
          "No",
          "No",
          "No",
          "No",
          "No",
          "No",
          "No",
          "No",
          "No",
          "No",
          "No",
          "No",
          "No",
          "No",
          "No",
          "No",
          "No",
          "No",
          "No",
          "No",
          "No",
          "No",
          "No",
          "No",
          "No",
          "No",
          "No",
          "No",
          "No",
          "No",
          "No",
          "No",
          "No",
          "No",
          "No",
          "No",
          "No",
          "No",
          "No",
          "No",
          "No",
          "No",
          "No",
          "No",
          "No",
          "No",
          "No",
          "No",
          "No",
          "No",
          "No",
          "No",
          "No",
          "No",
          "No",
          "No",
          "No",
          "No",
          "No",
          "No",
          "No",
          "No",
          "No",
          "No",
          "No",
          "No",
          "No",
          "No",
          "No",
          "No",
          "No",
          "No",
          "No",
          "No",
          "No",
          "No",
          "No",
          "No",
          "No",
          "No",
          "No",
          "No",
          "No",
          "No",
          "No",
          "No",
          "No",
          "No",
          "No",
          "No",
          "No",
          "No",
          "No",
          "No",
          "No",
          "No",
          "No",
          "No",
          "No",
          "No",
          "No",
          "No",
          "No",
          "No",
          "No",
          "No",
          "No",
          "No",
          "No",
          "No",
          "No",
          "No",
          "No",
          "No",
          "No",
          "No",
          "No",
          "No",
          "No",
          "No",
          "No",
          "No",
          "No",
          "No",
          "No",
          "No",
          "No",
          "No",
          "No",
          "No",
          "No",
          "No",
          "No",
          "No",
          "No",
          "No",
          "No",
          "No",
          "No",
          "No",
          "No",
          "No",
          "No",
          "No",
          "No",
          "No",
          "No",
          "No",
          "No",
          "No",
          "No",
          "No",
          "No",
          "No",
          "No",
          "No",
          "No",
          "No",
          "No",
          "No",
          "No",
          "No",
          "No",
          "No",
          "No",
          "No",
          "No",
          "No",
          "No",
          "No",
          "No",
          "No",
          "No",
          "No",
          "No",
          "No",
          "No",
          "No",
          "No",
          "No",
          "No",
          "No",
          "No",
          "No",
          "No",
          "No",
          "No",
          "No",
          "No",
          "No",
          "No",
          "No",
          "No",
          "No",
          "No",
          "No",
          "No",
          "No",
          "No",
          "No",
          "No",
          "No",
          "No",
          "No",
          "No",
          "No",
          "No",
          "No",
          "No",
          "No",
          "No",
          "No",
          "No",
          "No",
          "No",
          "No",
          "No",
          "No",
          "No",
          "No",
          "No",
          "No",
          "No",
          "No",
          "No",
          "No",
          "No",
          "No",
          "No",
          "No",
          "No",
          "No",
          "No",
          "No",
          "No",
          "No",
          "No",
          "No",
          "No",
          "No",
          "No",
          "No",
          "No",
          "No",
          "No",
          "No",
          "No",
          "No",
          "No",
          "No",
          "No",
          "No",
          "No",
          "No",
          "No",
          "No",
          "No",
          "No",
          "No",
          "No",
          "No",
          "No",
          "No",
          "No",
          "No",
          "No",
          "No",
          "No",
          "No",
          "No",
          "No",
          "No",
          "No",
          "No",
          "No",
          "No",
          "No",
          "No",
          "No",
          "No",
          "No",
          "No",
          "No",
          "No",
          "No",
          "No",
          "No",
          "No",
          "No",
          "No",
          "No",
          "No",
          "No",
          "No",
          "No",
          "No",
          "No",
          "No",
          "No",
          "No",
          "No",
          "No",
          "No",
          "No",
          "No",
          "No",
          "No",
          "No",
          "No",
          "No",
          "No",
          "No",
          "No",
          "No",
          "No",
          "No",
          "No",
          "No",
          "No",
          "No",
          "No",
          "No",
          "No",
          "No",
          "No",
          "No",
          "No",
          "No",
          "No",
          "No",
          "No",
          "No",
          "No",
          "No",
          "No",
          "No",
          "No",
          "No",
          "No",
          "No",
          "No",
          "No",
          "No",
          "No",
          "No",
          "No",
          "No",
          "No",
          "No",
          "No",
          "No",
          "No",
          "No",
          "No",
          "No",
          "No",
          "No",
          "No",
          "No",
          "No",
          "No",
          "No",
          "No",
          "No",
          "No",
          "No",
          "No",
          "No",
          "No",
          "No",
          "No",
          "No",
          "No",
          "No",
          "No",
          "No",
          "No",
          "No",
          "No",
          "No",
          "No",
          "No",
          "No",
          "No",
          "No",
          "No",
          "No",
          "No",
          "No",
          "No",
          "No",
          "No",
          "No",
          "No",
          "No",
          "No",
          "No",
          "No",
          "No",
          "No",
          "No",
          "No",
          "No",
          "No",
          "No",
          "No",
          "No",
          "No",
          "No",
          "No",
          "No",
          "No",
          "No",
          "No",
          "No",
          "No",
          "No",
          "No",
          "No",
          "No",
          "No",
          "No",
          "No",
          "No",
          "No",
          "No",
          "No",
          "No",
          "No",
          "No",
          "No",
          "No",
          "No",
          "No",
          "No",
          "No",
          "No",
          "No",
          "No",
          "No",
          "No",
          "No",
          "No",
          "No",
          "No",
          "No",
          "No",
          "No",
          "No",
          "No",
          "No",
          "No",
          "No",
          "No",
          "No",
          "No",
          "No",
          "No",
          "No",
          "No",
          "No",
          "No",
          "No",
          "No",
          "No",
          "No",
          "No",
          "No",
          "No",
          "No",
          "No",
          "No",
          "No",
          "No",
          "No",
          "No",
          "No",
          "No",
          "No",
          "No",
          "No",
          "No",
          "No",
          "No",
          "No",
          "No",
          "No",
          "No",
          "No",
          "No",
          "No",
          "No",
          "No",
          "No",
          "No",
          "No",
          "No",
          "No",
          "No",
          "No",
          "No",
          "No",
          "No",
          "No",
          "No",
          "No",
          "No",
          "No",
          "No",
          "No",
          "No",
          "No",
          "No",
          "No",
          "No",
          "No",
          "No",
          "No",
          "No",
          "No",
          "No",
          "No",
          "No",
          "No",
          "No",
          "No",
          "No",
          "No",
          "No",
          "No",
          "No",
          "No",
          "No",
          "No",
          "No",
          "No",
          "No",
          "No",
          "No",
          "No",
          "No",
          "No",
          "No",
          "No",
          "No",
          "No",
          "No",
          "No",
          "No",
          "No",
          "No",
          "No",
          "No",
          "No",
          "No",
          "No",
          "No",
          "No",
          "No",
          "No",
          "No",
          "No",
          "No",
          "No",
          "No",
          "No",
          "No",
          "No",
          "No",
          "No",
          "No",
          "No",
          "No",
          "No",
          "No",
          "No",
          "No",
          "No",
          "No",
          "No",
          "No",
          "No",
          "No",
          "No",
          "No",
          "No",
          "No",
          "No",
          "No",
          "No",
          "No",
          "No",
          "No",
          "No",
          "No",
          "No",
          "No",
          "No",
          "No",
          "No",
          "No",
          "No",
          "No",
          "No",
          "No",
          "No",
          "No",
          "No",
          "No",
          "No",
          "No",
          "No",
          "No",
          "No",
          "No",
          "No",
          "No",
          "No",
          "No",
          "No",
          "No",
          "No",
          "No",
          "No",
          "No",
          "No",
          "No",
          "No",
          "No",
          "No",
          "No",
          "No",
          "No",
          "No",
          "No",
          "No",
          "No",
          "No",
          "No",
          "No",
          "No",
          "No",
          "No",
          "No",
          "No",
          "No",
          "No",
          "No",
          "No",
          "No",
          "No",
          "No",
          "No",
          "No",
          "No",
          "No",
          "No",
          "No",
          "No",
          "No",
          "No",
          "No",
          "No",
          "No",
          "No",
          "No",
          "No",
          "No",
          "No",
          "No",
          "No",
          "No",
          "No",
          "No",
          "No",
          "No",
          "No",
          "No",
          "No",
          "No",
          "No",
          "No",
          "No",
          "No",
          "No",
          "No",
          "No",
          "No",
          "No",
          "No",
          "No",
          "No",
          "No",
          "No",
          "No",
          "No",
          "No",
          "No",
          "No",
          "No",
          "No",
          "No",
          "No",
          "No",
          "No",
          "No",
          "No",
          "No",
          "No",
          "No",
          "No",
          "No",
          "No",
          "No",
          "No",
          "No",
          "No",
          "No",
          "No",
          "No",
          "No",
          "No",
          "No",
          "No",
          "No",
          "No",
          "No",
          "No",
          "No",
          "No",
          "No",
          "No",
          "No",
          "No",
          "No",
          "No",
          "No",
          "No",
          "No",
          "No",
          "No",
          "No",
          "No",
          "No",
          "No",
          "No",
          "No",
          "No",
          "No",
          "No",
          "No",
          "No",
          "No",
          "No",
          "No",
          "No",
          "No",
          "No",
          "No",
          "No",
          "No",
          "No",
          "No",
          "No",
          "No",
          "No",
          "No",
          "No",
          "No",
          "No",
          "No",
          "No",
          "No",
          "No",
          "No",
          "No",
          "No",
          "No",
          "No",
          "No",
          "No",
          "No",
          "No",
          "No",
          "No",
          "No",
          "No",
          "No",
          "No",
          "No",
          "No",
          "No",
          "No",
          "No",
          "No",
          "No",
          "No",
          "No",
          "No",
          "No",
          "No",
          "No",
          "No",
          "No",
          "No",
          "No",
          "No",
          "No",
          "No",
          "No",
          "No",
          "No",
          "No",
          "No",
          "No",
          "No",
          "No",
          "No",
          "No",
          "No",
          "No",
          "No",
          "No",
          "No",
          "No",
          "No",
          "No",
          "No",
          "No",
          "No",
          "No",
          "No",
          "No",
          "No",
          "No",
          "No",
          "No",
          "No",
          "No",
          "No",
          "No",
          "No",
          "No",
          "No",
          "No",
          "No",
          "No",
          "No",
          "No",
          "No",
          "No",
          "No",
          "No",
          "No",
          "No",
          "No",
          "No",
          "No",
          "No",
          "No",
          "No",
          "No",
          "No",
          "No",
          "No",
          "No",
          "No",
          "No",
          "No",
          "No",
          "No",
          "No",
          "No",
          "No",
          "No",
          "No",
          "No",
          "No",
          "No",
          "No",
          "No",
          "No",
          "No",
          "No",
          "No",
          "No",
          "No",
          "No",
          "No",
          "No",
          "No",
          "No",
          "No",
          "No",
          "No",
          "No",
          "No",
          "No",
          "No",
          "No",
          "No",
          "No",
          "No",
          "No",
          "No",
          "No",
          "No",
          "No",
          "No",
          "No",
          "No",
          "No",
          "No",
          "No",
          "No",
          "No",
          "No",
          "No",
          "No",
          "No",
          "No",
          "No",
          "No",
          "No",
          "No",
          "No",
          "No",
          "No",
          "No",
          "No",
          "No",
          "No",
          "No",
          "No",
          "No",
          "No",
          "No",
          "No",
          "No",
          "No",
          "No",
          "No",
          "No",
          "No",
          "No",
          "No",
          "No",
          "No",
          "No",
          "No",
          "No",
          "No",
          "No",
          "No",
          "No",
          "No",
          "No",
          "No",
          "No",
          "No",
          "No",
          "No",
          "No",
          "No",
          "No",
          "No",
          "No",
          "No",
          "No",
          "No",
          "No",
          "No",
          "No",
          "No",
          "No",
          "No",
          "No",
          "No",
          "No",
          "No",
          "No",
          "No",
          "No",
          "No",
          "No",
          "No",
          "No",
          "No",
          "No",
          "No",
          "No",
          "No",
          "No",
          "No",
          "No",
          "No",
          "No",
          "No",
          "No",
          "No",
          "No",
          "No",
          "No",
          "No",
          "No",
          "No",
          "No",
          "No",
          "No",
          "No",
          "No",
          "No",
          "No",
          "No",
          "No",
          "No",
          "No",
          "No",
          "No",
          "No",
          "No",
          "No",
          "No",
          "No",
          "No",
          "No",
          "No",
          "No",
          "No",
          "No",
          "No",
          "No",
          "No",
          "No",
          "No",
          "No",
          "No",
          "No",
          "No",
          "No",
          "No",
          "No",
          "No",
          "No",
          "No",
          "No",
          "No",
          "No",
          "No",
          "No",
          "No",
          "No",
          "No",
          "No",
          "No",
          "No",
          "No",
          "No",
          "No",
          "No",
          "No",
          "No",
          "No",
          "No",
          "No",
          "No",
          "No",
          "No",
          "No",
          "No",
          "No",
          "No",
          "No",
          "No",
          "No",
          "No",
          "No",
          "No",
          "No",
          "No",
          "No",
          "No",
          "No",
          "No",
          "No",
          "No",
          "No",
          "No",
          "No",
          "No",
          "No",
          "No",
          "No",
          "No",
          "No",
          "No",
          "No",
          "No",
          "No",
          "No",
          "No",
          "No",
          "No",
          "No",
          "No",
          "No",
          "No",
          "No",
          "No",
          "No",
          "No",
          "No",
          "No",
          "No",
          "No",
          "No",
          "No",
          "No",
          "No",
          "No",
          "No",
          "No",
          "No",
          "No",
          "No",
          "No",
          "No",
          "No",
          "No",
          "No",
          "No",
          "No",
          "No",
          "No",
          "No",
          "No",
          "No",
          "No",
          "No",
          "No",
          "No",
          "No",
          "No",
          "No",
          "No",
          "No",
          "No",
          "No",
          "No",
          "No",
          "No",
          "No",
          "No",
          "No",
          "No",
          "No",
          "No",
          "No",
          "No",
          "No",
          "No",
          "No",
          "No",
          "No",
          "No",
          "No",
          "No",
          "No",
          "No",
          "No",
          "No",
          "No",
          "No",
          "No",
          "No",
          "No",
          "No",
          "No",
          "No",
          "No",
          "No",
          "No",
          "No",
          "No",
          "No",
          "No",
          "No",
          "No",
          "No",
          "No",
          "No",
          "No",
          "No",
          "No",
          "No",
          "No",
          "No",
          "No",
          "No",
          "No",
          "No",
          "No",
          "No",
          "No",
          "No",
          "No",
          "No",
          "No",
          "No",
          "No",
          "No",
          "No",
          "No",
          "No",
          "No",
          "No",
          "No",
          "No",
          "No",
          "No",
          "No",
          "No",
          "No",
          "No",
          "No",
          "No",
          "No",
          "No",
          "No",
          "No",
          "No",
          "No",
          "No",
          "No",
          "No",
          "No",
          "No",
          "No",
          "No",
          "No",
          "No",
          "No",
          "No",
          "No",
          "No",
          "No",
          "No",
          "No",
          "No",
          "No",
          "No",
          "No",
          "No",
          "No",
          "No",
          "No",
          "No",
          "No",
          "No",
          "No",
          "No",
          "No",
          "No",
          "No",
          "No",
          "No",
          "No",
          "No",
          "No",
          "No",
          "No",
          "No",
          "No",
          "No",
          "No",
          "No",
          "No",
          "No",
          "No",
          "No",
          "No",
          "No",
          "No",
          "No",
          "No",
          "No",
          "No",
          "No",
          "No",
          "No",
          "No",
          "No",
          "No",
          "No",
          "No",
          "No",
          "No",
          "No",
          "No",
          "No",
          "No",
          "No",
          "No",
          "No",
          "No",
          "No",
          "No",
          "No",
          "No",
          "No",
          "No",
          "No",
          "No",
          "No",
          "No",
          "No",
          "No",
          "No",
          "No",
          "No",
          "No",
          "No",
          "No",
          "No",
          "No",
          "No",
          "No",
          "No",
          "No",
          "No",
          "No",
          "No",
          "No",
          "No",
          "No",
          "No",
          "No",
          "No",
          "No",
          "No",
          "No",
          "No",
          "No",
          "No",
          "No",
          "No",
          "No",
          "No",
          "No",
          "No",
          "No",
          "No",
          "No",
          "No",
          "No",
          "No",
          "No",
          "No",
          "No",
          "No",
          "No",
          "No",
          "No",
          "No",
          "No",
          "No",
          "No",
          "No",
          "No",
          "No",
          "No",
          "No",
          "No",
          "No",
          "No",
          "No",
          "No",
          "No",
          "No",
          "No",
          "No",
          "No",
          "No",
          "No",
          "No",
          "No",
          "No",
          "No",
          "No",
          "No",
          "No",
          "No",
          "No",
          "No",
          "No",
          "No",
          "No",
          "No",
          "No",
          "No",
          "No",
          "No",
          "No",
          "No",
          "No",
          "No",
          "No",
          "No",
          "No",
          "No",
          "No",
          "No",
          "No",
          "No",
          "No",
          "No",
          "No",
          "No",
          "No",
          "No",
          "No",
          "No",
          "No",
          "No",
          "No",
          "No",
          "No",
          "No",
          "No",
          "No",
          "No",
          "No",
          "No",
          "No",
          "No",
          "No",
          "No",
          "No",
          "No",
          "No",
          "No",
          "No",
          "No",
          "No",
          "No",
          "No",
          "No",
          "No",
          "No",
          "No",
          "No",
          "No",
          "No",
          "No",
          "No",
          "No",
          "No",
          "No",
          "No",
          "No",
          "No",
          "No",
          "No",
          "No",
          "No",
          "No",
          "No",
          "No",
          "No",
          "No",
          "No",
          "No",
          "No",
          "No",
          "No",
          "No",
          "No",
          "No",
          "No",
          "No",
          "No",
          "No",
          "No",
          "No",
          "No",
          "No",
          "No",
          "No",
          "No",
          "No",
          "No",
          "No",
          "No",
          "No",
          "No",
          "No",
          "No",
          "No",
          "No",
          "No",
          "No",
          "No",
          "No",
          "No",
          "No",
          "No",
          "No",
          "No",
          "No",
          "No",
          "No",
          "No",
          "No",
          "No",
          "No",
          "No",
          "No",
          "No",
          "No",
          "No",
          "No",
          "No",
          "No",
          "No",
          "No",
          "No",
          "No",
          "No",
          "No",
          "No",
          "No",
          "No",
          "No",
          "No",
          "No",
          "No",
          "No",
          "No",
          "No",
          "No",
          "No",
          "No",
          "No",
          "No",
          "No",
          "No",
          "No",
          "No",
          "No",
          "No",
          "No",
          "No",
          "No",
          "No",
          "No",
          "No",
          "No",
          "No",
          "No",
          "No",
          "No",
          "No",
          "No",
          "No",
          "No",
          "No",
          "No",
          "No",
          "No",
          "No",
          "No",
          "No",
          "No",
          "No",
          "No",
          "No",
          "No",
          "No",
          "No",
          "No",
          "No",
          "No",
          "No",
          "No",
          "No",
          "No",
          "No",
          "No",
          "No",
          "No",
          "No",
          "No",
          "No",
          "No",
          "No",
          "No",
          "No",
          "No",
          "No",
          "No",
          "No",
          "No",
          "No",
          "No",
          "No",
          "No",
          "No",
          "No",
          "No",
          "No",
          "No",
          "No",
          "No",
          "No",
          "No",
          "No",
          "No",
          "No",
          "No",
          "No",
          "No",
          "No",
          "No",
          "No",
          "No",
          "No",
          "No",
          "No",
          "No",
          "No",
          "No",
          "No",
          "No",
          "No",
          "No",
          "No",
          "No",
          "No",
          "No",
          "No",
          "No",
          "No",
          "No",
          "No",
          "No",
          "No",
          "No",
          "No",
          "No",
          "No",
          "No",
          "No",
          "No",
          "No",
          "No",
          "No",
          "No",
          "No",
          "No",
          "No",
          "No",
          "No",
          "No",
          "No",
          "No",
          "No",
          "No",
          "No",
          "No",
          "No",
          "No",
          "No",
          "No",
          "No",
          "No",
          "No",
          "No",
          "No",
          "No",
          "No",
          "No",
          "No",
          "No",
          "No",
          "No",
          "No",
          "No",
          "No",
          "No",
          "No",
          "No",
          "No",
          "No",
          "No",
          "No",
          "No",
          "No",
          "No",
          "No",
          "No",
          "No",
          "No",
          "No",
          "No",
          "No",
          "No",
          "No",
          "No",
          "No",
          "No",
          "No",
          "No",
          "No",
          "No",
          "No",
          "No",
          "No",
          "No",
          "No",
          "No",
          "No",
          "No",
          "No",
          "No",
          "No",
          "No",
          "No",
          "No",
          "No",
          "No",
          "No",
          "No",
          "No",
          "No",
          "No",
          "No",
          "No",
          "No",
          "No",
          "No",
          "No",
          "No",
          "No",
          "No",
          "No",
          "No",
          "No",
          "No",
          "No",
          "No",
          "No",
          "No",
          "No",
          "No",
          "No",
          "No",
          "No",
          "No",
          "No",
          "No",
          "No",
          "No",
          "No",
          "No",
          "No",
          "No",
          "No",
          "No",
          "No",
          "No",
          "No",
          "No",
          "No",
          "No",
          "No",
          "No",
          "No",
          "No",
          "No",
          "No",
          "No",
          "No",
          "No",
          "No",
          "No",
          "No",
          "No",
          "No",
          "No",
          "No",
          "No",
          "No",
          "No",
          "No",
          "No",
          "No",
          "No",
          "No",
          "No",
          "No",
          "No",
          "No",
          "No",
          "No",
          "No",
          "No",
          "No",
          "No",
          "No",
          "No",
          "No",
          "No",
          "No",
          "No",
          "No",
          "No",
          "No",
          "No",
          "No",
          "No",
          "No",
          "No",
          "No",
          "No",
          "No",
          "No",
          "No",
          "No",
          "No",
          "No",
          "No",
          "No",
          "No",
          "No",
          "No",
          "No",
          "No",
          "No",
          "No",
          "No",
          "No",
          "No",
          "No",
          "No",
          "No",
          "No",
          "No",
          "No",
          "No",
          "No",
          "No",
          "No",
          "No",
          "No",
          "No",
          "No",
          "No",
          "No",
          "No",
          "No",
          "No",
          "No",
          "No",
          "No",
          "No",
          "No",
          "No",
          "No",
          "No",
          "No",
          "No",
          "No",
          "No",
          "No",
          "No",
          "No",
          "No",
          "No",
          "No",
          "No",
          "No",
          "No",
          "No",
          "No",
          "No",
          "No",
          "No",
          "No",
          "No",
          "No",
          "No",
          "No",
          "No",
          "No",
          "No",
          "No",
          "No",
          "No",
          "No",
          "No",
          "No",
          "No",
          "No",
          "No",
          "No",
          "No",
          "No",
          "No",
          "No",
          "No",
          "No",
          "No",
          "No",
          "No",
          "No",
          "No",
          "No",
          "No",
          "No",
          "No",
          "No",
          "No",
          "No",
          "No",
          "No",
          "No",
          "No",
          "No",
          "No",
          "No",
          "No",
          "No",
          "No",
          "No",
          "No",
          "No",
          "No",
          "No",
          "No",
          "No",
          "No",
          "No",
          "No",
          "No",
          "No",
          "No",
          "No",
          "No",
          "No",
          "No",
          "No",
          "No",
          "No",
          "No",
          "No",
          "No",
          "No",
          "No",
          "No",
          "No",
          "No",
          "No",
          "No",
          "No",
          "No",
          "No",
          "No",
          "No",
          "No",
          "No",
          "No",
          "No",
          "No",
          "No",
          "No",
          "No",
          "No",
          "No",
          "No",
          "No",
          "No",
          "No",
          "No",
          "No",
          "No",
          "No",
          "No",
          "No",
          "No",
          "No",
          "No",
          "No",
          "No",
          "No",
          "No",
          "No",
          "No",
          "No",
          "No",
          "No",
          "No",
          "No",
          "No",
          "No",
          "No",
          "No",
          "No",
          "No",
          "No",
          "No",
          "No",
          "No",
          "No",
          "No",
          "No",
          "No",
          "No",
          "No",
          "No",
          "No",
          "No",
          "No",
          "No",
          "No",
          "No",
          "No",
          "No",
          "No",
          "No",
          "No",
          "No",
          "No",
          "No",
          "No",
          "No",
          "No",
          "No",
          "No",
          "No",
          "No",
          "No",
          "No",
          "No",
          "No",
          "No",
          "No",
          "No",
          "No",
          "No",
          "No",
          "No",
          "No",
          "No",
          "No",
          "No",
          "No",
          "No",
          "No",
          "No",
          "No",
          "No",
          "No",
          "No",
          "No",
          "No",
          "No",
          "No",
          "No",
          "No",
          "No",
          "No",
          "No",
          "No",
          "No",
          "No",
          "No",
          "No",
          "No",
          "No",
          "No",
          "No",
          "No",
          "No",
          "No",
          "No",
          "No",
          "No",
          "No",
          "No",
          "No",
          "No",
          "No",
          "No",
          "No",
          "No",
          "No",
          "No",
          "No",
          "No",
          "No",
          "No",
          "No",
          "No",
          "No",
          "No",
          "No",
          "No",
          "No",
          "No",
          "No",
          "No",
          "No",
          "No",
          "No",
          "No",
          "No",
          "No",
          "No",
          "No",
          "No",
          "No",
          "No",
          "No",
          "No",
          "No",
          "No",
          "No",
          "No",
          "No",
          "No",
          "No",
          "No",
          "No",
          "No",
          "No",
          "No",
          "No",
          "No",
          "No",
          "No",
          "No",
          "No",
          "No",
          "No",
          "No",
          "No",
          "No",
          "No",
          "No",
          "No",
          "No",
          "No",
          "No",
          "No",
          "No",
          "No",
          "No",
          "No",
          "No",
          "No",
          "No",
          "No",
          "No",
          "No",
          "No",
          "No",
          "No",
          "No",
          "No",
          "No",
          "No",
          "No",
          "No",
          "No",
          "No",
          "No",
          "No",
          "No",
          "No",
          "No",
          "No",
          "No",
          "No",
          "No",
          "No",
          "No",
          "No",
          "No",
          "No",
          "No",
          "No",
          "No",
          "No",
          "No",
          "No",
          "No",
          "No",
          "No",
          "No",
          "No",
          "No",
          "No",
          "No",
          "No",
          "No",
          "No",
          "No",
          "No",
          "No",
          "No",
          "No",
          "No",
          "No",
          "No",
          "No",
          "No",
          "No",
          "No",
          "No",
          "No",
          "No",
          "No",
          "No",
          "No",
          "No",
          "No",
          "No",
          "No",
          "No",
          "No",
          "No",
          "No",
          "No",
          "No",
          "No",
          "No",
          "No",
          "No",
          "No",
          "No",
          "No",
          "No",
          "No",
          "No",
          "No",
          "No",
          "No",
          "No",
          "No",
          "No",
          "No",
          "No",
          "No",
          "No",
          "No",
          "No",
          "No",
          "No",
          "No",
          "No",
          "No",
          "No",
          "No",
          "No",
          "No",
          "No",
          "No",
          "No",
          "No",
          "No",
          "No",
          "No",
          "No",
          "No",
          "No",
          "No",
          "No",
          "No",
          "No",
          "No",
          "No",
          "No",
          "No",
          "No",
          "No",
          "No",
          "No",
          "No",
          "No",
          "No",
          "No",
          "No",
          "No",
          "No",
          "No",
          "No",
          "No",
          "No",
          "No",
          "No",
          "No",
          "No",
          "No",
          "No",
          "No",
          "No",
          "No",
          "No",
          "No",
          "No",
          "No",
          "No",
          "No",
          "No",
          "No",
          "No",
          "No",
          "No",
          "No",
          "No",
          "No",
          "No",
          "No",
          "No",
          "No",
          "No",
          "No",
          "No",
          "No",
          "No",
          "No",
          "No",
          "No",
          "No",
          "No",
          "No",
          "No",
          "No",
          "No",
          "No",
          "No",
          "No",
          "No",
          "No",
          "No",
          "No",
          "No",
          "No",
          "No",
          "No",
          "No",
          "No",
          "No",
          "No",
          "No",
          "No",
          "No",
          "No",
          "No",
          "No",
          "No",
          "No",
          "No",
          "No",
          "No",
          "No",
          "No",
          "No",
          "No",
          "No",
          "No",
          "No",
          "No",
          "No",
          "No",
          "No",
          "No",
          "No",
          "No",
          "No",
          "No",
          "No",
          "No",
          "No",
          "No",
          "No",
          "No",
          "No",
          "No",
          "No",
          "No",
          "No",
          "No",
          "No",
          "No",
          "No",
          "No",
          "No",
          "No",
          "No",
          "No",
          "No",
          "No",
          "No",
          "No",
          "No",
          "No",
          "No",
          "No",
          "No",
          "No",
          "No",
          "No",
          "No",
          "No",
          "No",
          "No",
          "No",
          "No",
          "No",
          "No",
          "No",
          "No",
          "No",
          "No",
          "No",
          "No",
          "No",
          "No",
          "No",
          "No",
          "No",
          "No",
          "No",
          "No",
          "No",
          "No",
          "No",
          "No",
          "No",
          "No",
          "No",
          "No",
          "No",
          "No",
          "No",
          "No",
          "No",
          "No",
          "No",
          "No",
          "No",
          "No",
          "No",
          "No",
          "No",
          "No",
          "No",
          "No",
          "No",
          "No",
          "No",
          "No",
          "No",
          "No",
          "No",
          "No",
          "No",
          "No",
          "No",
          "No",
          "No",
          "No",
          "No",
          "No",
          "No",
          "No",
          "No",
          "No",
          "No",
          "No",
          "No",
          "No",
          "No",
          "No",
          "No",
          "No",
          "No",
          "No",
          "No",
          "No",
          "No",
          "No",
          "No",
          "No",
          "No",
          "No",
          "No",
          "No",
          "No",
          "No",
          "No",
          "No",
          "No",
          "No",
          "No",
          "No",
          "No",
          "No",
          "No",
          "No",
          "No",
          "No",
          "No",
          "No",
          "No",
          "No",
          "No",
          "No",
          "No",
          "No",
          "No",
          "No",
          "No",
          "No",
          "No",
          "No",
          "No",
          "No",
          "No",
          "No",
          "No",
          "No",
          "No",
          "No",
          "No",
          "No",
          "No",
          "No",
          "No",
          "No",
          "No",
          "No",
          "No",
          "No",
          "No",
          "No",
          "No",
          "No",
          "No",
          "No",
          "No",
          "No",
          "No",
          "No",
          "No",
          "No",
          "No",
          "No",
          "No",
          "No",
          "No",
          "No",
          "No",
          "No",
          "No",
          "No",
          "No",
          "No",
          "No",
          "No",
          "No",
          "No",
          "No",
          "No",
          "No",
          "No",
          "No",
          "No",
          "No",
          "No",
          "No",
          "No",
          "No",
          "No",
          "No",
          "No",
          "No",
          "No",
          "No",
          "No",
          "No",
          "No",
          "No",
          "No",
          "No",
          "No",
          "No",
          "No",
          "No",
          "No",
          "No",
          "No",
          "No",
          "No",
          "No",
          "No",
          "No",
          "No",
          "No",
          "No",
          "No",
          "No",
          "No",
          "No",
          "No",
          "No",
          "No",
          "No",
          "No",
          "No",
          "No",
          "No",
          "No",
          "No",
          "No",
          "No",
          "No",
          "No",
          "No",
          "No",
          "No",
          "No",
          "No",
          "No",
          "No",
          "No",
          "No",
          "No",
          "No",
          "No",
          "No",
          "No",
          "No",
          "No",
          "No",
          "No",
          "No",
          "No",
          "No",
          "No",
          "No",
          "No",
          "No",
          "No",
          "No",
          "No",
          "No",
          "No",
          "No",
          "No",
          "No",
          "No",
          "No",
          "No",
          "No",
          "No",
          "No",
          "No",
          "No",
          "No",
          "No",
          "No",
          "No",
          "No",
          "No",
          "No",
          "No",
          "No",
          "No",
          "No",
          "No",
          "No",
          "No",
          "No",
          "No",
          "No",
          "No",
          "No",
          "No",
          "No",
          "No",
          "No",
          "No",
          "No",
          "No",
          "No",
          "No",
          "No",
          "No",
          "No",
          "No",
          "No",
          "No",
          "No",
          "No",
          "No",
          "No",
          "No",
          "No",
          "No",
          "No",
          "No",
          "No",
          "No",
          "No",
          "No",
          "No",
          "No",
          "No",
          "No",
          "No",
          "No",
          "No",
          "No",
          "No",
          "No",
          "No",
          "No",
          "No",
          "No",
          "No",
          "No",
          "No",
          "No",
          "No",
          "No",
          "No",
          "No",
          "No",
          "No",
          "No",
          "No",
          "No",
          "No",
          "No",
          "No",
          "No",
          "No",
          "No",
          "No",
          "No",
          "No",
          "No",
          "No",
          "No",
          "No",
          "No",
          "No",
          "No",
          "No",
          "No",
          "No",
          "No",
          "No",
          "No",
          "No",
          "No",
          "No",
          "No",
          "No",
          "No",
          "No",
          "No",
          "No",
          "No",
          "No",
          "No",
          "No",
          "No",
          "No",
          "No",
          "No",
          "No",
          "No",
          "No",
          "No",
          "No",
          "No",
          "No",
          "No",
          "No",
          "No",
          "No",
          "No",
          "No",
          "No",
          "No",
          "No",
          "No",
          "No",
          "No",
          "No",
          "No",
          "No",
          "No",
          "No",
          "No",
          "No",
          "No",
          "No",
          "No",
          "No",
          "No",
          "No",
          "No",
          "No",
          "No",
          "No",
          "No",
          "No",
          "No",
          "No",
          "No",
          "No",
          "No",
          "No",
          "No",
          "No",
          "No",
          "No",
          "No",
          "No",
          "No",
          "No",
          "No",
          "No",
          "No",
          "No",
          "No",
          "No",
          "No",
          "No",
          "No",
          "No",
          "No",
          "No",
          "No",
          "No",
          "No",
          "No",
          "No",
          "No",
          "No",
          "No",
          "No",
          "No",
          "No",
          "No",
          "No",
          "No",
          "No",
          "No",
          "No",
          "No",
          "No",
          "No",
          "No",
          "No",
          "No",
          "No",
          "No",
          "No",
          "No",
          "No",
          "No",
          "No",
          "No",
          "No",
          "No",
          "No",
          "No",
          "No",
          "No",
          "No",
          "No",
          "No",
          "No",
          "No",
          "No",
          "No",
          "No",
          "No",
          "No",
          "No",
          "No",
          "No",
          "No",
          "No",
          "No",
          "No",
          "No",
          "No",
          "No",
          "No",
          "No",
          "No",
          "No",
          "No",
          "No",
          "No",
          "No",
          "No",
          "No",
          "No",
          "No",
          "No",
          "No",
          "No",
          "No",
          "No",
          "No",
          "No",
          "No",
          "No",
          "No",
          "No",
          "No",
          "No",
          "No",
          "No",
          "No",
          "No",
          "No",
          "No",
          "No",
          "No",
          "No",
          "No",
          "No",
          "No",
          "No",
          "No",
          "No",
          "No",
          "No",
          "No",
          "No",
          "No",
          "No",
          "No",
          "No",
          "No",
          "No",
          "No",
          "No",
          "No",
          "No",
          "No",
          "No",
          "No",
          "No",
          "No",
          "No",
          "No",
          "No",
          "No",
          "No",
          "No",
          "No",
          "No",
          "No",
          "No",
          "No",
          "No",
          "No",
          "No",
          "No",
          "No",
          "No",
          "No",
          "No",
          "No",
          "No",
          "No",
          "No",
          "No",
          "No",
          "No",
          "No",
          "No",
          "No",
          "No",
          "No",
          "No",
          "No",
          "No",
          "No",
          "No",
          "No",
          "No",
          "No",
          "No",
          "No",
          "No",
          "No",
          "No",
          "No",
          "No",
          "No",
          "No",
          "No",
          "No",
          "No",
          "No",
          "No",
          "No",
          "No",
          "No",
          "No",
          "No",
          "No",
          "No",
          "No",
          "No",
          "No",
          "No",
          "No",
          "No",
          "No",
          "No",
          "No",
          "No",
          "No",
          "No",
          "No",
          "No",
          "No",
          "No",
          "No",
          "No",
          "No",
          "No",
          "No",
          "No",
          "No",
          "No",
          "No",
          "No",
          "No",
          "No",
          "No",
          "No",
          "No",
          "No",
          "No",
          "No",
          "No",
          "No",
          "No",
          "No",
          "No",
          "No",
          "No",
          "No",
          "No",
          "No",
          "No",
          "No",
          "No",
          "No",
          "No",
          "No",
          "No",
          "No",
          "No",
          "No",
          "No",
          "No",
          "No",
          "No",
          "No",
          "No",
          "No",
          "No",
          "No",
          "No",
          "No",
          "No",
          "No",
          "No",
          "No",
          "No",
          "No",
          "No",
          "No",
          "No",
          "No",
          "No",
          "No",
          "No",
          "No",
          "No",
          "No",
          "No",
          "No",
          "No",
          "No",
          "No",
          "No",
          "No",
          "No",
          "No",
          "No",
          "No",
          "No",
          "No",
          "No",
          "No",
          "No",
          "No",
          "No",
          "No",
          "No",
          "No",
          "No",
          "No",
          "No",
          "No",
          "No",
          "No",
          "No",
          "No",
          "No",
          "No",
          "No",
          "No",
          "No",
          "No",
          "No",
          "No",
          "No",
          "No",
          "No",
          "No",
          "No",
          "No",
          "No",
          "No",
          "No",
          "No",
          "No",
          "No",
          "No",
          "No",
          "No",
          "No",
          "No",
          "No",
          "No",
          "No",
          "No",
          "No",
          "No",
          "No",
          "No",
          "No",
          "No",
          "No",
          "No",
          "No",
          "No",
          "No",
          "No",
          "No",
          "No",
          "No",
          "No",
          "No",
          "No",
          "No",
          "No",
          "No",
          "No",
          "No",
          "No",
          "No",
          "No",
          "No",
          "No",
          "No",
          "No",
          "No",
          "No",
          "No",
          "No",
          "No",
          "No",
          "No",
          "No",
          "No",
          "No",
          "No",
          "No",
          "No",
          "No",
          "No",
          "No",
          "No",
          "No",
          "No",
          "No",
          "No",
          "No",
          "No",
          "No",
          "No",
          "No",
          "No",
          "No",
          "No",
          "No",
          "No",
          "No",
          "No",
          "No",
          "No",
          "No",
          "No",
          "No",
          "No",
          "No",
          "No",
          "No",
          "No",
          "No",
          "No",
          "No",
          "No",
          "No",
          "No",
          "No",
          "No",
          "No",
          "No",
          "No",
          "No",
          "No",
          "No",
          "No",
          "No",
          "No",
          "No",
          "No",
          "No",
          "No",
          "No",
          "No",
          "No",
          "No",
          "No",
          "No",
          "No",
          "No",
          "No",
          "No",
          "No",
          "No",
          "No",
          "No",
          "No",
          "No",
          "No",
          "No",
          "No",
          "No",
          "No",
          "No",
          "No",
          "No",
          "No",
          "No",
          "No",
          "No",
          "No",
          "No",
          "No",
          "No",
          "No",
          "No",
          "No",
          "No",
          "No",
          "No",
          "No",
          "No",
          "No",
          "No",
          "No",
          "No",
          "No",
          "No",
          "No",
          "No",
          "No",
          "No",
          "No",
          "No",
          "No",
          "No",
          "No",
          "No",
          "No",
          "No",
          "No",
          "No",
          "No",
          "No",
          "No",
          "No",
          "No",
          "No",
          "No",
          "No",
          "No",
          "No",
          "No",
          "No",
          "No",
          "No",
          "No",
          "No",
          "No",
          "No",
          "No",
          "No",
          "No",
          "No",
          "No",
          "No",
          "No",
          "No",
          "No",
          "No",
          "No",
          "No",
          "No",
          "No",
          "No",
          "No",
          "No",
          "No",
          "No",
          "No",
          "No",
          "No",
          "No",
          "No",
          "No",
          "No",
          "No",
          "No",
          "No",
          "No",
          "No",
          "No",
          "No",
          "No",
          "No",
          "No",
          "No",
          "No",
          "No",
          "No",
          "No",
          "No",
          "No",
          "No",
          "No",
          "No",
          "No",
          "No",
          "No",
          "No",
          "No",
          "No",
          "No",
          "No",
          "No",
          "No",
          "No",
          "No",
          "No",
          "No",
          "No",
          "No",
          "No",
          "No",
          "No",
          "No",
          "No",
          "No",
          "No",
          "No",
          "No",
          "No",
          "No",
          "No",
          "No",
          "No",
          "No",
          "No",
          "No",
          "No",
          "No",
          "No",
          "No",
          "No",
          "No",
          "No",
          "No",
          "No",
          "No",
          "No",
          "No",
          "No",
          "No",
          "No",
          "No",
          "No",
          "No",
          "No",
          "No",
          "No",
          "No",
          "No",
          "No",
          "No",
          "No",
          "No",
          "No",
          "No",
          "No",
          "No",
          "No",
          "No",
          "No",
          "No",
          "No",
          "No",
          "No",
          "No",
          "No",
          "No",
          "No",
          "No",
          "No",
          "No",
          "No",
          "No",
          "No",
          "No",
          "No",
          "No",
          "No",
          "No",
          "No",
          "No",
          "No",
          "No",
          "No",
          "No",
          "No",
          "No",
          "No",
          "No",
          "No",
          "No",
          "No",
          "No",
          "No",
          "No",
          "No",
          "No",
          "No",
          "No",
          "No",
          "No",
          "No",
          "No",
          "No",
          "No",
          "No",
          "No",
          "No",
          "No",
          "No",
          "No",
          "No",
          "No",
          "No",
          "No",
          "No",
          "No",
          "No",
          "No",
          "No",
          "No",
          "No",
          "No",
          "No",
          "No",
          "No",
          "No",
          "No",
          "No",
          "No",
          "No",
          "No",
          "No",
          "No",
          "No",
          "No",
          "No",
          "No",
          "No",
          "No",
          "No",
          "No",
          "No",
          "No",
          "No",
          "No",
          "No",
          "No",
          "No",
          "No",
          "No",
          "No",
          "No",
          "No",
          "No",
          "No",
          "No",
          "No",
          "No",
          "No",
          "No",
          "No",
          "No",
          "No",
          "No",
          "No",
          "No",
          "No",
          "No",
          "No",
          "No",
          "No",
          "No",
          "No",
          "No",
          "No",
          "No",
          "No",
          "No",
          "No",
          "No",
          "No",
          "No",
          "No",
          "No",
          "No",
          "No",
          "No",
          "No",
          "No",
          "No",
          "No",
          "No",
          "No",
          "No",
          "No",
          "No",
          "No",
          "No",
          "No",
          "No",
          "No",
          "No",
          "No",
          "No"
         ],
         "x0": " ",
         "xaxis": "x",
         "y": {
          "bdata": "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",
          "dtype": "i1"
         },
         "y0": " ",
         "yaxis": "y"
        }
       ],
       "layout": {
        "boxmode": "group",
        "legend": {
         "tracegroupgap": 0
        },
        "template": {
         "data": {
          "bar": [
           {
            "error_x": {
             "color": "#2a3f5f"
            },
            "error_y": {
             "color": "#2a3f5f"
            },
            "marker": {
             "line": {
              "color": "#E5ECF6",
              "width": 0.5
             },
             "pattern": {
              "fillmode": "overlay",
              "size": 10,
              "solidity": 0.2
             }
            },
            "type": "bar"
           }
          ],
          "barpolar": [
           {
            "marker": {
             "line": {
              "color": "#E5ECF6",
              "width": 0.5
             },
             "pattern": {
              "fillmode": "overlay",
              "size": 10,
              "solidity": 0.2
             }
            },
            "type": "barpolar"
           }
          ],
          "carpet": [
           {
            "aaxis": {
             "endlinecolor": "#2a3f5f",
             "gridcolor": "white",
             "linecolor": "white",
             "minorgridcolor": "white",
             "startlinecolor": "#2a3f5f"
            },
            "baxis": {
             "endlinecolor": "#2a3f5f",
             "gridcolor": "white",
             "linecolor": "white",
             "minorgridcolor": "white",
             "startlinecolor": "#2a3f5f"
            },
            "type": "carpet"
           }
          ],
          "choropleth": [
           {
            "colorbar": {
             "outlinewidth": 0,
             "ticks": ""
            },
            "type": "choropleth"
           }
          ],
          "contour": [
           {
            "colorbar": {
             "outlinewidth": 0,
             "ticks": ""
            },
            "colorscale": [
             [
              0,
              "#0d0887"
             ],
             [
              0.1111111111111111,
              "#46039f"
             ],
             [
              0.2222222222222222,
              "#7201a8"
             ],
             [
              0.3333333333333333,
              "#9c179e"
             ],
             [
              0.4444444444444444,
              "#bd3786"
             ],
             [
              0.5555555555555556,
              "#d8576b"
             ],
             [
              0.6666666666666666,
              "#ed7953"
             ],
             [
              0.7777777777777778,
              "#fb9f3a"
             ],
             [
              0.8888888888888888,
              "#fdca26"
             ],
             [
              1,
              "#f0f921"
             ]
            ],
            "type": "contour"
           }
          ],
          "contourcarpet": [
           {
            "colorbar": {
             "outlinewidth": 0,
             "ticks": ""
            },
            "type": "contourcarpet"
           }
          ],
          "heatmap": [
           {
            "colorbar": {
             "outlinewidth": 0,
             "ticks": ""
            },
            "colorscale": [
             [
              0,
              "#0d0887"
             ],
             [
              0.1111111111111111,
              "#46039f"
             ],
             [
              0.2222222222222222,
              "#7201a8"
             ],
             [
              0.3333333333333333,
              "#9c179e"
             ],
             [
              0.4444444444444444,
              "#bd3786"
             ],
             [
              0.5555555555555556,
              "#d8576b"
             ],
             [
              0.6666666666666666,
              "#ed7953"
             ],
             [
              0.7777777777777778,
              "#fb9f3a"
             ],
             [
              0.8888888888888888,
              "#fdca26"
             ],
             [
              1,
              "#f0f921"
             ]
            ],
            "type": "heatmap"
           }
          ],
          "histogram": [
           {
            "marker": {
             "pattern": {
              "fillmode": "overlay",
              "size": 10,
              "solidity": 0.2
             }
            },
            "type": "histogram"
           }
          ],
          "histogram2d": [
           {
            "colorbar": {
             "outlinewidth": 0,
             "ticks": ""
            },
            "colorscale": [
             [
              0,
              "#0d0887"
             ],
             [
              0.1111111111111111,
              "#46039f"
             ],
             [
              0.2222222222222222,
              "#7201a8"
             ],
             [
              0.3333333333333333,
              "#9c179e"
             ],
             [
              0.4444444444444444,
              "#bd3786"
             ],
             [
              0.5555555555555556,
              "#d8576b"
             ],
             [
              0.6666666666666666,
              "#ed7953"
             ],
             [
              0.7777777777777778,
              "#fb9f3a"
             ],
             [
              0.8888888888888888,
              "#fdca26"
             ],
             [
              1,
              "#f0f921"
             ]
            ],
            "type": "histogram2d"
           }
          ],
          "histogram2dcontour": [
           {
            "colorbar": {
             "outlinewidth": 0,
             "ticks": ""
            },
            "colorscale": [
             [
              0,
              "#0d0887"
             ],
             [
              0.1111111111111111,
              "#46039f"
             ],
             [
              0.2222222222222222,
              "#7201a8"
             ],
             [
              0.3333333333333333,
              "#9c179e"
             ],
             [
              0.4444444444444444,
              "#bd3786"
             ],
             [
              0.5555555555555556,
              "#d8576b"
             ],
             [
              0.6666666666666666,
              "#ed7953"
             ],
             [
              0.7777777777777778,
              "#fb9f3a"
             ],
             [
              0.8888888888888888,
              "#fdca26"
             ],
             [
              1,
              "#f0f921"
             ]
            ],
            "type": "histogram2dcontour"
           }
          ],
          "mesh3d": [
           {
            "colorbar": {
             "outlinewidth": 0,
             "ticks": ""
            },
            "type": "mesh3d"
           }
          ],
          "parcoords": [
           {
            "line": {
             "colorbar": {
              "outlinewidth": 0,
              "ticks": ""
             }
            },
            "type": "parcoords"
           }
          ],
          "pie": [
           {
            "automargin": true,
            "type": "pie"
           }
          ],
          "scatter": [
           {
            "fillpattern": {
             "fillmode": "overlay",
             "size": 10,
             "solidity": 0.2
            },
            "type": "scatter"
           }
          ],
          "scatter3d": [
           {
            "line": {
             "colorbar": {
              "outlinewidth": 0,
              "ticks": ""
             }
            },
            "marker": {
             "colorbar": {
              "outlinewidth": 0,
              "ticks": ""
             }
            },
            "type": "scatter3d"
           }
          ],
          "scattercarpet": [
           {
            "marker": {
             "colorbar": {
              "outlinewidth": 0,
              "ticks": ""
             }
            },
            "type": "scattercarpet"
           }
          ],
          "scattergeo": [
           {
            "marker": {
             "colorbar": {
              "outlinewidth": 0,
              "ticks": ""
             }
            },
            "type": "scattergeo"
           }
          ],
          "scattergl": [
           {
            "marker": {
             "colorbar": {
              "outlinewidth": 0,
              "ticks": ""
             }
            },
            "type": "scattergl"
           }
          ],
          "scattermap": [
           {
            "marker": {
             "colorbar": {
              "outlinewidth": 0,
              "ticks": ""
             }
            },
            "type": "scattermap"
           }
          ],
          "scattermapbox": [
           {
            "marker": {
             "colorbar": {
              "outlinewidth": 0,
              "ticks": ""
             }
            },
            "type": "scattermapbox"
           }
          ],
          "scatterpolar": [
           {
            "marker": {
             "colorbar": {
              "outlinewidth": 0,
              "ticks": ""
             }
            },
            "type": "scatterpolar"
           }
          ],
          "scatterpolargl": [
           {
            "marker": {
             "colorbar": {
              "outlinewidth": 0,
              "ticks": ""
             }
            },
            "type": "scatterpolargl"
           }
          ],
          "scatterternary": [
           {
            "marker": {
             "colorbar": {
              "outlinewidth": 0,
              "ticks": ""
             }
            },
            "type": "scatterternary"
           }
          ],
          "surface": [
           {
            "colorbar": {
             "outlinewidth": 0,
             "ticks": ""
            },
            "colorscale": [
             [
              0,
              "#0d0887"
             ],
             [
              0.1111111111111111,
              "#46039f"
             ],
             [
              0.2222222222222222,
              "#7201a8"
             ],
             [
              0.3333333333333333,
              "#9c179e"
             ],
             [
              0.4444444444444444,
              "#bd3786"
             ],
             [
              0.5555555555555556,
              "#d8576b"
             ],
             [
              0.6666666666666666,
              "#ed7953"
             ],
             [
              0.7777777777777778,
              "#fb9f3a"
             ],
             [
              0.8888888888888888,
              "#fdca26"
             ],
             [
              1,
              "#f0f921"
             ]
            ],
            "type": "surface"
           }
          ],
          "table": [
           {
            "cells": {
             "fill": {
              "color": "#EBF0F8"
             },
             "line": {
              "color": "white"
             }
            },
            "header": {
             "fill": {
              "color": "#C8D4E3"
             },
             "line": {
              "color": "white"
             }
            },
            "type": "table"
           }
          ]
         },
         "layout": {
          "annotationdefaults": {
           "arrowcolor": "#2a3f5f",
           "arrowhead": 0,
           "arrowwidth": 1
          },
          "autotypenumbers": "strict",
          "coloraxis": {
           "colorbar": {
            "outlinewidth": 0,
            "ticks": ""
           }
          },
          "colorscale": {
           "diverging": [
            [
             0,
             "#8e0152"
            ],
            [
             0.1,
             "#c51b7d"
            ],
            [
             0.2,
             "#de77ae"
            ],
            [
             0.3,
             "#f1b6da"
            ],
            [
             0.4,
             "#fde0ef"
            ],
            [
             0.5,
             "#f7f7f7"
            ],
            [
             0.6,
             "#e6f5d0"
            ],
            [
             0.7,
             "#b8e186"
            ],
            [
             0.8,
             "#7fbc41"
            ],
            [
             0.9,
             "#4d9221"
            ],
            [
             1,
             "#276419"
            ]
           ],
           "sequential": [
            [
             0,
             "#0d0887"
            ],
            [
             0.1111111111111111,
             "#46039f"
            ],
            [
             0.2222222222222222,
             "#7201a8"
            ],
            [
             0.3333333333333333,
             "#9c179e"
            ],
            [
             0.4444444444444444,
             "#bd3786"
            ],
            [
             0.5555555555555556,
             "#d8576b"
            ],
            [
             0.6666666666666666,
             "#ed7953"
            ],
            [
             0.7777777777777778,
             "#fb9f3a"
            ],
            [
             0.8888888888888888,
             "#fdca26"
            ],
            [
             1,
             "#f0f921"
            ]
           ],
           "sequentialminus": [
            [
             0,
             "#0d0887"
            ],
            [
             0.1111111111111111,
             "#46039f"
            ],
            [
             0.2222222222222222,
             "#7201a8"
            ],
            [
             0.3333333333333333,
             "#9c179e"
            ],
            [
             0.4444444444444444,
             "#bd3786"
            ],
            [
             0.5555555555555556,
             "#d8576b"
            ],
            [
             0.6666666666666666,
             "#ed7953"
            ],
            [
             0.7777777777777778,
             "#fb9f3a"
            ],
            [
             0.8888888888888888,
             "#fdca26"
            ],
            [
             1,
             "#f0f921"
            ]
           ]
          },
          "colorway": [
           "#636efa",
           "#EF553B",
           "#00cc96",
           "#ab63fa",
           "#FFA15A",
           "#19d3f3",
           "#FF6692",
           "#B6E880",
           "#FF97FF",
           "#FECB52"
          ],
          "font": {
           "color": "#2a3f5f"
          },
          "geo": {
           "bgcolor": "white",
           "lakecolor": "white",
           "landcolor": "#E5ECF6",
           "showlakes": true,
           "showland": true,
           "subunitcolor": "white"
          },
          "hoverlabel": {
           "align": "left"
          },
          "hovermode": "closest",
          "mapbox": {
           "style": "light"
          },
          "paper_bgcolor": "white",
          "plot_bgcolor": "#E5ECF6",
          "polar": {
           "angularaxis": {
            "gridcolor": "white",
            "linecolor": "white",
            "ticks": ""
           },
           "bgcolor": "#E5ECF6",
           "radialaxis": {
            "gridcolor": "white",
            "linecolor": "white",
            "ticks": ""
           }
          },
          "scene": {
           "xaxis": {
            "backgroundcolor": "#E5ECF6",
            "gridcolor": "white",
            "gridwidth": 2,
            "linecolor": "white",
            "showbackground": true,
            "ticks": "",
            "zerolinecolor": "white"
           },
           "yaxis": {
            "backgroundcolor": "#E5ECF6",
            "gridcolor": "white",
            "gridwidth": 2,
            "linecolor": "white",
            "showbackground": true,
            "ticks": "",
            "zerolinecolor": "white"
           },
           "zaxis": {
            "backgroundcolor": "#E5ECF6",
            "gridcolor": "white",
            "gridwidth": 2,
            "linecolor": "white",
            "showbackground": true,
            "ticks": "",
            "zerolinecolor": "white"
           }
          },
          "shapedefaults": {
           "line": {
            "color": "#2a3f5f"
           }
          },
          "ternary": {
           "aaxis": {
            "gridcolor": "white",
            "linecolor": "white",
            "ticks": ""
           },
           "baxis": {
            "gridcolor": "white",
            "linecolor": "white",
            "ticks": ""
           },
           "bgcolor": "#E5ECF6",
           "caxis": {
            "gridcolor": "white",
            "linecolor": "white",
            "ticks": ""
           }
          },
          "title": {
           "x": 0.05
          },
          "xaxis": {
           "automargin": true,
           "gridcolor": "white",
           "linecolor": "white",
           "ticks": "",
           "title": {
            "standoff": 15
           },
           "zerolinecolor": "white",
           "zerolinewidth": 2
          },
          "yaxis": {
           "automargin": true,
           "gridcolor": "white",
           "linecolor": "white",
           "ticks": "",
           "title": {
            "standoff": 15
           },
           "zerolinecolor": "white",
           "zerolinewidth": 2
          }
         }
        },
        "title": {
         "text": "Tenure Distribution by Churn Outcome"
        },
        "xaxis": {
         "anchor": "y",
         "domain": [
          0,
          1
         ],
         "title": {
          "text": "Churn"
         }
        },
        "yaxis": {
         "anchor": "x",
         "domain": [
          0,
          1
         ],
         "title": {
          "text": "Tenure (months)"
         }
        }
       }
      }
     },
     "metadata": {},
     "output_type": "display_data"
    }
   ],
   "source": [
    "fig = px.box(df, x='Churn Label', y='Tenure Months', points=\"outliers\",\n",
    "             title=\"Tenure Distribution by Churn Outcome\",\n",
    "             labels={'Churn Label':\"Churn\", 'Tenure Months':\"Tenure (months)\"})\n",
    "fig.show()"
   ]
  },
  {
   "cell_type": "markdown",
   "id": "3b150353",
   "metadata": {},
   "source": [
    "So we see that customer tenure has a clear effect on churn: the risk of leaving is much higher in the first few months then steadily decreases as customers become more loyal. This indicates that churn is largely an `early-life-cycle` problem.\n",
    "\n",
    "To reduce churn, telcos should (instead of pouring resources into purely marketing) improve the onboarding experience, offer early incentives and provide proactive support for the first 6-12 months. By stabilizing the relationship during this critical window, more customers are likely to transition into long-term and low churn customers. "
   ]
  },
  {
   "cell_type": "markdown",
   "id": "d78d8c97",
   "metadata": {},
   "source": [
    "### Contract Type"
   ]
  },
  {
   "cell_type": "code",
   "execution_count": 87,
   "id": "495a1746",
   "metadata": {},
   "outputs": [
    {
     "data": {
      "application/vnd.plotly.v1+json": {
       "config": {
        "plotlyServerURL": "https://plot.ly"
       },
       "data": [
        {
         "domain": {
          "x": [
           0,
           1
          ],
          "y": [
           0,
           1
          ]
         },
         "hovertemplate": "label=%{label}<br>value=%{value}<extra></extra>",
         "labels": [
          "Month-to-month",
          "Two year",
          "One year"
         ],
         "legendgroup": "",
         "name": "",
         "showlegend": true,
         "type": "pie",
         "values": {
          "bdata": "Iw+fBsEF",
          "dtype": "i2"
         }
        }
       ],
       "layout": {
        "legend": {
         "tracegroupgap": 0
        },
        "template": {
         "data": {
          "bar": [
           {
            "error_x": {
             "color": "#2a3f5f"
            },
            "error_y": {
             "color": "#2a3f5f"
            },
            "marker": {
             "line": {
              "color": "#E5ECF6",
              "width": 0.5
             },
             "pattern": {
              "fillmode": "overlay",
              "size": 10,
              "solidity": 0.2
             }
            },
            "type": "bar"
           }
          ],
          "barpolar": [
           {
            "marker": {
             "line": {
              "color": "#E5ECF6",
              "width": 0.5
             },
             "pattern": {
              "fillmode": "overlay",
              "size": 10,
              "solidity": 0.2
             }
            },
            "type": "barpolar"
           }
          ],
          "carpet": [
           {
            "aaxis": {
             "endlinecolor": "#2a3f5f",
             "gridcolor": "white",
             "linecolor": "white",
             "minorgridcolor": "white",
             "startlinecolor": "#2a3f5f"
            },
            "baxis": {
             "endlinecolor": "#2a3f5f",
             "gridcolor": "white",
             "linecolor": "white",
             "minorgridcolor": "white",
             "startlinecolor": "#2a3f5f"
            },
            "type": "carpet"
           }
          ],
          "choropleth": [
           {
            "colorbar": {
             "outlinewidth": 0,
             "ticks": ""
            },
            "type": "choropleth"
           }
          ],
          "contour": [
           {
            "colorbar": {
             "outlinewidth": 0,
             "ticks": ""
            },
            "colorscale": [
             [
              0,
              "#0d0887"
             ],
             [
              0.1111111111111111,
              "#46039f"
             ],
             [
              0.2222222222222222,
              "#7201a8"
             ],
             [
              0.3333333333333333,
              "#9c179e"
             ],
             [
              0.4444444444444444,
              "#bd3786"
             ],
             [
              0.5555555555555556,
              "#d8576b"
             ],
             [
              0.6666666666666666,
              "#ed7953"
             ],
             [
              0.7777777777777778,
              "#fb9f3a"
             ],
             [
              0.8888888888888888,
              "#fdca26"
             ],
             [
              1,
              "#f0f921"
             ]
            ],
            "type": "contour"
           }
          ],
          "contourcarpet": [
           {
            "colorbar": {
             "outlinewidth": 0,
             "ticks": ""
            },
            "type": "contourcarpet"
           }
          ],
          "heatmap": [
           {
            "colorbar": {
             "outlinewidth": 0,
             "ticks": ""
            },
            "colorscale": [
             [
              0,
              "#0d0887"
             ],
             [
              0.1111111111111111,
              "#46039f"
             ],
             [
              0.2222222222222222,
              "#7201a8"
             ],
             [
              0.3333333333333333,
              "#9c179e"
             ],
             [
              0.4444444444444444,
              "#bd3786"
             ],
             [
              0.5555555555555556,
              "#d8576b"
             ],
             [
              0.6666666666666666,
              "#ed7953"
             ],
             [
              0.7777777777777778,
              "#fb9f3a"
             ],
             [
              0.8888888888888888,
              "#fdca26"
             ],
             [
              1,
              "#f0f921"
             ]
            ],
            "type": "heatmap"
           }
          ],
          "histogram": [
           {
            "marker": {
             "pattern": {
              "fillmode": "overlay",
              "size": 10,
              "solidity": 0.2
             }
            },
            "type": "histogram"
           }
          ],
          "histogram2d": [
           {
            "colorbar": {
             "outlinewidth": 0,
             "ticks": ""
            },
            "colorscale": [
             [
              0,
              "#0d0887"
             ],
             [
              0.1111111111111111,
              "#46039f"
             ],
             [
              0.2222222222222222,
              "#7201a8"
             ],
             [
              0.3333333333333333,
              "#9c179e"
             ],
             [
              0.4444444444444444,
              "#bd3786"
             ],
             [
              0.5555555555555556,
              "#d8576b"
             ],
             [
              0.6666666666666666,
              "#ed7953"
             ],
             [
              0.7777777777777778,
              "#fb9f3a"
             ],
             [
              0.8888888888888888,
              "#fdca26"
             ],
             [
              1,
              "#f0f921"
             ]
            ],
            "type": "histogram2d"
           }
          ],
          "histogram2dcontour": [
           {
            "colorbar": {
             "outlinewidth": 0,
             "ticks": ""
            },
            "colorscale": [
             [
              0,
              "#0d0887"
             ],
             [
              0.1111111111111111,
              "#46039f"
             ],
             [
              0.2222222222222222,
              "#7201a8"
             ],
             [
              0.3333333333333333,
              "#9c179e"
             ],
             [
              0.4444444444444444,
              "#bd3786"
             ],
             [
              0.5555555555555556,
              "#d8576b"
             ],
             [
              0.6666666666666666,
              "#ed7953"
             ],
             [
              0.7777777777777778,
              "#fb9f3a"
             ],
             [
              0.8888888888888888,
              "#fdca26"
             ],
             [
              1,
              "#f0f921"
             ]
            ],
            "type": "histogram2dcontour"
           }
          ],
          "mesh3d": [
           {
            "colorbar": {
             "outlinewidth": 0,
             "ticks": ""
            },
            "type": "mesh3d"
           }
          ],
          "parcoords": [
           {
            "line": {
             "colorbar": {
              "outlinewidth": 0,
              "ticks": ""
             }
            },
            "type": "parcoords"
           }
          ],
          "pie": [
           {
            "automargin": true,
            "type": "pie"
           }
          ],
          "scatter": [
           {
            "fillpattern": {
             "fillmode": "overlay",
             "size": 10,
             "solidity": 0.2
            },
            "type": "scatter"
           }
          ],
          "scatter3d": [
           {
            "line": {
             "colorbar": {
              "outlinewidth": 0,
              "ticks": ""
             }
            },
            "marker": {
             "colorbar": {
              "outlinewidth": 0,
              "ticks": ""
             }
            },
            "type": "scatter3d"
           }
          ],
          "scattercarpet": [
           {
            "marker": {
             "colorbar": {
              "outlinewidth": 0,
              "ticks": ""
             }
            },
            "type": "scattercarpet"
           }
          ],
          "scattergeo": [
           {
            "marker": {
             "colorbar": {
              "outlinewidth": 0,
              "ticks": ""
             }
            },
            "type": "scattergeo"
           }
          ],
          "scattergl": [
           {
            "marker": {
             "colorbar": {
              "outlinewidth": 0,
              "ticks": ""
             }
            },
            "type": "scattergl"
           }
          ],
          "scattermap": [
           {
            "marker": {
             "colorbar": {
              "outlinewidth": 0,
              "ticks": ""
             }
            },
            "type": "scattermap"
           }
          ],
          "scattermapbox": [
           {
            "marker": {
             "colorbar": {
              "outlinewidth": 0,
              "ticks": ""
             }
            },
            "type": "scattermapbox"
           }
          ],
          "scatterpolar": [
           {
            "marker": {
             "colorbar": {
              "outlinewidth": 0,
              "ticks": ""
             }
            },
            "type": "scatterpolar"
           }
          ],
          "scatterpolargl": [
           {
            "marker": {
             "colorbar": {
              "outlinewidth": 0,
              "ticks": ""
             }
            },
            "type": "scatterpolargl"
           }
          ],
          "scatterternary": [
           {
            "marker": {
             "colorbar": {
              "outlinewidth": 0,
              "ticks": ""
             }
            },
            "type": "scatterternary"
           }
          ],
          "surface": [
           {
            "colorbar": {
             "outlinewidth": 0,
             "ticks": ""
            },
            "colorscale": [
             [
              0,
              "#0d0887"
             ],
             [
              0.1111111111111111,
              "#46039f"
             ],
             [
              0.2222222222222222,
              "#7201a8"
             ],
             [
              0.3333333333333333,
              "#9c179e"
             ],
             [
              0.4444444444444444,
              "#bd3786"
             ],
             [
              0.5555555555555556,
              "#d8576b"
             ],
             [
              0.6666666666666666,
              "#ed7953"
             ],
             [
              0.7777777777777778,
              "#fb9f3a"
             ],
             [
              0.8888888888888888,
              "#fdca26"
             ],
             [
              1,
              "#f0f921"
             ]
            ],
            "type": "surface"
           }
          ],
          "table": [
           {
            "cells": {
             "fill": {
              "color": "#EBF0F8"
             },
             "line": {
              "color": "white"
             }
            },
            "header": {
             "fill": {
              "color": "#C8D4E3"
             },
             "line": {
              "color": "white"
             }
            },
            "type": "table"
           }
          ]
         },
         "layout": {
          "annotationdefaults": {
           "arrowcolor": "#2a3f5f",
           "arrowhead": 0,
           "arrowwidth": 1
          },
          "autotypenumbers": "strict",
          "coloraxis": {
           "colorbar": {
            "outlinewidth": 0,
            "ticks": ""
           }
          },
          "colorscale": {
           "diverging": [
            [
             0,
             "#8e0152"
            ],
            [
             0.1,
             "#c51b7d"
            ],
            [
             0.2,
             "#de77ae"
            ],
            [
             0.3,
             "#f1b6da"
            ],
            [
             0.4,
             "#fde0ef"
            ],
            [
             0.5,
             "#f7f7f7"
            ],
            [
             0.6,
             "#e6f5d0"
            ],
            [
             0.7,
             "#b8e186"
            ],
            [
             0.8,
             "#7fbc41"
            ],
            [
             0.9,
             "#4d9221"
            ],
            [
             1,
             "#276419"
            ]
           ],
           "sequential": [
            [
             0,
             "#0d0887"
            ],
            [
             0.1111111111111111,
             "#46039f"
            ],
            [
             0.2222222222222222,
             "#7201a8"
            ],
            [
             0.3333333333333333,
             "#9c179e"
            ],
            [
             0.4444444444444444,
             "#bd3786"
            ],
            [
             0.5555555555555556,
             "#d8576b"
            ],
            [
             0.6666666666666666,
             "#ed7953"
            ],
            [
             0.7777777777777778,
             "#fb9f3a"
            ],
            [
             0.8888888888888888,
             "#fdca26"
            ],
            [
             1,
             "#f0f921"
            ]
           ],
           "sequentialminus": [
            [
             0,
             "#0d0887"
            ],
            [
             0.1111111111111111,
             "#46039f"
            ],
            [
             0.2222222222222222,
             "#7201a8"
            ],
            [
             0.3333333333333333,
             "#9c179e"
            ],
            [
             0.4444444444444444,
             "#bd3786"
            ],
            [
             0.5555555555555556,
             "#d8576b"
            ],
            [
             0.6666666666666666,
             "#ed7953"
            ],
            [
             0.7777777777777778,
             "#fb9f3a"
            ],
            [
             0.8888888888888888,
             "#fdca26"
            ],
            [
             1,
             "#f0f921"
            ]
           ]
          },
          "colorway": [
           "#636efa",
           "#EF553B",
           "#00cc96",
           "#ab63fa",
           "#FFA15A",
           "#19d3f3",
           "#FF6692",
           "#B6E880",
           "#FF97FF",
           "#FECB52"
          ],
          "font": {
           "color": "#2a3f5f"
          },
          "geo": {
           "bgcolor": "white",
           "lakecolor": "white",
           "landcolor": "#E5ECF6",
           "showlakes": true,
           "showland": true,
           "subunitcolor": "white"
          },
          "hoverlabel": {
           "align": "left"
          },
          "hovermode": "closest",
          "mapbox": {
           "style": "light"
          },
          "paper_bgcolor": "white",
          "plot_bgcolor": "#E5ECF6",
          "polar": {
           "angularaxis": {
            "gridcolor": "white",
            "linecolor": "white",
            "ticks": ""
           },
           "bgcolor": "#E5ECF6",
           "radialaxis": {
            "gridcolor": "white",
            "linecolor": "white",
            "ticks": ""
           }
          },
          "scene": {
           "xaxis": {
            "backgroundcolor": "#E5ECF6",
            "gridcolor": "white",
            "gridwidth": 2,
            "linecolor": "white",
            "showbackground": true,
            "ticks": "",
            "zerolinecolor": "white"
           },
           "yaxis": {
            "backgroundcolor": "#E5ECF6",
            "gridcolor": "white",
            "gridwidth": 2,
            "linecolor": "white",
            "showbackground": true,
            "ticks": "",
            "zerolinecolor": "white"
           },
           "zaxis": {
            "backgroundcolor": "#E5ECF6",
            "gridcolor": "white",
            "gridwidth": 2,
            "linecolor": "white",
            "showbackground": true,
            "ticks": "",
            "zerolinecolor": "white"
           }
          },
          "shapedefaults": {
           "line": {
            "color": "#2a3f5f"
           }
          },
          "ternary": {
           "aaxis": {
            "gridcolor": "white",
            "linecolor": "white",
            "ticks": ""
           },
           "baxis": {
            "gridcolor": "white",
            "linecolor": "white",
            "ticks": ""
           },
           "bgcolor": "#E5ECF6",
           "caxis": {
            "gridcolor": "white",
            "linecolor": "white",
            "ticks": ""
           }
          },
          "title": {
           "x": 0.05
          },
          "xaxis": {
           "automargin": true,
           "gridcolor": "white",
           "linecolor": "white",
           "ticks": "",
           "title": {
            "standoff": 15
           },
           "zerolinecolor": "white",
           "zerolinewidth": 2
          },
          "yaxis": {
           "automargin": true,
           "gridcolor": "white",
           "linecolor": "white",
           "ticks": "",
           "title": {
            "standoff": 15
           },
           "zerolinecolor": "white",
           "zerolinewidth": 2
          }
         }
        },
        "title": {
         "text": "Contract Distribution"
        }
       }
      }
     },
     "metadata": {},
     "output_type": "display_data"
    }
   ],
   "source": [
    "Contract_Label_counts= df['Contract'].value_counts()\n",
    "fig1 = px.pie(names= Contract_Label_counts.keys(), values= Contract_Label_counts.values, title='Contract Distribution')\n",
    "fig1.show()"
   ]
  },
  {
   "cell_type": "code",
   "execution_count": 90,
   "id": "da5dee34",
   "metadata": {},
   "outputs": [
    {
     "data": {
      "text/html": [
       "<div>\n",
       "<style scoped>\n",
       "    .dataframe tbody tr th:only-of-type {\n",
       "        vertical-align: middle;\n",
       "    }\n",
       "\n",
       "    .dataframe tbody tr th {\n",
       "        vertical-align: top;\n",
       "    }\n",
       "\n",
       "    .dataframe thead th {\n",
       "        text-align: right;\n",
       "    }\n",
       "</style>\n",
       "<table border=\"1\" class=\"dataframe\">\n",
       "  <thead>\n",
       "    <tr style=\"text-align: right;\">\n",
       "      <th></th>\n",
       "      <th>Contract</th>\n",
       "      <th>Churn Label</th>\n",
       "      <th>normalized_count</th>\n",
       "    </tr>\n",
       "  </thead>\n",
       "  <tbody>\n",
       "    <tr>\n",
       "      <th>0</th>\n",
       "      <td>Month-to-month</td>\n",
       "      <td>No</td>\n",
       "      <td>0.57</td>\n",
       "    </tr>\n",
       "    <tr>\n",
       "      <th>1</th>\n",
       "      <td>Month-to-month</td>\n",
       "      <td>Yes</td>\n",
       "      <td>0.43</td>\n",
       "    </tr>\n",
       "    <tr>\n",
       "      <th>2</th>\n",
       "      <td>One year</td>\n",
       "      <td>No</td>\n",
       "      <td>0.89</td>\n",
       "    </tr>\n",
       "    <tr>\n",
       "      <th>3</th>\n",
       "      <td>One year</td>\n",
       "      <td>Yes</td>\n",
       "      <td>0.11</td>\n",
       "    </tr>\n",
       "    <tr>\n",
       "      <th>4</th>\n",
       "      <td>Two year</td>\n",
       "      <td>No</td>\n",
       "      <td>0.97</td>\n",
       "    </tr>\n",
       "    <tr>\n",
       "      <th>5</th>\n",
       "      <td>Two year</td>\n",
       "      <td>Yes</td>\n",
       "      <td>0.03</td>\n",
       "    </tr>\n",
       "  </tbody>\n",
       "</table>\n",
       "</div>"
      ],
      "text/plain": [
       "         Contract Churn Label  normalized_count\n",
       "0  Month-to-month          No              0.57\n",
       "1  Month-to-month         Yes              0.43\n",
       "2        One year          No              0.89\n",
       "3        One year         Yes              0.11\n",
       "4        Two year          No              0.97\n",
       "5        Two year         Yes              0.03"
      ]
     },
     "execution_count": 90,
     "metadata": {},
     "output_type": "execute_result"
    }
   ],
   "source": [
    "contract_churn = (\n",
    "    df.groupby('Contract')['Churn Label']\n",
    "      .value_counts(normalize=True)\n",
    "      .round(2)\n",
    "      .rename('normalized_count')\n",
    "      .reset_index()\n",
    ")\n",
    "contract_churn"
   ]
  },
  {
   "cell_type": "code",
   "execution_count": 95,
   "id": "b1dfd498",
   "metadata": {},
   "outputs": [
    {
     "data": {
      "application/vnd.plotly.v1+json": {
       "config": {
        "plotlyServerURL": "https://plot.ly"
       },
       "data": [
        {
         "hovertemplate": "Churn Label=No<br>Percentage=%{text}<br>Contract=%{y}<extra></extra>",
         "legendgroup": "No",
         "marker": {
          "color": "#636efa",
          "pattern": {
           "shape": ""
          }
         },
         "name": "No",
         "orientation": "h",
         "showlegend": true,
         "text": {
          "bdata": "PQrXo3A94j97FK5H4XrsPwrXo3A9Cu8/",
          "dtype": "f8"
         },
         "textposition": "auto",
         "type": "bar",
         "x": {
          "bdata": "PQrXo3A94j97FK5H4XrsPwrXo3A9Cu8/",
          "dtype": "f8"
         },
         "xaxis": "x",
         "y": [
          "Month-to-month",
          "One year",
          "Two year"
         ],
         "yaxis": "y"
        },
        {
         "hovertemplate": "Churn Label=Yes<br>Percentage=%{text}<br>Contract=%{y}<extra></extra>",
         "legendgroup": "Yes",
         "marker": {
          "color": "#EF553B",
          "pattern": {
           "shape": ""
          }
         },
         "name": "Yes",
         "orientation": "h",
         "showlegend": true,
         "text": {
          "bdata": "hetRuB6F2z8pXI/C9Si8P7gehetRuJ4/",
          "dtype": "f8"
         },
         "textposition": "auto",
         "type": "bar",
         "x": {
          "bdata": "hetRuB6F2z8pXI/C9Si8P7gehetRuJ4/",
          "dtype": "f8"
         },
         "xaxis": "x",
         "y": [
          "Month-to-month",
          "One year",
          "Two year"
         ],
         "yaxis": "y"
        }
       ],
       "layout": {
        "barmode": "relative",
        "legend": {
         "title": {
          "text": "Churn Label"
         },
         "tracegroupgap": 0
        },
        "template": {
         "data": {
          "bar": [
           {
            "error_x": {
             "color": "#2a3f5f"
            },
            "error_y": {
             "color": "#2a3f5f"
            },
            "marker": {
             "line": {
              "color": "#E5ECF6",
              "width": 0.5
             },
             "pattern": {
              "fillmode": "overlay",
              "size": 10,
              "solidity": 0.2
             }
            },
            "type": "bar"
           }
          ],
          "barpolar": [
           {
            "marker": {
             "line": {
              "color": "#E5ECF6",
              "width": 0.5
             },
             "pattern": {
              "fillmode": "overlay",
              "size": 10,
              "solidity": 0.2
             }
            },
            "type": "barpolar"
           }
          ],
          "carpet": [
           {
            "aaxis": {
             "endlinecolor": "#2a3f5f",
             "gridcolor": "white",
             "linecolor": "white",
             "minorgridcolor": "white",
             "startlinecolor": "#2a3f5f"
            },
            "baxis": {
             "endlinecolor": "#2a3f5f",
             "gridcolor": "white",
             "linecolor": "white",
             "minorgridcolor": "white",
             "startlinecolor": "#2a3f5f"
            },
            "type": "carpet"
           }
          ],
          "choropleth": [
           {
            "colorbar": {
             "outlinewidth": 0,
             "ticks": ""
            },
            "type": "choropleth"
           }
          ],
          "contour": [
           {
            "colorbar": {
             "outlinewidth": 0,
             "ticks": ""
            },
            "colorscale": [
             [
              0,
              "#0d0887"
             ],
             [
              0.1111111111111111,
              "#46039f"
             ],
             [
              0.2222222222222222,
              "#7201a8"
             ],
             [
              0.3333333333333333,
              "#9c179e"
             ],
             [
              0.4444444444444444,
              "#bd3786"
             ],
             [
              0.5555555555555556,
              "#d8576b"
             ],
             [
              0.6666666666666666,
              "#ed7953"
             ],
             [
              0.7777777777777778,
              "#fb9f3a"
             ],
             [
              0.8888888888888888,
              "#fdca26"
             ],
             [
              1,
              "#f0f921"
             ]
            ],
            "type": "contour"
           }
          ],
          "contourcarpet": [
           {
            "colorbar": {
             "outlinewidth": 0,
             "ticks": ""
            },
            "type": "contourcarpet"
           }
          ],
          "heatmap": [
           {
            "colorbar": {
             "outlinewidth": 0,
             "ticks": ""
            },
            "colorscale": [
             [
              0,
              "#0d0887"
             ],
             [
              0.1111111111111111,
              "#46039f"
             ],
             [
              0.2222222222222222,
              "#7201a8"
             ],
             [
              0.3333333333333333,
              "#9c179e"
             ],
             [
              0.4444444444444444,
              "#bd3786"
             ],
             [
              0.5555555555555556,
              "#d8576b"
             ],
             [
              0.6666666666666666,
              "#ed7953"
             ],
             [
              0.7777777777777778,
              "#fb9f3a"
             ],
             [
              0.8888888888888888,
              "#fdca26"
             ],
             [
              1,
              "#f0f921"
             ]
            ],
            "type": "heatmap"
           }
          ],
          "histogram": [
           {
            "marker": {
             "pattern": {
              "fillmode": "overlay",
              "size": 10,
              "solidity": 0.2
             }
            },
            "type": "histogram"
           }
          ],
          "histogram2d": [
           {
            "colorbar": {
             "outlinewidth": 0,
             "ticks": ""
            },
            "colorscale": [
             [
              0,
              "#0d0887"
             ],
             [
              0.1111111111111111,
              "#46039f"
             ],
             [
              0.2222222222222222,
              "#7201a8"
             ],
             [
              0.3333333333333333,
              "#9c179e"
             ],
             [
              0.4444444444444444,
              "#bd3786"
             ],
             [
              0.5555555555555556,
              "#d8576b"
             ],
             [
              0.6666666666666666,
              "#ed7953"
             ],
             [
              0.7777777777777778,
              "#fb9f3a"
             ],
             [
              0.8888888888888888,
              "#fdca26"
             ],
             [
              1,
              "#f0f921"
             ]
            ],
            "type": "histogram2d"
           }
          ],
          "histogram2dcontour": [
           {
            "colorbar": {
             "outlinewidth": 0,
             "ticks": ""
            },
            "colorscale": [
             [
              0,
              "#0d0887"
             ],
             [
              0.1111111111111111,
              "#46039f"
             ],
             [
              0.2222222222222222,
              "#7201a8"
             ],
             [
              0.3333333333333333,
              "#9c179e"
             ],
             [
              0.4444444444444444,
              "#bd3786"
             ],
             [
              0.5555555555555556,
              "#d8576b"
             ],
             [
              0.6666666666666666,
              "#ed7953"
             ],
             [
              0.7777777777777778,
              "#fb9f3a"
             ],
             [
              0.8888888888888888,
              "#fdca26"
             ],
             [
              1,
              "#f0f921"
             ]
            ],
            "type": "histogram2dcontour"
           }
          ],
          "mesh3d": [
           {
            "colorbar": {
             "outlinewidth": 0,
             "ticks": ""
            },
            "type": "mesh3d"
           }
          ],
          "parcoords": [
           {
            "line": {
             "colorbar": {
              "outlinewidth": 0,
              "ticks": ""
             }
            },
            "type": "parcoords"
           }
          ],
          "pie": [
           {
            "automargin": true,
            "type": "pie"
           }
          ],
          "scatter": [
           {
            "fillpattern": {
             "fillmode": "overlay",
             "size": 10,
             "solidity": 0.2
            },
            "type": "scatter"
           }
          ],
          "scatter3d": [
           {
            "line": {
             "colorbar": {
              "outlinewidth": 0,
              "ticks": ""
             }
            },
            "marker": {
             "colorbar": {
              "outlinewidth": 0,
              "ticks": ""
             }
            },
            "type": "scatter3d"
           }
          ],
          "scattercarpet": [
           {
            "marker": {
             "colorbar": {
              "outlinewidth": 0,
              "ticks": ""
             }
            },
            "type": "scattercarpet"
           }
          ],
          "scattergeo": [
           {
            "marker": {
             "colorbar": {
              "outlinewidth": 0,
              "ticks": ""
             }
            },
            "type": "scattergeo"
           }
          ],
          "scattergl": [
           {
            "marker": {
             "colorbar": {
              "outlinewidth": 0,
              "ticks": ""
             }
            },
            "type": "scattergl"
           }
          ],
          "scattermap": [
           {
            "marker": {
             "colorbar": {
              "outlinewidth": 0,
              "ticks": ""
             }
            },
            "type": "scattermap"
           }
          ],
          "scattermapbox": [
           {
            "marker": {
             "colorbar": {
              "outlinewidth": 0,
              "ticks": ""
             }
            },
            "type": "scattermapbox"
           }
          ],
          "scatterpolar": [
           {
            "marker": {
             "colorbar": {
              "outlinewidth": 0,
              "ticks": ""
             }
            },
            "type": "scatterpolar"
           }
          ],
          "scatterpolargl": [
           {
            "marker": {
             "colorbar": {
              "outlinewidth": 0,
              "ticks": ""
             }
            },
            "type": "scatterpolargl"
           }
          ],
          "scatterternary": [
           {
            "marker": {
             "colorbar": {
              "outlinewidth": 0,
              "ticks": ""
             }
            },
            "type": "scatterternary"
           }
          ],
          "surface": [
           {
            "colorbar": {
             "outlinewidth": 0,
             "ticks": ""
            },
            "colorscale": [
             [
              0,
              "#0d0887"
             ],
             [
              0.1111111111111111,
              "#46039f"
             ],
             [
              0.2222222222222222,
              "#7201a8"
             ],
             [
              0.3333333333333333,
              "#9c179e"
             ],
             [
              0.4444444444444444,
              "#bd3786"
             ],
             [
              0.5555555555555556,
              "#d8576b"
             ],
             [
              0.6666666666666666,
              "#ed7953"
             ],
             [
              0.7777777777777778,
              "#fb9f3a"
             ],
             [
              0.8888888888888888,
              "#fdca26"
             ],
             [
              1,
              "#f0f921"
             ]
            ],
            "type": "surface"
           }
          ],
          "table": [
           {
            "cells": {
             "fill": {
              "color": "#EBF0F8"
             },
             "line": {
              "color": "white"
             }
            },
            "header": {
             "fill": {
              "color": "#C8D4E3"
             },
             "line": {
              "color": "white"
             }
            },
            "type": "table"
           }
          ]
         },
         "layout": {
          "annotationdefaults": {
           "arrowcolor": "#2a3f5f",
           "arrowhead": 0,
           "arrowwidth": 1
          },
          "autotypenumbers": "strict",
          "coloraxis": {
           "colorbar": {
            "outlinewidth": 0,
            "ticks": ""
           }
          },
          "colorscale": {
           "diverging": [
            [
             0,
             "#8e0152"
            ],
            [
             0.1,
             "#c51b7d"
            ],
            [
             0.2,
             "#de77ae"
            ],
            [
             0.3,
             "#f1b6da"
            ],
            [
             0.4,
             "#fde0ef"
            ],
            [
             0.5,
             "#f7f7f7"
            ],
            [
             0.6,
             "#e6f5d0"
            ],
            [
             0.7,
             "#b8e186"
            ],
            [
             0.8,
             "#7fbc41"
            ],
            [
             0.9,
             "#4d9221"
            ],
            [
             1,
             "#276419"
            ]
           ],
           "sequential": [
            [
             0,
             "#0d0887"
            ],
            [
             0.1111111111111111,
             "#46039f"
            ],
            [
             0.2222222222222222,
             "#7201a8"
            ],
            [
             0.3333333333333333,
             "#9c179e"
            ],
            [
             0.4444444444444444,
             "#bd3786"
            ],
            [
             0.5555555555555556,
             "#d8576b"
            ],
            [
             0.6666666666666666,
             "#ed7953"
            ],
            [
             0.7777777777777778,
             "#fb9f3a"
            ],
            [
             0.8888888888888888,
             "#fdca26"
            ],
            [
             1,
             "#f0f921"
            ]
           ],
           "sequentialminus": [
            [
             0,
             "#0d0887"
            ],
            [
             0.1111111111111111,
             "#46039f"
            ],
            [
             0.2222222222222222,
             "#7201a8"
            ],
            [
             0.3333333333333333,
             "#9c179e"
            ],
            [
             0.4444444444444444,
             "#bd3786"
            ],
            [
             0.5555555555555556,
             "#d8576b"
            ],
            [
             0.6666666666666666,
             "#ed7953"
            ],
            [
             0.7777777777777778,
             "#fb9f3a"
            ],
            [
             0.8888888888888888,
             "#fdca26"
            ],
            [
             1,
             "#f0f921"
            ]
           ]
          },
          "colorway": [
           "#636efa",
           "#EF553B",
           "#00cc96",
           "#ab63fa",
           "#FFA15A",
           "#19d3f3",
           "#FF6692",
           "#B6E880",
           "#FF97FF",
           "#FECB52"
          ],
          "font": {
           "color": "#2a3f5f"
          },
          "geo": {
           "bgcolor": "white",
           "lakecolor": "white",
           "landcolor": "#E5ECF6",
           "showlakes": true,
           "showland": true,
           "subunitcolor": "white"
          },
          "hoverlabel": {
           "align": "left"
          },
          "hovermode": "closest",
          "mapbox": {
           "style": "light"
          },
          "paper_bgcolor": "white",
          "plot_bgcolor": "#E5ECF6",
          "polar": {
           "angularaxis": {
            "gridcolor": "white",
            "linecolor": "white",
            "ticks": ""
           },
           "bgcolor": "#E5ECF6",
           "radialaxis": {
            "gridcolor": "white",
            "linecolor": "white",
            "ticks": ""
           }
          },
          "scene": {
           "xaxis": {
            "backgroundcolor": "#E5ECF6",
            "gridcolor": "white",
            "gridwidth": 2,
            "linecolor": "white",
            "showbackground": true,
            "ticks": "",
            "zerolinecolor": "white"
           },
           "yaxis": {
            "backgroundcolor": "#E5ECF6",
            "gridcolor": "white",
            "gridwidth": 2,
            "linecolor": "white",
            "showbackground": true,
            "ticks": "",
            "zerolinecolor": "white"
           },
           "zaxis": {
            "backgroundcolor": "#E5ECF6",
            "gridcolor": "white",
            "gridwidth": 2,
            "linecolor": "white",
            "showbackground": true,
            "ticks": "",
            "zerolinecolor": "white"
           }
          },
          "shapedefaults": {
           "line": {
            "color": "#2a3f5f"
           }
          },
          "ternary": {
           "aaxis": {
            "gridcolor": "white",
            "linecolor": "white",
            "ticks": ""
           },
           "baxis": {
            "gridcolor": "white",
            "linecolor": "white",
            "ticks": ""
           },
           "bgcolor": "#E5ECF6",
           "caxis": {
            "gridcolor": "white",
            "linecolor": "white",
            "ticks": ""
           }
          },
          "title": {
           "x": 0.05
          },
          "xaxis": {
           "automargin": true,
           "gridcolor": "white",
           "linecolor": "white",
           "ticks": "",
           "title": {
            "standoff": 15
           },
           "zerolinecolor": "white",
           "zerolinewidth": 2
          },
          "yaxis": {
           "automargin": true,
           "gridcolor": "white",
           "linecolor": "white",
           "ticks": "",
           "title": {
            "standoff": 15
           },
           "zerolinecolor": "white",
           "zerolinewidth": 2
          }
         }
        },
        "title": {
         "text": "Stacked Bar Chart by Contract and Churn Label"
        },
        "xaxis": {
         "anchor": "y",
         "domain": [
          0,
          1
         ],
         "tickformat": ".0%",
         "title": {
          "text": "Percentage"
         }
        },
        "yaxis": {
         "anchor": "x",
         "domain": [
          0,
          1
         ],
         "title": {
          "text": "Contract"
         }
        }
       }
      }
     },
     "metadata": {},
     "output_type": "display_data"
    }
   ],
   "source": [
    "fig = px.bar(contract_churn, x='normalized_count', y='Contract', color='Churn Label',\n",
    "             title='Stacked Bar Chart by Contract and Churn Label', text= 'normalized_count',\n",
    "             labels={'normalized_count': 'Percentage'})\n",
    "fig.update_xaxes(tickformat=\".0%\")\n",
    "fig.show()"
   ]
  },
  {
   "cell_type": "markdown",
   "id": "e425b028",
   "metadata": {},
   "source": [
    "Month-to-month contracts clearly have the highest churn rate (43%) while those with one year (11%) or two year (3%) contracts are far less likely to churn. Longer contracts clearly provide stability and stronger customer retention."
   ]
  },
  {
   "cell_type": "code",
   "execution_count": 96,
   "id": "8851f0a2",
   "metadata": {},
   "outputs": [
    {
     "data": {
      "application/vnd.plotly.v1+json": {
       "config": {
        "plotlyServerURL": "https://plot.ly"
       },
       "data": [
        {
         "domain": {
          "x": [
           0,
           0.49
          ],
          "y": [
           0,
           1
          ]
         },
         "hovertemplate": "Churn Label=No<br>Contract=%{label}<br>CustomerID=%{value}<extra></extra>",
         "labels": [
          "Month-to-month",
          "One year",
          "Two year"
         ],
         "legendgroup": "",
         "name": "",
         "showlegend": true,
         "type": "pie",
         "values": {
          "bdata": "rAgbBW8G",
          "dtype": "i2"
         }
        },
        {
         "domain": {
          "x": [
           0.51,
           1
          ],
          "y": [
           0,
           1
          ]
         },
         "hovertemplate": "Churn Label=Yes<br>Contract=%{label}<br>CustomerID=%{value}<extra></extra>",
         "labels": [
          "Month-to-month",
          "One year",
          "Two year"
         ],
         "legendgroup": "",
         "name": "",
         "showlegend": true,
         "type": "pie",
         "values": {
          "bdata": "dwamADAA",
          "dtype": "i2"
         }
        }
       ],
       "layout": {
        "annotations": [
         {
          "font": {},
          "showarrow": false,
          "text": "Churn Label=No",
          "x": 0.245,
          "xanchor": "center",
          "xref": "paper",
          "y": 1,
          "yanchor": "bottom",
          "yref": "paper"
         },
         {
          "font": {},
          "showarrow": false,
          "text": "Churn Label=Yes",
          "x": 0.755,
          "xanchor": "center",
          "xref": "paper",
          "y": 1,
          "yanchor": "bottom",
          "yref": "paper"
         }
        ],
        "legend": {
         "tracegroupgap": 0
        },
        "template": {
         "data": {
          "bar": [
           {
            "error_x": {
             "color": "#2a3f5f"
            },
            "error_y": {
             "color": "#2a3f5f"
            },
            "marker": {
             "line": {
              "color": "#E5ECF6",
              "width": 0.5
             },
             "pattern": {
              "fillmode": "overlay",
              "size": 10,
              "solidity": 0.2
             }
            },
            "type": "bar"
           }
          ],
          "barpolar": [
           {
            "marker": {
             "line": {
              "color": "#E5ECF6",
              "width": 0.5
             },
             "pattern": {
              "fillmode": "overlay",
              "size": 10,
              "solidity": 0.2
             }
            },
            "type": "barpolar"
           }
          ],
          "carpet": [
           {
            "aaxis": {
             "endlinecolor": "#2a3f5f",
             "gridcolor": "white",
             "linecolor": "white",
             "minorgridcolor": "white",
             "startlinecolor": "#2a3f5f"
            },
            "baxis": {
             "endlinecolor": "#2a3f5f",
             "gridcolor": "white",
             "linecolor": "white",
             "minorgridcolor": "white",
             "startlinecolor": "#2a3f5f"
            },
            "type": "carpet"
           }
          ],
          "choropleth": [
           {
            "colorbar": {
             "outlinewidth": 0,
             "ticks": ""
            },
            "type": "choropleth"
           }
          ],
          "contour": [
           {
            "colorbar": {
             "outlinewidth": 0,
             "ticks": ""
            },
            "colorscale": [
             [
              0,
              "#0d0887"
             ],
             [
              0.1111111111111111,
              "#46039f"
             ],
             [
              0.2222222222222222,
              "#7201a8"
             ],
             [
              0.3333333333333333,
              "#9c179e"
             ],
             [
              0.4444444444444444,
              "#bd3786"
             ],
             [
              0.5555555555555556,
              "#d8576b"
             ],
             [
              0.6666666666666666,
              "#ed7953"
             ],
             [
              0.7777777777777778,
              "#fb9f3a"
             ],
             [
              0.8888888888888888,
              "#fdca26"
             ],
             [
              1,
              "#f0f921"
             ]
            ],
            "type": "contour"
           }
          ],
          "contourcarpet": [
           {
            "colorbar": {
             "outlinewidth": 0,
             "ticks": ""
            },
            "type": "contourcarpet"
           }
          ],
          "heatmap": [
           {
            "colorbar": {
             "outlinewidth": 0,
             "ticks": ""
            },
            "colorscale": [
             [
              0,
              "#0d0887"
             ],
             [
              0.1111111111111111,
              "#46039f"
             ],
             [
              0.2222222222222222,
              "#7201a8"
             ],
             [
              0.3333333333333333,
              "#9c179e"
             ],
             [
              0.4444444444444444,
              "#bd3786"
             ],
             [
              0.5555555555555556,
              "#d8576b"
             ],
             [
              0.6666666666666666,
              "#ed7953"
             ],
             [
              0.7777777777777778,
              "#fb9f3a"
             ],
             [
              0.8888888888888888,
              "#fdca26"
             ],
             [
              1,
              "#f0f921"
             ]
            ],
            "type": "heatmap"
           }
          ],
          "histogram": [
           {
            "marker": {
             "pattern": {
              "fillmode": "overlay",
              "size": 10,
              "solidity": 0.2
             }
            },
            "type": "histogram"
           }
          ],
          "histogram2d": [
           {
            "colorbar": {
             "outlinewidth": 0,
             "ticks": ""
            },
            "colorscale": [
             [
              0,
              "#0d0887"
             ],
             [
              0.1111111111111111,
              "#46039f"
             ],
             [
              0.2222222222222222,
              "#7201a8"
             ],
             [
              0.3333333333333333,
              "#9c179e"
             ],
             [
              0.4444444444444444,
              "#bd3786"
             ],
             [
              0.5555555555555556,
              "#d8576b"
             ],
             [
              0.6666666666666666,
              "#ed7953"
             ],
             [
              0.7777777777777778,
              "#fb9f3a"
             ],
             [
              0.8888888888888888,
              "#fdca26"
             ],
             [
              1,
              "#f0f921"
             ]
            ],
            "type": "histogram2d"
           }
          ],
          "histogram2dcontour": [
           {
            "colorbar": {
             "outlinewidth": 0,
             "ticks": ""
            },
            "colorscale": [
             [
              0,
              "#0d0887"
             ],
             [
              0.1111111111111111,
              "#46039f"
             ],
             [
              0.2222222222222222,
              "#7201a8"
             ],
             [
              0.3333333333333333,
              "#9c179e"
             ],
             [
              0.4444444444444444,
              "#bd3786"
             ],
             [
              0.5555555555555556,
              "#d8576b"
             ],
             [
              0.6666666666666666,
              "#ed7953"
             ],
             [
              0.7777777777777778,
              "#fb9f3a"
             ],
             [
              0.8888888888888888,
              "#fdca26"
             ],
             [
              1,
              "#f0f921"
             ]
            ],
            "type": "histogram2dcontour"
           }
          ],
          "mesh3d": [
           {
            "colorbar": {
             "outlinewidth": 0,
             "ticks": ""
            },
            "type": "mesh3d"
           }
          ],
          "parcoords": [
           {
            "line": {
             "colorbar": {
              "outlinewidth": 0,
              "ticks": ""
             }
            },
            "type": "parcoords"
           }
          ],
          "pie": [
           {
            "automargin": true,
            "type": "pie"
           }
          ],
          "scatter": [
           {
            "fillpattern": {
             "fillmode": "overlay",
             "size": 10,
             "solidity": 0.2
            },
            "type": "scatter"
           }
          ],
          "scatter3d": [
           {
            "line": {
             "colorbar": {
              "outlinewidth": 0,
              "ticks": ""
             }
            },
            "marker": {
             "colorbar": {
              "outlinewidth": 0,
              "ticks": ""
             }
            },
            "type": "scatter3d"
           }
          ],
          "scattercarpet": [
           {
            "marker": {
             "colorbar": {
              "outlinewidth": 0,
              "ticks": ""
             }
            },
            "type": "scattercarpet"
           }
          ],
          "scattergeo": [
           {
            "marker": {
             "colorbar": {
              "outlinewidth": 0,
              "ticks": ""
             }
            },
            "type": "scattergeo"
           }
          ],
          "scattergl": [
           {
            "marker": {
             "colorbar": {
              "outlinewidth": 0,
              "ticks": ""
             }
            },
            "type": "scattergl"
           }
          ],
          "scattermap": [
           {
            "marker": {
             "colorbar": {
              "outlinewidth": 0,
              "ticks": ""
             }
            },
            "type": "scattermap"
           }
          ],
          "scattermapbox": [
           {
            "marker": {
             "colorbar": {
              "outlinewidth": 0,
              "ticks": ""
             }
            },
            "type": "scattermapbox"
           }
          ],
          "scatterpolar": [
           {
            "marker": {
             "colorbar": {
              "outlinewidth": 0,
              "ticks": ""
             }
            },
            "type": "scatterpolar"
           }
          ],
          "scatterpolargl": [
           {
            "marker": {
             "colorbar": {
              "outlinewidth": 0,
              "ticks": ""
             }
            },
            "type": "scatterpolargl"
           }
          ],
          "scatterternary": [
           {
            "marker": {
             "colorbar": {
              "outlinewidth": 0,
              "ticks": ""
             }
            },
            "type": "scatterternary"
           }
          ],
          "surface": [
           {
            "colorbar": {
             "outlinewidth": 0,
             "ticks": ""
            },
            "colorscale": [
             [
              0,
              "#0d0887"
             ],
             [
              0.1111111111111111,
              "#46039f"
             ],
             [
              0.2222222222222222,
              "#7201a8"
             ],
             [
              0.3333333333333333,
              "#9c179e"
             ],
             [
              0.4444444444444444,
              "#bd3786"
             ],
             [
              0.5555555555555556,
              "#d8576b"
             ],
             [
              0.6666666666666666,
              "#ed7953"
             ],
             [
              0.7777777777777778,
              "#fb9f3a"
             ],
             [
              0.8888888888888888,
              "#fdca26"
             ],
             [
              1,
              "#f0f921"
             ]
            ],
            "type": "surface"
           }
          ],
          "table": [
           {
            "cells": {
             "fill": {
              "color": "#EBF0F8"
             },
             "line": {
              "color": "white"
             }
            },
            "header": {
             "fill": {
              "color": "#C8D4E3"
             },
             "line": {
              "color": "white"
             }
            },
            "type": "table"
           }
          ]
         },
         "layout": {
          "annotationdefaults": {
           "arrowcolor": "#2a3f5f",
           "arrowhead": 0,
           "arrowwidth": 1
          },
          "autotypenumbers": "strict",
          "coloraxis": {
           "colorbar": {
            "outlinewidth": 0,
            "ticks": ""
           }
          },
          "colorscale": {
           "diverging": [
            [
             0,
             "#8e0152"
            ],
            [
             0.1,
             "#c51b7d"
            ],
            [
             0.2,
             "#de77ae"
            ],
            [
             0.3,
             "#f1b6da"
            ],
            [
             0.4,
             "#fde0ef"
            ],
            [
             0.5,
             "#f7f7f7"
            ],
            [
             0.6,
             "#e6f5d0"
            ],
            [
             0.7,
             "#b8e186"
            ],
            [
             0.8,
             "#7fbc41"
            ],
            [
             0.9,
             "#4d9221"
            ],
            [
             1,
             "#276419"
            ]
           ],
           "sequential": [
            [
             0,
             "#0d0887"
            ],
            [
             0.1111111111111111,
             "#46039f"
            ],
            [
             0.2222222222222222,
             "#7201a8"
            ],
            [
             0.3333333333333333,
             "#9c179e"
            ],
            [
             0.4444444444444444,
             "#bd3786"
            ],
            [
             0.5555555555555556,
             "#d8576b"
            ],
            [
             0.6666666666666666,
             "#ed7953"
            ],
            [
             0.7777777777777778,
             "#fb9f3a"
            ],
            [
             0.8888888888888888,
             "#fdca26"
            ],
            [
             1,
             "#f0f921"
            ]
           ],
           "sequentialminus": [
            [
             0,
             "#0d0887"
            ],
            [
             0.1111111111111111,
             "#46039f"
            ],
            [
             0.2222222222222222,
             "#7201a8"
            ],
            [
             0.3333333333333333,
             "#9c179e"
            ],
            [
             0.4444444444444444,
             "#bd3786"
            ],
            [
             0.5555555555555556,
             "#d8576b"
            ],
            [
             0.6666666666666666,
             "#ed7953"
            ],
            [
             0.7777777777777778,
             "#fb9f3a"
            ],
            [
             0.8888888888888888,
             "#fdca26"
            ],
            [
             1,
             "#f0f921"
            ]
           ]
          },
          "colorway": [
           "#636efa",
           "#EF553B",
           "#00cc96",
           "#ab63fa",
           "#FFA15A",
           "#19d3f3",
           "#FF6692",
           "#B6E880",
           "#FF97FF",
           "#FECB52"
          ],
          "font": {
           "color": "#2a3f5f"
          },
          "geo": {
           "bgcolor": "white",
           "lakecolor": "white",
           "landcolor": "#E5ECF6",
           "showlakes": true,
           "showland": true,
           "subunitcolor": "white"
          },
          "hoverlabel": {
           "align": "left"
          },
          "hovermode": "closest",
          "mapbox": {
           "style": "light"
          },
          "paper_bgcolor": "white",
          "plot_bgcolor": "#E5ECF6",
          "polar": {
           "angularaxis": {
            "gridcolor": "white",
            "linecolor": "white",
            "ticks": ""
           },
           "bgcolor": "#E5ECF6",
           "radialaxis": {
            "gridcolor": "white",
            "linecolor": "white",
            "ticks": ""
           }
          },
          "scene": {
           "xaxis": {
            "backgroundcolor": "#E5ECF6",
            "gridcolor": "white",
            "gridwidth": 2,
            "linecolor": "white",
            "showbackground": true,
            "ticks": "",
            "zerolinecolor": "white"
           },
           "yaxis": {
            "backgroundcolor": "#E5ECF6",
            "gridcolor": "white",
            "gridwidth": 2,
            "linecolor": "white",
            "showbackground": true,
            "ticks": "",
            "zerolinecolor": "white"
           },
           "zaxis": {
            "backgroundcolor": "#E5ECF6",
            "gridcolor": "white",
            "gridwidth": 2,
            "linecolor": "white",
            "showbackground": true,
            "ticks": "",
            "zerolinecolor": "white"
           }
          },
          "shapedefaults": {
           "line": {
            "color": "#2a3f5f"
           }
          },
          "ternary": {
           "aaxis": {
            "gridcolor": "white",
            "linecolor": "white",
            "ticks": ""
           },
           "baxis": {
            "gridcolor": "white",
            "linecolor": "white",
            "ticks": ""
           },
           "bgcolor": "#E5ECF6",
           "caxis": {
            "gridcolor": "white",
            "linecolor": "white",
            "ticks": ""
           }
          },
          "title": {
           "x": 0.05
          },
          "xaxis": {
           "automargin": true,
           "gridcolor": "white",
           "linecolor": "white",
           "ticks": "",
           "title": {
            "standoff": 15
           },
           "zerolinecolor": "white",
           "zerolinewidth": 2
          },
          "yaxis": {
           "automargin": true,
           "gridcolor": "white",
           "linecolor": "white",
           "ticks": "",
           "title": {
            "standoff": 15
           },
           "zerolinecolor": "white",
           "zerolinewidth": 2
          }
         }
        },
        "title": {
         "text": "Churn rate by contract type"
        }
       }
      }
     },
     "metadata": {},
     "output_type": "display_data"
    }
   ],
   "source": [
    "fig = px.pie(df.groupby(['Contract','Churn Label'])['CustomerID'].count().reset_index(), \n",
    "             values='CustomerID', \n",
    "            names='Contract',\n",
    "            facet_col = 'Churn Label',\n",
    "            title = 'Churn rate by contract type')\n",
    "            \n",
    "fig.show()"
   ]
  },
  {
   "cell_type": "markdown",
   "id": "56962120",
   "metadata": {},
   "source": [
    "The pie charts break down churners and non-churners separately. Among non-churners, customers are spread across all contract types. In contrast, nearly 89% of churners are on month-to-month contracts, confirming that short term commitments are a very likely cause for churn."
   ]
  },
  {
   "cell_type": "code",
   "execution_count": null,
   "id": "75ea2009",
   "metadata": {},
   "outputs": [],
   "source": []
  }
 ],
 "metadata": {
  "kernelspec": {
   "display_name": "Python 3",
   "language": "python",
   "name": "python3"
  },
  "language_info": {
   "codemirror_mode": {
    "name": "ipython",
    "version": 3
   },
   "file_extension": ".py",
   "mimetype": "text/x-python",
   "name": "python",
   "nbconvert_exporter": "python",
   "pygments_lexer": "ipython3",
   "version": "3.11.3"
  }
 },
 "nbformat": 4,
 "nbformat_minor": 5
}
